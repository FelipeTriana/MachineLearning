{
  "nbformat": 4,
  "nbformat_minor": 0,
  "metadata": {
    "colab": {
      "name": "lab3_parte2_solved.ipynb",
      "provenance": [],
      "collapsed_sections": [],
      "include_colab_link": true
    },
    "kernelspec": {
      "display_name": "Python 3",
      "language": "python",
      "name": "python3"
    },
    "language_info": {
      "codemirror_mode": {
        "name": "ipython",
        "version": 3
      },
      "file_extension": ".py",
      "mimetype": "text/x-python",
      "name": "python",
      "nbconvert_exporter": "python",
      "pygments_lexer": "ipython3",
      "version": "3.6.9"
    }
  },
  "cells": [
    {
      "cell_type": "markdown",
      "metadata": {
        "id": "view-in-github",
        "colab_type": "text"
      },
      "source": [
        "<a href=\"https://colab.research.google.com/github/FelipeTriana/MachineLearning/blob/master/lab3_parte2_solved.ipynb\" target=\"_parent\"><img src=\"https://colab.research.google.com/assets/colab-badge.svg\" alt=\"Open In Colab\"/></a>"
      ]
    },
    {
      "cell_type": "markdown",
      "metadata": {
        "id": "HKt8AdJpR0Ly"
      },
      "source": [
        "**Recuerda que una vez abierto, Da clic en \"Copiar en Drive\", de lo contrario no podras almacenar tu progreso**\n",
        "\n",
        "Nota: no olvide ir ejecutando las celdas de código de arriba hacia abajo para que no tenga errores de importación de librerías o por falta de definición de variables."
      ]
    },
    {
      "cell_type": "code",
      "metadata": {
        "id": "-x8cOa8TR0Lz",
        "colab": {
          "base_uri": "https://localhost:8080/"
        },
        "outputId": "00fdc574-0eb0-4e76-ff00-8eb648265400"
      },
      "source": [
        "#configuración del laboratorio\n",
        "# Ejecuta esta celda!\n",
        "%load_ext autoreload\n",
        "%autoreload 2\n",
        "#for local \n",
        "#import sys ; sys.path.append('../commons/utils/')\n",
        "!wget https://raw.githubusercontent.com/jdariasl/ML_2020/master/Labs/commons/utils/general.py -O general.py --no-cache\n",
        "from general import configure_lab3\n",
        "configure_lab3()\n",
        "from lab3 import *\n",
        "GRADER = part_2()"
      ],
      "execution_count": null,
      "outputs": [
        {
          "output_type": "stream",
          "text": [
            "The autoreload extension is already loaded. To reload it, use:\n",
            "  %reload_ext autoreload\n",
            "--2021-08-20 06:01:53--  https://raw.githubusercontent.com/jdariasl/ML_2020/master/Labs/commons/utils/general.py\n",
            "Resolving raw.githubusercontent.com (raw.githubusercontent.com)... 185.199.108.133, 185.199.109.133, 185.199.110.133, ...\n",
            "Connecting to raw.githubusercontent.com (raw.githubusercontent.com)|185.199.108.133|:443... connected.\n",
            "HTTP request sent, awaiting response... 200 OK\n",
            "Length: 14633 (14K) [text/plain]\n",
            "Saving to: ‘general.py’\n",
            "\n",
            "general.py          100%[===================>]  14.29K  --.-KB/s    in 0.001s  \n",
            "\n",
            "2021-08-20 06:01:53 (24.6 MB/s) - ‘general.py’ saved [14633/14633]\n",
            "\n",
            "lab configuration started\n",
            "installing libraries\n",
            "downloading files\n",
            "lab configured\n"
          ],
          "name": "stdout"
        }
      ]
    },
    {
      "cell_type": "markdown",
      "metadata": {
        "id": "p-8jBq_KR0L1"
      },
      "source": [
        "# Laboratorio 3 - Parte 2. Comparación de metodos basados en árboles"
      ]
    },
    {
      "cell_type": "markdown",
      "metadata": {
        "id": "RkbHQloLR0L2"
      },
      "source": [
        "A continuación se leen los datos de un problema de clasificación. El problema corresponde a la clasifiación de dígitos escritos a mano, el cual fue abordado en el laboratorio anterior. Usaremos únicamente 4 de las 10 clases disponibles. Los datos fueron preprocesados para reducir el número de características. La técnica usada será analizada más adelante en el curso."
      ]
    },
    {
      "cell_type": "code",
      "metadata": {
        "id": "Hwo-dBVfR0L2"
      },
      "source": [
        "digits = load_digits(n_class=5)\n",
        "#--------- preprocesamiento--------------------\n",
        "pca = PCA(0.99, whiten=True)\n",
        "data = pca.fit_transform(digits.data)\n",
        "#---------- Datos a usar ----------------------\n",
        "x = data\n",
        "y = digits.target"
      ],
      "execution_count": null,
      "outputs": []
    },
    {
      "cell_type": "markdown",
      "metadata": {
        "id": "tGgD-28CR0L4"
      },
      "source": [
        "### Ejercicio 1 Experimentos con Arboles de decisión"
      ]
    },
    {
      "cell_type": "markdown",
      "metadata": {
        "id": "YXpaZfqCR0L4"
      },
      "source": [
        "Debe consultar todo lo relacionado con la creación, entrenamiento y uso en predicción de este modelo usando la librería scikit-learn. Consultar aquí: http://scikit-learn.org/stable/modules/generated/sklearn.tree.DecisionTreeClassifier.html.\n",
        "\n",
        "En el notebook, ya se encuentra cargada la libreria:\n",
        "\n",
        "```python\n",
        "from sklearn.tree import DecisionTreeClassifier\n",
        "```\n"
      ]
    },
    {
      "cell_type": "code",
      "metadata": {
        "cellView": "form",
        "id": "6HczNlx5R0L5"
      },
      "source": [
        "#@title Pregunta Abierta\n",
        "#@markdown  ¿Cuáles criterios para detener el crecimiento del árbol o de los nodos están disponibles en la librería?\n",
        "respuesta_1 = \"\\\"Podemos usar varios criterios como:  Profundidad maxima del arbol(max_depth), un umbral de parada temprana en el crecimiento de los arboles, tal que un nodo se dividire si su impureza esta por encima del umbral; de lo contrario, es una hoja. (min_impurity_split), minimo de muestras por nodo hoja(min_samples_leaf), el minimo de muestras para dividir un nodo interno(min_samples_split), para dividir un nodo si induce a disminucion de impureza mayor o igual al valor enviado como parametro(min_impurity_decrease), numero limitado de nodos hoja(max_leaf_nodes) \\\"\" #@param {type:\"string\"}"
      ],
      "execution_count": null,
      "outputs": []
    },
    {
      "cell_type": "code",
      "metadata": {
        "cellView": "form",
        "id": "_TuOF2vXR0L6"
      },
      "source": [
        "#@title Pregunta Abierta\n",
        "#@markdown  ¿Cuáles son los parámetros asociados con los criterios enumerados en el punto anterior?\n",
        "respuesta_2 = \"max_depth, min_impurity_split(Pero esta deprecada), min_samples_leaf, min_samples_split, min_impurity_decrease, max_leaf_nodes\" #@param {type:\"string\"}"
      ],
      "execution_count": null,
      "outputs": []
    },
    {
      "cell_type": "markdown",
      "metadata": {
        "id": "KIw79WykR0L8"
      },
      "source": [
        "En la siguiente celda se define una simulación para entrenar y validar un modelo usando los datos previamente cargados. Complete el código para usar como modelo de predicción un arbol de decisión.\n",
        "\n",
        "\n",
        "<b>Note</b> que existe una clase para modelos de clasificación y otra para modelos de regresión:\n",
        "http://scikit-learn.org/stable/modules/generated/sklearn.tree.DecisionTreeRegressor.html\n",
        "\n",
        "Vamos a tener en cuenta lo siguiente:\n",
        "1. dentro del código, ya se encuentra sugerida la metodologia de validación\n",
        "2. la función va aceptar un parametro booleano, dependiendo del valor de esta parametro, se ejecutara normalización de los datos.\n",
        "3. **hacer uso explicito del nombre del parametro que se va usar**, por ejemplo, si se requeire asignar el parametro `max_features`  debemos llamar la libreria de esta manera: `DecisionTreeClassifier(max_features = 'auto')`\n",
        "4. Vamos a configurar el arbol con la medida de impurez de entropia"
      ]
    },
    {
      "cell_type": "code",
      "metadata": {
        "id": "3lD0jyrER0L8"
      },
      "source": [
        "#ejercicio de código\n",
        "def experimentar_dt(depths,normalize, X, Y):\n",
        "    \"\"\"funcion que realiza experimentos de arboles de decision\n",
        "    depths: list[int] lista con la profundidad de arboles a experimentar\n",
        "    normalize bool: indica si se aplica normalización a los datos\n",
        "    X: matriz con las caractersiticas\n",
        "    Y: matriz de numpy con etiquetas\n",
        "    retorna: dataframe con:\n",
        "        - profunidad de los arboles\n",
        "        - eficiencia de entrenamiento\n",
        "        - desviacion de estandar eficiencia de entrenamiento\n",
        "        - eficiencia de prueba\n",
        "        - desviacion estandar eficiencia de prueba\n",
        "    \"\"\"\n",
        "    folds = 4\n",
        "    skf = StratifiedKFold(n_splits=folds)\n",
        "    resultados = pd.DataFrame()\n",
        "    idx = 0\n",
        "    for depth in depths:\n",
        "        ## para almacenar los errores intermedios\n",
        "        EficienciaTrain = []\n",
        "        EficienciaVal = []\n",
        "        for train, test in skf.split(X, Y):\n",
        "            Xtrain = X[train,:]\n",
        "            Ytrain = Y[train]\n",
        "            Xtest = X[test,:]\n",
        "            Ytest = Y[test]\n",
        "            #Normalizamos los datos\n",
        "            # si la bandera esta en True\n",
        "            if normalize:\n",
        "                scaler = StandardScaler()\n",
        "                scaler.fit(Xtrain)\n",
        "                Xtrain = scaler.transform(Xtrain)\n",
        "                Xtest = scaler.transform(Xtest)\n",
        "            #Haga el llamado a la función para crear y entrenar el modelo usando los datos de entrenamiento\n",
        "            modelo = DecisionTreeClassifier(criterion='entropy',max_depth=depth)\n",
        "            modelo = modelo.fit(Xtrain,Ytrain)\n",
        "            #predecir muestras de entrenamiento\n",
        "            Ytrain_pred = modelo.predict(Xtrain)\n",
        "            #predecir muestras de pruebas\n",
        "            Yest = modelo.predict(Xtest)\n",
        "            #Evaluamos las predicciones del modelo con los datos de test\n",
        "            EficienciaTrain.append(np.mean(Ytrain_pred.ravel() == Ytrain.ravel()))\n",
        "            EficienciaVal.append(np.mean(Yest.ravel() == Ytest.ravel()))\n",
        "\n",
        "        resultados.loc[idx,'profunidad del arbol'] = depth\n",
        "        resultados.loc[idx,'eficiencia de entrenamiento'] = np.mean(EficienciaTrain)\n",
        "        resultados.loc[idx,'desviacion estandar entrenamiento'] = np.std(EficienciaTrain)\n",
        "        resultados.loc[idx,'eficiencia de prueba'] = np.mean(EficienciaVal)\n",
        "        resultados.loc[idx,'desviacion estandar prueba'] = np.mean(EficienciaVal)\n",
        "        idx= idx +1\n",
        "        \n",
        "    return (resultados)"
      ],
      "execution_count": null,
      "outputs": []
    },
    {
      "cell_type": "code",
      "metadata": {
        "id": "B_G3OTVfR0L-",
        "colab": {
          "base_uri": "https://localhost:8080/"
        },
        "outputId": "5f8810ec-df90-40de-d86e-908c62eaf579"
      },
      "source": [
        "## la funcion que prueba tu implementacion\n",
        "GRADER.run_test(\"ejercicio1\", experimentar_dt)"
      ],
      "execution_count": null,
      "outputs": [
        {
          "output_type": "stream",
          "text": [
            "TEST EXITOSO!\n"
          ],
          "name": "stdout"
        }
      ]
    },
    {
      "cell_type": "code",
      "metadata": {
        "id": "Jf0Fe0uPR0MA",
        "colab": {
          "base_uri": "https://localhost:8080/",
          "height": 204
        },
        "outputId": "f5f6aba2-ebc1-457f-9da5-8b76e96b82c0"
      },
      "source": [
        "# Realiza los experimentos sin normalizacion\n",
        "resultados_dt_no_norm = experimentar_dt([5,10,20,30,50], False, x, y)\n",
        "resultados_dt_no_norm"
      ],
      "execution_count": null,
      "outputs": [
        {
          "output_type": "execute_result",
          "data": {
            "text/html": [
              "<div>\n",
              "<style scoped>\n",
              "    .dataframe tbody tr th:only-of-type {\n",
              "        vertical-align: middle;\n",
              "    }\n",
              "\n",
              "    .dataframe tbody tr th {\n",
              "        vertical-align: top;\n",
              "    }\n",
              "\n",
              "    .dataframe thead th {\n",
              "        text-align: right;\n",
              "    }\n",
              "</style>\n",
              "<table border=\"1\" class=\"dataframe\">\n",
              "  <thead>\n",
              "    <tr style=\"text-align: right;\">\n",
              "      <th></th>\n",
              "      <th>profunidad del arbol</th>\n",
              "      <th>eficiencia de entrenamiento</th>\n",
              "      <th>desviacion estandar entrenamiento</th>\n",
              "      <th>eficiencia de prueba</th>\n",
              "      <th>desviacion estandar prueba</th>\n",
              "    </tr>\n",
              "  </thead>\n",
              "  <tbody>\n",
              "    <tr>\n",
              "      <th>0</th>\n",
              "      <td>5.0</td>\n",
              "      <td>0.988528</td>\n",
              "      <td>0.005486</td>\n",
              "      <td>0.925629</td>\n",
              "      <td>0.925629</td>\n",
              "    </tr>\n",
              "    <tr>\n",
              "      <th>1</th>\n",
              "      <td>10.0</td>\n",
              "      <td>1.000000</td>\n",
              "      <td>0.000000</td>\n",
              "      <td>0.921205</td>\n",
              "      <td>0.921205</td>\n",
              "    </tr>\n",
              "    <tr>\n",
              "      <th>2</th>\n",
              "      <td>20.0</td>\n",
              "      <td>1.000000</td>\n",
              "      <td>0.000000</td>\n",
              "      <td>0.915649</td>\n",
              "      <td>0.915649</td>\n",
              "    </tr>\n",
              "    <tr>\n",
              "      <th>3</th>\n",
              "      <td>30.0</td>\n",
              "      <td>1.000000</td>\n",
              "      <td>0.000000</td>\n",
              "      <td>0.910093</td>\n",
              "      <td>0.910093</td>\n",
              "    </tr>\n",
              "    <tr>\n",
              "      <th>4</th>\n",
              "      <td>50.0</td>\n",
              "      <td>1.000000</td>\n",
              "      <td>0.000000</td>\n",
              "      <td>0.918977</td>\n",
              "      <td>0.918977</td>\n",
              "    </tr>\n",
              "  </tbody>\n",
              "</table>\n",
              "</div>"
            ],
            "text/plain": [
              "   profunidad del arbol  ...  desviacion estandar prueba\n",
              "0                   5.0  ...                    0.925629\n",
              "1                  10.0  ...                    0.921205\n",
              "2                  20.0  ...                    0.915649\n",
              "3                  30.0  ...                    0.910093\n",
              "4                  50.0  ...                    0.918977\n",
              "\n",
              "[5 rows x 5 columns]"
            ]
          },
          "metadata": {},
          "execution_count": 17
        }
      ]
    },
    {
      "cell_type": "code",
      "metadata": {
        "id": "dlOlgAv6R0MC",
        "colab": {
          "base_uri": "https://localhost:8080/",
          "height": 204
        },
        "outputId": "ecea81da-243f-4ecb-932f-598f484bae8b"
      },
      "source": [
        "# Realiza los experimentos con normalizacion\n",
        "resultados_dt_norm = experimentar_dt([5,10,20,30,50], True, x, y)\n",
        "resultados_dt_norm"
      ],
      "execution_count": null,
      "outputs": [
        {
          "output_type": "execute_result",
          "data": {
            "text/html": [
              "<div>\n",
              "<style scoped>\n",
              "    .dataframe tbody tr th:only-of-type {\n",
              "        vertical-align: middle;\n",
              "    }\n",
              "\n",
              "    .dataframe tbody tr th {\n",
              "        vertical-align: top;\n",
              "    }\n",
              "\n",
              "    .dataframe thead th {\n",
              "        text-align: right;\n",
              "    }\n",
              "</style>\n",
              "<table border=\"1\" class=\"dataframe\">\n",
              "  <thead>\n",
              "    <tr style=\"text-align: right;\">\n",
              "      <th></th>\n",
              "      <th>profunidad del arbol</th>\n",
              "      <th>eficiencia de entrenamiento</th>\n",
              "      <th>desviacion estandar entrenamiento</th>\n",
              "      <th>eficiencia de prueba</th>\n",
              "      <th>desviacion estandar prueba</th>\n",
              "    </tr>\n",
              "  </thead>\n",
              "  <tbody>\n",
              "    <tr>\n",
              "      <th>0</th>\n",
              "      <td>5.0</td>\n",
              "      <td>0.988528</td>\n",
              "      <td>0.005486</td>\n",
              "      <td>0.923407</td>\n",
              "      <td>0.923407</td>\n",
              "    </tr>\n",
              "    <tr>\n",
              "      <th>1</th>\n",
              "      <td>10.0</td>\n",
              "      <td>1.000000</td>\n",
              "      <td>0.000000</td>\n",
              "      <td>0.920093</td>\n",
              "      <td>0.920093</td>\n",
              "    </tr>\n",
              "    <tr>\n",
              "      <th>2</th>\n",
              "      <td>20.0</td>\n",
              "      <td>1.000000</td>\n",
              "      <td>0.000000</td>\n",
              "      <td>0.921205</td>\n",
              "      <td>0.921205</td>\n",
              "    </tr>\n",
              "    <tr>\n",
              "      <th>3</th>\n",
              "      <td>30.0</td>\n",
              "      <td>1.000000</td>\n",
              "      <td>0.000000</td>\n",
              "      <td>0.922316</td>\n",
              "      <td>0.922316</td>\n",
              "    </tr>\n",
              "    <tr>\n",
              "      <th>4</th>\n",
              "      <td>50.0</td>\n",
              "      <td>1.000000</td>\n",
              "      <td>0.000000</td>\n",
              "      <td>0.924538</td>\n",
              "      <td>0.924538</td>\n",
              "    </tr>\n",
              "  </tbody>\n",
              "</table>\n",
              "</div>"
            ],
            "text/plain": [
              "   profunidad del arbol  ...  desviacion estandar prueba\n",
              "0                   5.0  ...                    0.923407\n",
              "1                  10.0  ...                    0.920093\n",
              "2                  20.0  ...                    0.921205\n",
              "3                  30.0  ...                    0.922316\n",
              "4                  50.0  ...                    0.924538\n",
              "\n",
              "[5 rows x 5 columns]"
            ]
          },
          "metadata": {},
          "execution_count": 18
        }
      ]
    },
    {
      "cell_type": "code",
      "metadata": {
        "cellView": "form",
        "id": "KUyxDrwVR0ME"
      },
      "source": [
        "#@title Pregunta Abierta\n",
        "#@markdown  ¿Tiene algún efecto la normalización o estándarización de las variables en el desempeño del modelo de árboles de decisión? Justifique.   \n",
        "respuesta_3 = \"No se percibe ning\\xFAn efecto apreciable. Esto se debe a que los modelos de arboles trabajan de forma recursiva en la toma de decisiones realizando comparaciones sobre las variables que normalizadas o no arrojaran el mismo resultado\" #@param {type:\"string\"}"
      ],
      "execution_count": null,
      "outputs": []
    },
    {
      "cell_type": "markdown",
      "metadata": {
        "id": "q3sPp3OoR0MF"
      },
      "source": [
        "### Ejercicio 2 Experimentos con Random Forest\n",
        "\n",
        "En la siguiente celda se define una simulación para entrenar y validar un modelo usando los datos previamente cargados. Complete el código para usar como modelo de predicción un Random Forest. Debe consultar todo lo relacionado con la creación, entrenamiento y uso en predicción de este modelo usando la librería scikit-learn. Consultar aquí: http://scikit-learn.org/stable/modules/generated/sklearn.ensemble.RandomForestClassifier.html.\n",
        "\n",
        "En el notebook, ya se encuentra cargada la libreria:\n",
        "\n",
        "```python\n",
        "from sklearn.ensemble import RandomForestClassifier\n",
        "\n",
        "```\n",
        "\n",
        "<b>Note</b> que al igual que en el caso anterior, existe una clase para modelos de clasificación y otra para modelos de regresión: http://scikit-learn.org/stable/modules/generated/sklearn.ensemble.RandomForestRegressor.html\n",
        "\n",
        "**Recordar hacer uso explicito del nombre del parametro que se va usar**, por ejemplo, si se requiere asignar el parametro `criterion`  debemos llamar la libreria  de esta manera: `RandomForestClassifier(criterion = 'gini')`.\n",
        "\n",
        "Para nuestros experimentos vamos a configurar el RF para que el mínimo de muestras para considerar un nodo como hoja sea de 2."
      ]
    },
    {
      "cell_type": "code",
      "metadata": {
        "id": "TMfYwB1VR0MH"
      },
      "source": [
        "#ejercicio de código\n",
        "def experimentar_rf(num_trees,numero_de_variables, X, Y):\n",
        "    \"\"\"funcion que realiza experimentos de random forest\n",
        "    num_trees: list[int]: lista con el número de arboles usado para el RF\n",
        "    numero_de_variables list[int]: lista con variables para la selección del mejor umbral en cada nodo \n",
        "    X: matriz con las caractersiticas\n",
        "    Y: matriz de numpy con etiquetas\n",
        "    retorna: dataframe con:\n",
        "        -  numero de arboles usados\n",
        "        -  variables para la selección del mejor umbral\n",
        "        - eficiencia de entrenamiento\n",
        "        - desviacion de estandar eficiencia de entrenamiento\n",
        "        - eficiencia de prueba\n",
        "        - desviacion estandar eficiencia de prueba\n",
        "    \"\"\"\n",
        "    folds = 4\n",
        "    skf = StratifiedKFold(n_splits=folds)\n",
        "    resultados = pd.DataFrame()\n",
        "    idx = 0\n",
        "    for trees in num_trees:\n",
        "        for num_variables in numero_de_variables:\n",
        "            ## para almacenar los errores intermedios\n",
        "            EficienciaTrain = []\n",
        "            EficienciaVal = []\n",
        "            for train, test in skf.split(X, Y):\n",
        "                Xtrain = X[train,:]\n",
        "                Ytrain = Y[train]\n",
        "                Xtest = X[test,:]\n",
        "                Ytest = Y[test]\n",
        "                #Haga el llamado a la función para crear y entrenar el modelo usando los datos de entrenamiento\n",
        "                modelo = RandomForestClassifier(min_samples_leaf=2,n_estimators=trees,max_features=num_variables)\n",
        "                modelo = modelo.fit(Xtrain,Ytrain)\n",
        "                #predecir muestras de entrenamiento\n",
        "                Ytrain_pred = modelo.predict(Xtrain)\n",
        "                #predecir muestras de pruebas\n",
        "                Yest = modelo.predict(Xtest)\n",
        "                #Evaluamos las predicciones del modelo con los datos de test\n",
        "                EficienciaTrain.append(np.mean(Ytrain_pred.ravel() == Ytrain.ravel()))\n",
        "                EficienciaVal.append(np.mean(Yest.ravel() == Ytest.ravel()))\n",
        "\n",
        "            resultados.loc[idx,'número de arboles'] = trees\n",
        "            resultados.loc[idx,'variables para la selección del mejor umbral'] = num_variables\n",
        "            resultados.loc[idx,'eficiencia de entrenamiento'] = np.mean(EficienciaTrain)\n",
        "            resultados.loc[idx,'desviacion estandar entrenamiento'] = np.std(EficienciaTrain)\n",
        "            resultados.loc[idx,'eficiencia de prueba'] = np.mean(EficienciaVal)\n",
        "            resultados.loc[idx,'desviacion estandar prueba'] = np.std(EficienciaVal)\n",
        "            idx= idx +1\n",
        "        print(f\"termina para {trees} arboles\")\n",
        "        \n",
        "    return (resultados)"
      ],
      "execution_count": null,
      "outputs": []
    },
    {
      "cell_type": "code",
      "metadata": {
        "id": "9SAYXT3hR0MJ",
        "colab": {
          "base_uri": "https://localhost:8080/"
        },
        "outputId": "db6cddfd-d8d1-4325-c9c3-a78ceb3ed625"
      },
      "source": [
        "## la funcion que prueba tu implementacion\n",
        "GRADER.run_test(\"ejercicio2\", experimentar_rf)"
      ],
      "execution_count": null,
      "outputs": [
        {
          "output_type": "stream",
          "text": [
            "termina para 3 arboles\n",
            "termina para 5 arboles\n",
            "termina para 10 arboles\n",
            "TEST EXITOSO!\n"
          ],
          "name": "stdout"
        }
      ]
    },
    {
      "cell_type": "markdown",
      "metadata": {
        "id": "MS5xALz3R0ML"
      },
      "source": [
        "Una vez completado el código realice los experimentos necesarios para llenar la siguiente tabla:"
      ]
    },
    {
      "cell_type": "code",
      "metadata": {
        "id": "blO2GTUtR0ML",
        "colab": {
          "base_uri": "https://localhost:8080/",
          "height": 726
        },
        "outputId": "af254796-c0d1-473a-d082-c156c8769289"
      },
      "source": [
        "arboles = [5,10,20,50,100, 150]\n",
        "variables_seleccion = [5,20,40]\n",
        "resultados_rf = experimentar_rf(arboles, variables_seleccion, x, y)\n",
        "resultados_rf"
      ],
      "execution_count": null,
      "outputs": [
        {
          "output_type": "stream",
          "text": [
            "termina para 5 arboles\n",
            "termina para 10 arboles\n",
            "termina para 20 arboles\n",
            "termina para 50 arboles\n",
            "termina para 100 arboles\n",
            "termina para 150 arboles\n"
          ],
          "name": "stdout"
        },
        {
          "output_type": "execute_result",
          "data": {
            "text/html": [
              "<div>\n",
              "<style scoped>\n",
              "    .dataframe tbody tr th:only-of-type {\n",
              "        vertical-align: middle;\n",
              "    }\n",
              "\n",
              "    .dataframe tbody tr th {\n",
              "        vertical-align: top;\n",
              "    }\n",
              "\n",
              "    .dataframe thead th {\n",
              "        text-align: right;\n",
              "    }\n",
              "</style>\n",
              "<table border=\"1\" class=\"dataframe\">\n",
              "  <thead>\n",
              "    <tr style=\"text-align: right;\">\n",
              "      <th></th>\n",
              "      <th>número de arboles</th>\n",
              "      <th>variables para la selección del mejor umbral</th>\n",
              "      <th>eficiencia de entrenamiento</th>\n",
              "      <th>desviacion estandar entrenamiento</th>\n",
              "      <th>eficiencia de prueba</th>\n",
              "      <th>desviacion estandar prueba</th>\n",
              "    </tr>\n",
              "  </thead>\n",
              "  <tbody>\n",
              "    <tr>\n",
              "      <th>0</th>\n",
              "      <td>5.0</td>\n",
              "      <td>5.0</td>\n",
              "      <td>0.992971</td>\n",
              "      <td>0.001227</td>\n",
              "      <td>0.901219</td>\n",
              "      <td>0.009110</td>\n",
              "    </tr>\n",
              "    <tr>\n",
              "      <th>1</th>\n",
              "      <td>5.0</td>\n",
              "      <td>20.0</td>\n",
              "      <td>0.997409</td>\n",
              "      <td>0.002191</td>\n",
              "      <td>0.941200</td>\n",
              "      <td>0.016924</td>\n",
              "    </tr>\n",
              "    <tr>\n",
              "      <th>2</th>\n",
              "      <td>5.0</td>\n",
              "      <td>40.0</td>\n",
              "      <td>0.990383</td>\n",
              "      <td>0.003981</td>\n",
              "      <td>0.942262</td>\n",
              "      <td>0.013025</td>\n",
              "    </tr>\n",
              "    <tr>\n",
              "      <th>3</th>\n",
              "      <td>10.0</td>\n",
              "      <td>5.0</td>\n",
              "      <td>0.999630</td>\n",
              "      <td>0.000641</td>\n",
              "      <td>0.951160</td>\n",
              "      <td>0.005484</td>\n",
              "    </tr>\n",
              "    <tr>\n",
              "      <th>4</th>\n",
              "      <td>10.0</td>\n",
              "      <td>20.0</td>\n",
              "      <td>0.998890</td>\n",
              "      <td>0.000641</td>\n",
              "      <td>0.951160</td>\n",
              "      <td>0.012975</td>\n",
              "    </tr>\n",
              "    <tr>\n",
              "      <th>5</th>\n",
              "      <td>10.0</td>\n",
              "      <td>40.0</td>\n",
              "      <td>0.998150</td>\n",
              "      <td>0.001228</td>\n",
              "      <td>0.925649</td>\n",
              "      <td>0.017551</td>\n",
              "    </tr>\n",
              "    <tr>\n",
              "      <th>6</th>\n",
              "      <td>20.0</td>\n",
              "      <td>5.0</td>\n",
              "      <td>0.999630</td>\n",
              "      <td>0.000641</td>\n",
              "      <td>0.956696</td>\n",
              "      <td>0.011536</td>\n",
              "    </tr>\n",
              "    <tr>\n",
              "      <th>7</th>\n",
              "      <td>20.0</td>\n",
              "      <td>20.0</td>\n",
              "      <td>0.999630</td>\n",
              "      <td>0.000642</td>\n",
              "      <td>0.955619</td>\n",
              "      <td>0.020567</td>\n",
              "    </tr>\n",
              "    <tr>\n",
              "      <th>8</th>\n",
              "      <td>20.0</td>\n",
              "      <td>40.0</td>\n",
              "      <td>0.998150</td>\n",
              "      <td>0.000642</td>\n",
              "      <td>0.937847</td>\n",
              "      <td>0.011332</td>\n",
              "    </tr>\n",
              "    <tr>\n",
              "      <th>9</th>\n",
              "      <td>50.0</td>\n",
              "      <td>5.0</td>\n",
              "      <td>1.000000</td>\n",
              "      <td>0.000000</td>\n",
              "      <td>0.974469</td>\n",
              "      <td>0.008544</td>\n",
              "    </tr>\n",
              "    <tr>\n",
              "      <th>10</th>\n",
              "      <td>50.0</td>\n",
              "      <td>20.0</td>\n",
              "      <td>1.000000</td>\n",
              "      <td>0.000000</td>\n",
              "      <td>0.957822</td>\n",
              "      <td>0.008025</td>\n",
              "    </tr>\n",
              "    <tr>\n",
              "      <th>11</th>\n",
              "      <td>50.0</td>\n",
              "      <td>40.0</td>\n",
              "      <td>0.999630</td>\n",
              "      <td>0.000641</td>\n",
              "      <td>0.943407</td>\n",
              "      <td>0.006462</td>\n",
              "    </tr>\n",
              "    <tr>\n",
              "      <th>12</th>\n",
              "      <td>100.0</td>\n",
              "      <td>5.0</td>\n",
              "      <td>1.000000</td>\n",
              "      <td>0.000000</td>\n",
              "      <td>0.981146</td>\n",
              "      <td>0.012289</td>\n",
              "    </tr>\n",
              "    <tr>\n",
              "      <th>13</th>\n",
              "      <td>100.0</td>\n",
              "      <td>20.0</td>\n",
              "      <td>1.000000</td>\n",
              "      <td>0.000000</td>\n",
              "      <td>0.960039</td>\n",
              "      <td>0.005476</td>\n",
              "    </tr>\n",
              "    <tr>\n",
              "      <th>14</th>\n",
              "      <td>100.0</td>\n",
              "      <td>40.0</td>\n",
              "      <td>0.998890</td>\n",
              "      <td>0.000641</td>\n",
              "      <td>0.943392</td>\n",
              "      <td>0.014544</td>\n",
              "    </tr>\n",
              "    <tr>\n",
              "      <th>15</th>\n",
              "      <td>150.0</td>\n",
              "      <td>5.0</td>\n",
              "      <td>1.000000</td>\n",
              "      <td>0.000000</td>\n",
              "      <td>0.983358</td>\n",
              "      <td>0.011482</td>\n",
              "    </tr>\n",
              "    <tr>\n",
              "      <th>16</th>\n",
              "      <td>150.0</td>\n",
              "      <td>20.0</td>\n",
              "      <td>1.000000</td>\n",
              "      <td>0.000000</td>\n",
              "      <td>0.967822</td>\n",
              "      <td>0.005714</td>\n",
              "    </tr>\n",
              "    <tr>\n",
              "      <th>17</th>\n",
              "      <td>150.0</td>\n",
              "      <td>40.0</td>\n",
              "      <td>0.998890</td>\n",
              "      <td>0.000641</td>\n",
              "      <td>0.942286</td>\n",
              "      <td>0.005444</td>\n",
              "    </tr>\n",
              "  </tbody>\n",
              "</table>\n",
              "</div>"
            ],
            "text/plain": [
              "    número de arboles  ...  desviacion estandar prueba\n",
              "0                 5.0  ...                    0.009110\n",
              "1                 5.0  ...                    0.016924\n",
              "2                 5.0  ...                    0.013025\n",
              "3                10.0  ...                    0.005484\n",
              "4                10.0  ...                    0.012975\n",
              "5                10.0  ...                    0.017551\n",
              "6                20.0  ...                    0.011536\n",
              "7                20.0  ...                    0.020567\n",
              "8                20.0  ...                    0.011332\n",
              "9                50.0  ...                    0.008544\n",
              "10               50.0  ...                    0.008025\n",
              "11               50.0  ...                    0.006462\n",
              "12              100.0  ...                    0.012289\n",
              "13              100.0  ...                    0.005476\n",
              "14              100.0  ...                    0.014544\n",
              "15              150.0  ...                    0.011482\n",
              "16              150.0  ...                    0.005714\n",
              "17              150.0  ...                    0.005444\n",
              "\n",
              "[18 rows x 6 columns]"
            ]
          },
          "metadata": {},
          "execution_count": 22
        }
      ]
    },
    {
      "cell_type": "code",
      "metadata": {
        "id": "TmMypaf9R0MN",
        "cellView": "form"
      },
      "source": [
        "#@title Pregunta Abierta\n",
        "#@markdown ¿qué caractersitica tiene en especial los Random forest entrenados cuando la cantidad de variables para la selección del mejor umbral es igual a 40?  *desde el punto de vista teorico no de los resultados**\n",
        "respuesta_4 = \"Se estaria tomando todas las variables,  por tanto el random forest seria un desproposito ya que no estaria tomando subconjuntos de variables aleatorias que es lo que lo caracteriza\" #@param {type:\"string\"}"
      ],
      "execution_count": null,
      "outputs": []
    },
    {
      "cell_type": "markdown",
      "metadata": {
        "id": "hEACC0WkR0MO"
      },
      "source": [
        "Vamos a comparar los resultados del RF y con el DT"
      ]
    },
    {
      "cell_type": "code",
      "metadata": {
        "id": "8-UCgRrVR0MP",
        "colab": {
          "base_uri": "https://localhost:8080/"
        },
        "outputId": "02066af1-51fe-463e-f98c-b1a5a2fa50b6"
      },
      "source": [
        "print(\"diferencia promedio entre entrenamiento y prueba del DT\", \n",
        "      resultados_dt_norm['eficiencia de entrenamiento'].mean()-resultados_dt_norm['eficiencia de prueba'].mean())\n",
        "\n",
        "print(\"diferencia promedio entre entrenamiento y prueba del RF\", \n",
        "      resultados_rf['eficiencia de entrenamiento'].mean()-resultados_rf['eficiencia de prueba'].mean())"
      ],
      "execution_count": null,
      "outputs": [
        {
          "output_type": "stream",
          "text": [
            "diferencia promedio entre entrenamiento y prueba del DT 0.07539386543164639\n",
            "diferencia promedio entre entrenamiento y prueba del RF 0.047538820384387837\n"
          ],
          "name": "stdout"
        }
      ]
    },
    {
      "cell_type": "code",
      "metadata": {
        "cellView": "form",
        "id": "o_Tz9hz6R0MR"
      },
      "source": [
        "#@title Pregunta Abierta\n",
        "#@markdown ¿esperaba la diferencia que se observa entre las eficiencias entre entrenamiento y pruebas para el Random forest y el arbol de decisón? justifique \n",
        "respuesta_5 = \"Si, tiene sentido que un random forest tarde mas en el proceso de entrenamiento con respecto a un arbol de decision convencional ya que se estan entrenando multiples arboles de decision con la particularidad de tomar subconjuntos aleatorios de las variables en cada nodo, como su nombre lo dice, un bosque de arboles aleatorios. Ademas, a la hora de tomar la prediccion del random forest debemos llegar a un concenso con base en la combinacion de las decisiones de los arboles entrenados.\" #@param {type:\"string\"}"
      ],
      "execution_count": null,
      "outputs": []
    },
    {
      "cell_type": "markdown",
      "metadata": {
        "id": "yBfC_8rDR0MS"
      },
      "source": [
        "### Ejercicio 3 Experimentos con Gradient Boosted Trees\n",
        "\n",
        "En la siguiente celda se define una simulación para entrenar y validar un modelo usando los datos previamente cargados. Complete el código para usar como modelo de predicción un Gradient boosted Tree. Debe consultar todo lo relacionado con la creación, entrenamiento y uso en predicción de este modelo usando la librería scikit-learn. Consultar aquí: https://scikit-learn.org/stable/modules/generated/sklearn.ensemble.GradientBoostingClassifier.html\n",
        "\n",
        "En el notebook, ya se encuentra cargada la libreria:\n",
        "\n",
        "```python\n",
        "from sklearn.ensemble import GradientBoostingClassifier\n",
        "\n",
        "```\n",
        "\n",
        "<b>Note</b> que al igual que en el caso anterior, existe una clase para modelos de clasificación y otra para modelos de regresión: https://scikit-learn.org/stable/modules/generated/sklearn.ensemble.GradientBoostingRegressor.html#sklearn.ensemble.GradientBoostingRegressor\n",
        "\n",
        "**Recordar hacer uso explicito del nombre del parametro que se va usar**, por ejemplo, si se requeire asignar el parametro ` loss`  debemos llamar la libreria  de esta manera: `GradientBoostingClassifier(loss = 'deviance')`"
      ]
    },
    {
      "cell_type": "code",
      "metadata": {
        "id": "GfaU0uZPR0MS"
      },
      "source": [
        "#ejercicio de código\n",
        "def experimentar_gbt(num_trees, X, Y):\n",
        "    \"\"\"funcion que realiza experimentos de arboles de decision\n",
        "    num_trees: list[int] lista con el número de arboles usado para el RF\n",
        "    X: matriz con las caractersiticas\n",
        "    Y: matriz de numpy con etiquetas\n",
        "    retorna: dataframe con:\n",
        "        - numero de arboles usados\n",
        "        - eficiencia de entrenamiento\n",
        "        - desviacion de estandar eficiencia de entrenamiento\n",
        "        - eficiencia de prueba\n",
        "        - desviacion estandar eficiencia de prueba\n",
        "    \"\"\"\n",
        "    folds = 4\n",
        "    skf = StratifiedKFold(n_splits=folds)\n",
        "    resultados = pd.DataFrame()\n",
        "    idx = 0\n",
        "    for trees in num_trees:\n",
        "        ## para almacenar los errores intermedios\n",
        "        EficienciaTrain = []\n",
        "        EficienciaVal = []\n",
        "        for train, test in skf.split(X, Y):\n",
        "            Xtrain = X[train,:]\n",
        "            Ytrain = Y[train]\n",
        "            Xtest = X[test,:]\n",
        "            Ytest = Y[test]\n",
        "            #Haga el llamado a la función para crear y entrenar el modelo usando los datos de entrenamiento\n",
        "            modelo = GradientBoostingClassifier(n_estimators=trees)\n",
        "            modelo = modelo.fit(Xtrain,Ytrain)\n",
        "            #predecir muestras de entrenamiento\n",
        "            Ytrain_pred = modelo.predict(Xtrain) \n",
        "            #predecir muestras de pruebas\n",
        "            Yest = modelo.predict(Xtest)\n",
        "            #Evaluamos las predicciones del modelo con los datos de test\n",
        "            EficienciaTrain.append(np.mean(Ytrain_pred.ravel() == Ytrain.ravel()))\n",
        "            EficienciaVal.append(np.mean(Yest.ravel() == Ytest.ravel()))\n",
        "\n",
        "        resultados.loc[idx,'número de arboles'] = trees\n",
        "        resultados.loc[idx,'eficiencia de entrenamiento'] = np.mean(EficienciaTrain)\n",
        "        resultados.loc[idx,'desviacion estandar entrenamiento'] = np.std(EficienciaVal)\n",
        "        resultados.loc[idx,'eficiencia de prueba'] = np.mean(EficienciaVal)\n",
        "        resultados.loc[idx,'desviacion estandar prueba'] = np.std(EficienciaVal)\n",
        "        idx= idx +1\n",
        "        \n",
        "    return (resultados)"
      ],
      "execution_count": null,
      "outputs": []
    },
    {
      "cell_type": "code",
      "metadata": {
        "id": "eu56Q8pKR0MU",
        "colab": {
          "base_uri": "https://localhost:8080/"
        },
        "outputId": "45b270be-c422-4c09-df3c-cd8efc7371b1"
      },
      "source": [
        "## la funcion que prueba tu implementacion\n",
        "GRADER.run_test(\"ejercicio3\", experimentar_gbt)"
      ],
      "execution_count": null,
      "outputs": [
        {
          "output_type": "stream",
          "text": [
            "TEST EXITOSO!\n"
          ],
          "name": "stdout"
        }
      ]
    },
    {
      "cell_type": "code",
      "metadata": {
        "id": "H6vIMbJ7R0MW",
        "colab": {
          "base_uri": "https://localhost:8080/",
          "height": 235
        },
        "outputId": "cc5c5a6e-e186-460e-e054-377f2374405f"
      },
      "source": [
        "# ejecuta para realizar los experimentos\n",
        "arboles = [5,10,20,50,100, 150]\n",
        "resultados_gbt = experimentar_gbt(arboles, x, y)\n",
        "resultados_gbt"
      ],
      "execution_count": null,
      "outputs": [
        {
          "output_type": "execute_result",
          "data": {
            "text/html": [
              "<div>\n",
              "<style scoped>\n",
              "    .dataframe tbody tr th:only-of-type {\n",
              "        vertical-align: middle;\n",
              "    }\n",
              "\n",
              "    .dataframe tbody tr th {\n",
              "        vertical-align: top;\n",
              "    }\n",
              "\n",
              "    .dataframe thead th {\n",
              "        text-align: right;\n",
              "    }\n",
              "</style>\n",
              "<table border=\"1\" class=\"dataframe\">\n",
              "  <thead>\n",
              "    <tr style=\"text-align: right;\">\n",
              "      <th></th>\n",
              "      <th>número de arboles</th>\n",
              "      <th>eficiencia de entrenamiento</th>\n",
              "      <th>desviacion estandar entrenamiento</th>\n",
              "      <th>eficiencia de prueba</th>\n",
              "      <th>desviacion estandar prueba</th>\n",
              "    </tr>\n",
              "  </thead>\n",
              "  <tbody>\n",
              "    <tr>\n",
              "      <th>0</th>\n",
              "      <td>5.0</td>\n",
              "      <td>0.988161</td>\n",
              "      <td>0.018991</td>\n",
              "      <td>0.924553</td>\n",
              "      <td>0.018991</td>\n",
              "    </tr>\n",
              "    <tr>\n",
              "      <th>1</th>\n",
              "      <td>10.0</td>\n",
              "      <td>0.995190</td>\n",
              "      <td>0.018348</td>\n",
              "      <td>0.926770</td>\n",
              "      <td>0.018348</td>\n",
              "    </tr>\n",
              "    <tr>\n",
              "      <th>2</th>\n",
              "      <td>20.0</td>\n",
              "      <td>1.000000</td>\n",
              "      <td>0.015869</td>\n",
              "      <td>0.943382</td>\n",
              "      <td>0.015869</td>\n",
              "    </tr>\n",
              "    <tr>\n",
              "      <th>3</th>\n",
              "      <td>50.0</td>\n",
              "      <td>1.000000</td>\n",
              "      <td>0.014938</td>\n",
              "      <td>0.957807</td>\n",
              "      <td>0.014938</td>\n",
              "    </tr>\n",
              "    <tr>\n",
              "      <th>4</th>\n",
              "      <td>100.0</td>\n",
              "      <td>1.000000</td>\n",
              "      <td>0.004891</td>\n",
              "      <td>0.965585</td>\n",
              "      <td>0.004891</td>\n",
              "    </tr>\n",
              "    <tr>\n",
              "      <th>5</th>\n",
              "      <td>150.0</td>\n",
              "      <td>1.000000</td>\n",
              "      <td>0.003192</td>\n",
              "      <td>0.964479</td>\n",
              "      <td>0.003192</td>\n",
              "    </tr>\n",
              "  </tbody>\n",
              "</table>\n",
              "</div>"
            ],
            "text/plain": [
              "   número de arboles  ...  desviacion estandar prueba\n",
              "0                5.0  ...                    0.018991\n",
              "1               10.0  ...                    0.018348\n",
              "2               20.0  ...                    0.015869\n",
              "3               50.0  ...                    0.014938\n",
              "4              100.0  ...                    0.004891\n",
              "5              150.0  ...                    0.003192\n",
              "\n",
              "[6 rows x 5 columns]"
            ]
          },
          "metadata": {},
          "execution_count": 29
        }
      ]
    },
    {
      "cell_type": "markdown",
      "metadata": {
        "id": "2E4iUcGwR0MX"
      },
      "source": [
        "Vamos a graficar la eficiencia para el RF y el GBT en función del número de arboles."
      ]
    },
    {
      "cell_type": "code",
      "metadata": {
        "id": "jcYqRudTR0MX",
        "colab": {
          "base_uri": "https://localhost:8080/",
          "height": 256
        },
        "outputId": "af1a0047-5d93-495b-9c94-e081012bc529"
      },
      "source": [
        "# se crea un df para agrupar los resultados\n",
        "# y graficar las diferencias entre el GBT y el RF\n",
        "rf_res = resultados_rf.groupby(\"número de arboles\")['eficiencia de prueba'].mean().reset_index()\n",
        "rf_res['Tipo'] = 'RF'\n",
        "gbt_res = resultados_gbt.groupby(\"número de arboles\")['eficiencia de prueba'].mean().reset_index()\n",
        "gbt_res['Tipo'] = 'GBT'\n",
        "data_to_plot= pd.concat([rf_res, gbt_res], ignore_index=True)\n",
        "sns.relplot(data=data_to_plot, x= 'número de arboles', y = 'eficiencia de prueba', hue = 'Tipo', kind='line', aspect=1.5,height=3)"
      ],
      "execution_count": null,
      "outputs": [
        {
          "output_type": "execute_result",
          "data": {
            "text/plain": [
              "<seaborn.axisgrid.FacetGrid at 0x7f96a8b4d290>"
            ]
          },
          "metadata": {},
          "execution_count": 91
        },
        {
          "output_type": "display_data",
          "data": {
            "image/png": "[encoded data removed]",
            "text/plain": [
              "<Figure size 380.625x216 with 1 Axes>"
            ]
          },
          "metadata": {
            "needs_background": "light"
          }
        }
      ]
    },
    {
      "cell_type": "code",
      "metadata": {
        "cellView": "form",
        "id": "_ldfyyU9R0MZ"
      },
      "source": [
        "#@title Pregunta Abierta\n",
        "#@markdown recordando la diferencia entre el Random Forest y el Gradient boosted Trees ¿porqué el GBT necesita más árboles para llegar a mejores eficiencias?\n",
        "respuesta_6 = \"En un GBT a mayor numero de arboles mas reduciremos el error ya que el modelo siguiente tratara de completar lo que el modelo anterior no pudo. A diferencia del random forest que entrenar arboles en paralelo aqui entrenamos arboles de manera secuencial con base en el error del arbol anterior, sin embargo, hay que tener cuidado ya que agregar muchos arboles a un GBT puede provocar sobreajuste por su naturaleza secuencial.\" #@param {type:\"string\"}"
      ],
      "execution_count": null,
      "outputs": []
    },
    {
      "cell_type": "markdown",
      "metadata": {
        "id": "yMPFC4H_R0Ma"
      },
      "source": [
        "### Ejercicio 4 Tiempo de entrenamiento del RF y GBT\n",
        "\n",
        "En nuestro último experimento, vamos a evaluar la influencia de las parametros del RF y del GBT en el tiempo de entrenamiento. \n",
        "\n",
        "Para ello vamos a crear una función para medir el tiempo de entrenamiento usando la instrucción `time.process_time()`.\n",
        "\n",
        "Vamos crear la función, para poder evaluar la influencia de:\n",
        "1. número de arboles\n",
        "2. cantidad de variables a analizar por nodo\n",
        "\n",
        "En el entrenamiento del RF y del GBT. \n",
        "\n",
        "**Notar**  \n",
        "1. No vamos a dividir el conjunto, ya que el objetivo es evaluar el tiempo de entrenamiento y no la eficiencias del modelo\n",
        "2. No calculamos las prediciones\n",
        "3. **Recordar hacer uso explicito del nombre del parametro que se va usar**, por ejemplo, si se requeire asignar el parametro `criterion`  debemos llamar la libreria  de esta manera: `RandomForestClassifier(criterion = 'gini')`"
      ]
    },
    {
      "cell_type": "code",
      "metadata": {
        "id": "tOdu_n0wR0Ma"
      },
      "source": [
        "def time_rf_gbt_training(X, Y, num_trees, numero_de_variables, metodo):\n",
        "    \"\"\"funcion que realiza experimentos, para determinar la influencia\n",
        "    del numero de arboles y de caracteristicas en el tiempo de entrenamiento\n",
        "    del RF\n",
        "    X: conjunto de datos para realizar los experimentos\n",
        "    Y: conjunto de etiquetas de clase\n",
        "    num_trees: List[int] lista con el número de arboles a evaluar\n",
        "    num_variables: List[int] lista con el número variables a evaluar\n",
        "    metodo: 'rf' o 'gbt', de acuerdo a esto se verifica cual modelo a evaluar.\n",
        "    retorna: dataframe con:\n",
        "    - número de arboles\n",
        "    - variables para la selección del mejor umbral\n",
        "    - tiempo de entrenamiento (promedio)\n",
        "    \"\"\"\n",
        "    resultados = pd.DataFrame()\n",
        "    idx = 0\n",
        "    \n",
        "    for trees in num_trees:\n",
        "        for variables in numero_de_variables:\n",
        "            ## ejecutar 5 veces lo mismo\n",
        "            ## para llegar a un tiempo más adecuado\n",
        "            tiempos = []\n",
        "            for i in range(5):\n",
        "            ## llamar la funcion para inicar el conteo\n",
        "                start = time.process_time()             #Aqui tuvimos que modificar la funcion para calcular el tiempo ya que la otra estaba deprecada.\n",
        "                if metodo == 'rf':\n",
        "                \n",
        "                    modelo = RandomForestClassifier(n_estimators=trees,max_features=variables)\n",
        "                else:\n",
        "                    modelo = GradientBoostingClassifier(n_estimators=trees)\n",
        "                \n",
        "                modelo = modelo.fit(X,Y)\n",
        "                ## obtener tiempo \n",
        "                end = time.process_time()\n",
        "                # append de la resta de fin y end(sera start????)\n",
        "                tiempos.append(end-start)\n",
        "            resultados.loc[idx,'número de arboles'] = trees\n",
        "            resultados.loc[idx,'variables para la selección del mejor umbral'] = variables\n",
        "            # obtenga el promedio\n",
        "            resultados.loc[idx,'tiempo de entrenamiento'] = np.mean(tiempos)\n",
        "            resultados.loc[idx,'metodo'] = metodo\n",
        "            idx = idx +1\n",
        "    return(resultados)"
      ],
      "execution_count": null,
      "outputs": []
    },
    {
      "cell_type": "code",
      "metadata": {
        "id": "ukJ6i-hCR0Mc",
        "colab": {
          "base_uri": "https://localhost:8080/"
        },
        "outputId": "b576fa33-a8ce-4946-e776-78cdd6ef8056"
      },
      "source": [
        "## la funcion que prueba tu implementacion\n",
        "GRADER.run_test(\"ejercicio4\", time_rf_gbt_training)"
      ],
      "execution_count": null,
      "outputs": [
        {
          "output_type": "stream",
          "text": [
            "TEST EXITOSO!\n"
          ],
          "name": "stdout"
        }
      ]
    },
    {
      "cell_type": "markdown",
      "metadata": {
        "id": "WmfXgHHUR0Me"
      },
      "source": [
        "Vamos a dejar fijo el número de variables en 20 y variar los árboles en: [5,10,15,25, 50], completa el código para ver la grafica"
      ]
    },
    {
      "cell_type": "code",
      "metadata": {
        "id": "DK2JdQAfR0Me",
        "colab": {
          "base_uri": "https://localhost:8080/",
          "height": 400
        },
        "outputId": "e250e89f-ae4b-402b-8dce-323ffb46928d"
      },
      "source": [
        "resultados_rf_time1 = time_rf_gbt_training(x, y, [5,10,15,25,50], [20], metodo = 'rf')\n",
        "resultados_gbt_time1 = time_rf_gbt_training(x, y, [5,10,15,25,50], [20], metodo = 'gbt')\n",
        "\n",
        "resultados_time = pd.concat([resultados_rf_time1, resultados_gbt_time1], ignore_index=True)\n",
        "\n",
        "sns.relplot(data = resultados_time, x = 'número de arboles', y = 'tiempo de entrenamiento', hue = 'metodo', kind = 'line')"
      ],
      "execution_count": null,
      "outputs": [
        {
          "output_type": "execute_result",
          "data": {
            "text/plain": [
              "<seaborn.axisgrid.FacetGrid at 0x7f96a83b9110>"
            ]
          },
          "metadata": {},
          "execution_count": 102
        },
        {
          "output_type": "display_data",
          "data": {
            "image/png": "[encoded data removed]",
            "text/plain": [
              "<Figure size 412.5x360 with 1 Axes>"
            ]
          },
          "metadata": {
            "needs_background": "light"
          }
        }
      ]
    },
    {
      "cell_type": "markdown",
      "metadata": {
        "id": "PKqJ85TUR0Mf"
      },
      "source": [
        "Y por ultimo Vamos a dejar fijo el número de árboles en 20 y el número de varaibles [5,10,15,20,40], completa el código para ver la grafica"
      ]
    },
    {
      "cell_type": "code",
      "metadata": {
        "id": "0mkj5sbRR0Mg",
        "colab": {
          "base_uri": "https://localhost:8080/",
          "height": 401
        },
        "outputId": "99b5495e-881d-4b15-9eb6-51dab0a7a65b"
      },
      "source": [
        "resultados_rf_time1 = time_rf_gbt_training(x, y, [20], [5,10,15,20,40], metodo = 'rf')\n",
        "resultados_gbt_time1 = time_rf_gbt_training(x, y, [20], [5,10,15,20,40], metodo = 'gbt')\n",
        "\n",
        "resultados_time = pd.concat([resultados_rf_time1, resultados_gbt_time1], ignore_index=True)\n",
        "\n",
        "sns.relplot(data = resultados_time, x = 'variables para la selección del mejor umbral', y = 'tiempo de entrenamiento', hue = 'metodo', kind = 'line')"
      ],
      "execution_count": null,
      "outputs": [
        {
          "output_type": "execute_result",
          "data": {
            "text/plain": [
              "<seaborn.axisgrid.FacetGrid at 0x7f96a823b7d0>"
            ]
          },
          "metadata": {},
          "execution_count": 105
        },
        {
          "output_type": "display_data",
          "data": {
            "image/png": "[encoded data removed]",
            "text/plain": [
              "<Figure size 412.5x360 with 1 Axes>"
            ]
          },
          "metadata": {
            "needs_background": "light"
          }
        }
      ]
    },
    {
      "cell_type": "code",
      "metadata": {
        "cellView": "form",
        "id": "2aJTJ4GVR0Mh"
      },
      "source": [
        "#@title Pregunta Abierta\n",
        "#@markdown ¿qué parametro de los evaluados tiene una mayor influencia en los tiempos de entrenamiento? ¿hay diferencia entre el RF y GBT? justifique\n",
        "respuesta_7 = \"Sin duda alguna si hay diferencia, en el random forest aunque se ve afectado el tiempo de entrenamiento al aumentar el numero de arboles en el GBT es mucho mas notorio y esto se debe a que el entrenamiento de los arboles se realiza de manera secuencial y no en paralelo como en un random forest. Por otro lado, el parametro que tiene mayor influencia en los tiempos de entrenamiento en ambos metodos es el numero de arboles. Tambien cabe resaltar que el numero de variables para la seleccion del mejor umbral solo tiene reelevancia en el random forest.  \" #@param {type:\"string\"}"
      ],
      "execution_count": null,
      "outputs": []
    },
    {
      "cell_type": "code",
      "metadata": {
        "id": "8eBKRoSEg_do",
        "colab": {
          "base_uri": "https://localhost:8080/"
        },
        "outputId": "94fd2031-21a9-45ac-b5b2-6aceb64f0f20"
      },
      "source": [
        "GRADER.check_tests()"
      ],
      "execution_count": null,
      "outputs": [
        {
          "output_type": "stream",
          "text": [
            "Todo se ve ok. Asegurate de responder las preguntas abiertas y envia le archivo al formulario ¡buen trabajo!\n"
          ],
          "name": "stdout"
        }
      ]
    },
    {
      "cell_type": "code",
      "metadata": {
        "cellView": "form",
        "id": "QeIgW9y2R0Mj"
      },
      "source": [
        "#@title Integrantes\n",
        "codigo_integrante_1 ='1035439685' #@param {type:\"string\"}\n",
        "codigo_integrante_2 = '1020485954'  #@param {type:\"string\"}"
      ],
      "execution_count": null,
      "outputs": []
    },
    {
      "cell_type": "markdown",
      "metadata": {
        "id": "pPCnjXUGR0Mk"
      },
      "source": [
        "----\n",
        "esta linea de codigo va fallar, es de uso exclusivo de los profesores\n"
      ]
    },
    {
      "cell_type": "code",
      "metadata": {
        "id": "k67-WjqNR0Ml"
      },
      "source": [
        "GRADER.grade()"
      ],
      "execution_count": null,
      "outputs": []
    }
  ]
}