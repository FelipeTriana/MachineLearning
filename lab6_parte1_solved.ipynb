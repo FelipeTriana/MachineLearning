{
  "nbformat": 4,
  "nbformat_minor": 0,
  "metadata": {
    "colab": {
      "name": "lab6_parte1_solved.ipynb",
      "provenance": [],
      "collapsed_sections": [],
      "include_colab_link": true
    },
    "kernelspec": {
      "display_name": "Python 3",
      "language": "python",
      "name": "python3"
    },
    "language_info": {
      "codemirror_mode": {
        "name": "ipython",
        "version": 3
      },
      "file_extension": ".py",
      "mimetype": "text/x-python",
      "name": "python",
      "nbconvert_exporter": "python",
      "pygments_lexer": "ipython3",
      "version": "3.6.9"
    }
  },
  "cells": [
    {
      "cell_type": "markdown",
      "metadata": {
        "id": "view-in-github",
        "colab_type": "text"
      },
      "source": [
        "<a href=\"https://colab.research.google.com/github/FelipeTriana/MachineLearning/blob/master/lab6_parte1_solved.ipynb\" target=\"_parent\"><img src=\"https://colab.research.google.com/assets/colab-badge.svg\" alt=\"Open In Colab\"/></a>"
      ]
    },
    {
      "cell_type": "markdown",
      "metadata": {
        "id": "NwD27Iv5s-C9"
      },
      "source": [
        "**Recuerda que una vez abierto, Da clic en \"Copiar en Drive\", de lo contrario no podras almacenar tu progreso**\n",
        "\n",
        "Nota: no olvide ir ejecutando las celdas de código de arriba hacia abajo para que no tenga errores de importación de librerías o por falta de definición de variables."
      ]
    },
    {
      "cell_type": "code",
      "metadata": {
        "id": "fSr1wzAFs-C9",
        "colab": {
          "base_uri": "https://localhost:8080/"
        },
        "outputId": "3f726d32-afef-4338-9a6f-af481f398d66"
      },
      "source": [
        "#configuración del laboratorio\n",
        "# Ejecuta esta celda!\n",
        "%load_ext autoreload\n",
        "%autoreload 2\n",
        "#for local \n",
        "#import sys ; sys.path.append('../commons/utils/')\n",
        "!wget https://raw.githubusercontent.com/jdariasl/ML_2020/master/Labs/commons/utils/general.py -O general.py --no-cache\n",
        "from general import configure_lab6\n",
        "configure_lab6()\n",
        "from lab6 import *\n",
        "GRADER, x,y = part_1()"
      ],
      "execution_count": null,
      "outputs": [
        {
          "output_type": "stream",
          "name": "stdout",
          "text": [
            "The autoreload extension is already loaded. To reload it, use:\n",
            "  %reload_ext autoreload\n",
            "--2021-09-24 03:30:55--  https://raw.githubusercontent.com/jdariasl/ML_2020/master/Labs/commons/utils/general.py\n",
            "Resolving raw.githubusercontent.com (raw.githubusercontent.com)... 185.199.108.133, 185.199.109.133, 185.199.111.133, ...\n",
            "Connecting to raw.githubusercontent.com (raw.githubusercontent.com)|185.199.108.133|:443... connected.\n",
            "HTTP request sent, awaiting response... 200 OK\n",
            "Length: 14633 (14K) [text/plain]\n",
            "Saving to: ‘general.py’\n",
            "\n",
            "\rgeneral.py            0%[                    ]       0  --.-KB/s               \rgeneral.py          100%[===================>]  14.29K  --.-KB/s    in 0s      \n",
            "\n",
            "2021-09-24 03:30:55 (87.3 MB/s) - ‘general.py’ saved [14633/14633]\n",
            "\n",
            "lab configuration started\n",
            "installing libraries\n",
            "downloading files\n",
            "lab configured\n"
          ]
        }
      ]
    },
    {
      "cell_type": "markdown",
      "metadata": {
        "id": "4dp4MJ4GJjH3"
      },
      "source": [
        "# Laboratorio 6 - Parte 1: Reducción de dimensión y Selección de características"
      ]
    },
    {
      "cell_type": "markdown",
      "metadata": {
        "id": "2JuDVBmqJ0Mu"
      },
      "source": [
        "Este ejercicio tiene como objetivo implementar varias técnicas de selección de características y usar regresion logisctica para resolver un problema de clasificación multiclase."
      ]
    },
    {
      "cell_type": "markdown",
      "metadata": {
        "id": "1pDJ_6-js-C-"
      },
      "source": [
        "Para el problema de clasificación usaremos la siguiente base de datos: https://archive.ics.uci.edu/ml/datasets/Cardiotocography\n",
        "\n",
        "Analice la base de datos, sus características, su variable de salida y el contexto del problema."
      ]
    },
    {
      "cell_type": "code",
      "metadata": {
        "id": "6G2ouvHvs-C-",
        "colab": {
          "base_uri": "https://localhost:8080/"
        },
        "outputId": "53486d93-07c2-4581-dfb1-d06e6421e4fd"
      },
      "source": [
        "print('Dimensiones de la base de datos de entrenamiento. dim de x: ' + str(np.shape(x)) + '\\tdim de y: ' + str(np.shape(y)))"
      ],
      "execution_count": null,
      "outputs": [
        {
          "output_type": "stream",
          "name": "stdout",
          "text": [
            "Dimensiones de la base de datos de entrenamiento. dim de x: (2126, 22)\tdim de y: (2126,)\n"
          ]
        }
      ]
    },
    {
      "cell_type": "markdown",
      "metadata": {
        "id": "NCcGO-Vps-C-"
      },
      "source": [
        "**observación para las librerias sklearn **\n",
        "\n",
        "Llamar explicitamente los parametros de las librerias de sklearn (e.j. si se quiere usar el parametro `kernel` del `SVC`, se debe llamar `SVC(kernel='rbf'`)"
      ]
    },
    {
      "cell_type": "markdown",
      "metadata": {
        "id": "S-ohZuu_lC3p"
      },
      "source": [
        "### Ejercicio 1: Entrenamiento sin selección de características\n",
        "\n",
        "En nuestro primer ejercicio debemos completar la función para entrenar una SVM para resolver un problema de clasificación. Debemos completar siguiendo las recomendaciones:\n",
        "\n",
        "1. Mantener los parámetros sugeridos de la regresión logística. \n",
        "2. Asignar el parametro de StratifiedKFold a los splits\n",
        "3. Usar la area bajo la curva ROC como medida de error del modulo [metrics de sklearn](https://scikit-learn.org/stable/modules/classes.html#module-sklearn.metrics). Tener en cuenta que esta función recibe un score, que es diferente a la predicción (explorar que metodo debemos usar para nuestro caso de problema y usar un estrategia One vs One).\n",
        "4. Esta función la vamos a usar como base para comparar nuestros metodos de selección de características."
      ]
    },
    {
      "cell_type": "code",
      "metadata": {
        "id": "r5bglRNYlDD3"
      },
      "source": [
        "#ejercicio de código\n",
        "def entrenamiento_sin_seleccion_caracteristicas(splits, X, Y):\n",
        "    \"\"\"\n",
        "    Función que ejecuta el entrenamiento del modelo sin una selección particular\n",
        "    de las características\n",
        "\n",
        "      Parámetros:splits : numero de particiones  a realizar\n",
        "      Retorna:\n",
        "      1. El modelo entreando\n",
        "      2. El vector de errores\n",
        "      3. El Intervalo de confianza\n",
        "      4. El tiempo de procesamiento\n",
        "    \"\"\"\n",
        "    #Implemetamos la metodología de validación\n",
        "    Errores = np.ones(splits)\n",
        "    Score = np.ones(splits)\n",
        "    times = np.ones(splits)\n",
        "    j = 0\n",
        "    kf = StratifiedKFold(n_splits= splits)\n",
        "    for train_index, test_index in kf.split(X, Y):\n",
        "        X_train, X_test = X[train_index], X[test_index]\n",
        "        y_train, y_test = Y[train_index], Y[test_index]\n",
        "        scaler = StandardScaler()\n",
        "        X_train = scaler.fit_transform(X_train)\n",
        "        X_test = scaler.transform(X_test)\n",
        "        #Creamos el clasificador SVM.\n",
        "        clf = LogisticRegression(solver=\"liblinear\", random_state=0)\n",
        "        #Aquí se entran y se valida el modelo sin hacer selección de características\n",
        "        ######\n",
        "        # Entrenamiento el modelo.\n",
        "        #Para calcular el costo computacional\n",
        "        tiempo_i = time.time()\n",
        "        clf.fit(X_train,y_train)\n",
        "        # Validación del modelo\n",
        "        Errores[j] = roc_auc_score(y_true=y_test, y_score=clf.predict_proba(X_test), multi_class='ovo')\n",
        "        times[j] = time.time()-tiempo_i\n",
        "        j+=1\n",
        "    \n",
        "    return clf, np.mean(Errores), np.std(Errores), np.mean(times)"
      ],
      "execution_count": null,
      "outputs": []
    },
    {
      "cell_type": "code",
      "metadata": {
        "id": "fAr4PqEbs-C-",
        "colab": {
          "base_uri": "https://localhost:8080/"
        },
        "outputId": "032ae4cc-7369-455f-e4d7-cec96d9ff8eb"
      },
      "source": [
        "## la funcion que prueba tu implementacion\n",
        "GRADER.run_test(\"ejercicio1\", entrenamiento_sin_seleccion_caracteristicas)"
      ],
      "execution_count": null,
      "outputs": [
        {
          "output_type": "stream",
          "name": "stdout",
          "text": [
            "TEST EXITOSO!\n"
          ]
        }
      ]
    },
    {
      "cell_type": "code",
      "metadata": {
        "id": "G-FC-gpxs-C-",
        "cellView": "form"
      },
      "source": [
        "#@markdown ¿Por que al la función que calcula la area sobre la curva roc se le debe pasar un parametro diferente que las predicciones?\n",
        "respuesta_1 = 'La curva se construye con valores entre 0 y 1, para calcular estos valores es necesario los par\\xE1metros VP, FP, VN y FN. Gracias a estos se calcula la probabilidad con la que el modelo clasificar\\xE1 mejor las entradas.' #@param {type:\"string\"}"
      ],
      "execution_count": null,
      "outputs": []
    },
    {
      "cell_type": "markdown",
      "metadata": {
        "id": "dzdeZ05pmOTX"
      },
      "source": [
        "## Ejercicio 2: Entrenamiento con selección de características\n",
        "\n",
        "La siguiente función \"wrapper\" nos permite hacer una selección de características utilizando la [librería recursive feature elimination de Sci-kit Learn](https://scikit-learn.org/stable/modules/generated/sklearn.feature_selection.RFE.html).\n",
        "\n",
        "Esta libreria es un metodo de seleccion carcterisitcas wrapper, que usa los coeficientes derivados de  un estimador entrenado para estimar que caracteristicas tienen mayor poder predictivo.\n",
        "\n",
        "Para completar debemos tener en cuenta lo siguiente:\n",
        "\n",
        "1. Para el número de caractersiticas usar el parametro feature_numbers\n",
        "2. Establecer el paso = 1 para ir eliminando las caracteristicas\n",
        "3. Asumir que el estimador se crea externamente de la función\n",
        "4. Entender los campos del RFE disponibles despues de entrenarlo para obtener:\n",
        "    1. La mascara para saber que características fueron seleccionadas\n",
        "    2. El ranking de las caracteristicas"
      ]
    },
    {
      "cell_type": "code",
      "metadata": {
        "id": "vXBPDF57npM2"
      },
      "source": [
        "#ejercicio de código\n",
        "def recursive_feature_elimination_wrapper(estimator, feature_numbers, X,Y):\n",
        "    \"\"\"\n",
        "    Esta función es un envoltorio del objeto RFE de sklearn\n",
        "\n",
        "    Parámetros:\n",
        "    estimator(sklearn.linear_model._logistic.LogisticRegression), El estimador LR\n",
        "    feature_numbers(int), El número de características a considerar\n",
        "    X (numpy.array), El arreglo numpy de características\n",
        "    Y (numpy.array), El vector de etiquetas\n",
        "\n",
        "    Retorna:\n",
        "    El modelo entrenado ()\n",
        "    La máscara de características seleccionada, array [longitud de caracterisitcas de X]\n",
        "    El rankeo de características, array [longitud de caracterisitcas de X]\n",
        "    El objeto RFE entrenado sobre el set reducido de características\n",
        "    El tiempo de ejecución\n",
        "    \"\"\"\n",
        "    rfe = RFE(estimator=estimator, n_features_to_select=feature_numbers, step=1)\n",
        "    tiempo_i = time.time()\n",
        "    rfe.fit(X=X,y=Y)\n",
        "    time_o = time.time()-tiempo_i\n",
        "    feature_mask = rfe.support_\n",
        "    features_rank = rfe.ranking_\n",
        "    estimator = rfe.estimator_\n",
        "\n",
        "    return rfe, feature_mask, features_rank, estimator, time_o"
      ],
      "execution_count": null,
      "outputs": []
    },
    {
      "cell_type": "code",
      "metadata": {
        "id": "auBvCrhRs-C_",
        "colab": {
          "base_uri": "https://localhost:8080/"
        },
        "outputId": "cfbd8fdd-4eae-49b5-990f-e96da1580056"
      },
      "source": [
        "## la funcion que prueba tu implementacion\n",
        "GRADER.run_test(\"ejercicio2\", recursive_feature_elimination_wrapper)"
      ],
      "execution_count": null,
      "outputs": [
        {
          "output_type": "stream",
          "name": "stdout",
          "text": [
            "TEST EXITOSO!\n"
          ]
        }
      ]
    },
    {
      "cell_type": "code",
      "metadata": {
        "id": "eP4Hrb3Rs-C_",
        "cellView": "form"
      },
      "source": [
        "#@title Preguntas Abierta\n",
        "#@markdown ¿Que diferencia tiene el metodo implementado con un metodo de filtro de selección de caracteristicas? explicar\n",
        "respuesta_2 = 'El m\\xE9todo implementado utiliza un modelo base para entrenar y evaluar, haciendo uso de subconjuntos de caracter\\xEDsticas variadas para seleccionar el subconjunto con mejores caracter\\xEDsticas, a esto se le llama un m\\xE9todo wrapper y a comparaci\\xF3n con el m\\xE9todo del filtro, este \\xFAltimo no utiliza ning\\xFAn modelo estimador, este hace uso de las distancias y correlaciones entre ellas para seleccionar las mejores caracter\\xEDsticas, tambi\\xE9n se utilizan estad\\xEDsticos de prueba para la evaluaci\\xF3n de cada caracter\\xEDstica y su importancia. Finalmente el m\\xE9todo utilizado es m\\xE1s costoso computacionalmente.  ' #@param {type:\"string\"}"
      ],
      "execution_count": null,
      "outputs": []
    },
    {
      "cell_type": "markdown",
      "metadata": {
        "id": "NzD_kp5SyZDb"
      },
      "source": [
        "## Ejercicio 3:  Comparación de los resultados del modelo\n",
        "\n",
        "Ahora en la siguiente función, vamos a usar la función planteada para realizar experimentos con la selección de características. Para ello:\n",
        "1. Utilizar una metodología cross-validation estratificada.\n",
        "2. Considerando n características, retorne el modelo entrenado, el vector de errores, el intervalo de confianza y el tiempo de ejecución.\n",
        "3. Vamos a retornar un DataFrame con las siguientes columnas:\n",
        "    - CON_SEL (indicando si se uso selección de caracteristicas)\n",
        "    - NUM_VAR (número de selección de caracteristicas)\n",
        "    - NUM_SPLITS  (número de particiones realizadas)\n",
        "    - T_EJECUCION: tiempo de ejecucción\n",
        "    - ERROR_VALIDACION\n",
        "    - IC_STD_VALIDACION\n",
        "\n",
        "4. En la primera fila del dataframe vamos a incluir la evaluación del modelo SVM sin selección de características (usando la función creada en el primer ejercicio) y sin particionar el set de datos."
      ]
    },
    {
      "cell_type": "code",
      "metadata": {
        "id": "s9XXzZgks-C_"
      },
      "source": [
        "#ejercicio de código\n",
        "def experimentar(n_feats, n_sets, X, Y):\n",
        "    \"\"\"\n",
        "    Esta función realiza la comparación del desempeño de RFE utilizando diferente \n",
        "    número de feats y particionando el conjunto de datos en diferente número de \n",
        "    subconjuntos\n",
        "\n",
        "    Parámetros:\n",
        "    X (numpy.array), El arreglo numpy de características\n",
        "    Y (numpy.array), El vector de etiquetas\n",
        "    n_feats, Vector de números enteros que indica el número de características\n",
        "              que debe utilizar el modelo\n",
        "    n_sets, Vector de números enteros que indica el número de particiones\n",
        "\n",
        "    Retorna:  \n",
        "    - DataFrame con las columnas: DESCRIPCION, T_EJECUCION ERROR_VALIDACION, \n",
        "    y IC_STD_VALIDACION \n",
        "\n",
        "    \"\"\"\n",
        "    df = pd.DataFrame()\n",
        "    idx = 0\n",
        "    for split_number in n_sets: \n",
        "    #Sin selección de características\n",
        "        # se ignorar las otras salidas\n",
        "        _,err,ic,t_ex = entrenamiento_sin_seleccion_caracteristicas(split_number, X,Y)  \n",
        "        \n",
        "        df.loc[idx,'CON_SEL'] = 'NO'\n",
        "        df.loc[idx,'NUM_VAR'] = X.shape[1]\n",
        "        df.loc[idx,'NUM_SPLITS'] = split_number\n",
        "        df.loc[idx,'T_EJECUCION'] = t_ex\n",
        "        df.loc[idx,'ERROR_VALIDACION'] = err\n",
        "        df.loc[idx,'IC_STD_VALIDACION'] = ic\n",
        "        idx+=1\n",
        "    print(\"termina experimentos sin selección\")\n",
        "    #Con selección de características\n",
        "    for f in n_feats:\n",
        "        for split_number in n_sets:\n",
        "            #Implemetamos la metodología de validación \n",
        "            Errores = np.ones(split_number)\n",
        "            Score = np.ones(split_number)\n",
        "            times = np.ones(split_number)\n",
        "            kf = StratifiedKFold(n_splits=split_number)\n",
        "            j = 0\n",
        "            for train_index, test_index in kf.split(X,Y):\n",
        "                \n",
        "                X_train, X_test = X[train_index], X[test_index]\n",
        "                y_train, y_test = Y[train_index], Y[test_index]\n",
        "                scaler = StandardScaler()\n",
        "                X_train = scaler.fit_transform(X_train)\n",
        "                X_test = scaler.transform(X_test)\n",
        "                \n",
        "                lr =  LogisticRegression(solver=\"liblinear\", random_state=0)\n",
        "                \n",
        "                # se ignorar las otras salidas\n",
        "                rfe, _, _, _, t = recursive_feature_elimination_wrapper(estimator=lr,\n",
        "                                                                        feature_numbers=f,\n",
        "                                                                        X=X_train,\n",
        "                                                                        Y=y_train)\n",
        "                Errores[j]=roc_auc_score(y_true=y_test, y_score=rfe.predict_proba(X_test), multi_class='ovo')\n",
        "                times[j] = t\n",
        "                j+=1\n",
        "\n",
        "            df.loc[idx,'CON_SEL'] = 'SI'\n",
        "            df.loc[idx,'NUM_VAR'] = f\n",
        "            df.loc[idx,'NUM_SPLITS'] = split_number\n",
        "            df.loc[idx, 'T_EJECUCION'] = np.mean(Errores)\n",
        "            df.loc[idx,'ERROR_VALIDACION'] = np.mean(Errores)\n",
        "            df.loc[idx, 'IC_STD_VALIDACION'] = np.std(Errores)\n",
        "            idx+=1\n",
        "    return df\n"
      ],
      "execution_count": null,
      "outputs": []
    },
    {
      "cell_type": "code",
      "metadata": {
        "id": "d1q9wVdWs-C_",
        "colab": {
          "base_uri": "https://localhost:8080/"
        },
        "outputId": "bcfa2185-e96b-470b-f413-ba525b05364d"
      },
      "source": [
        "## la funcion que prueba tu implementacion\n",
        "GRADER.run_test(\"ejercicio3\", experimentar)"
      ],
      "execution_count": null,
      "outputs": [
        {
          "output_type": "stream",
          "name": "stdout",
          "text": [
            "termina experimentos sin selección\n",
            "TEST EXITOSO!\n"
          ]
        }
      ]
    },
    {
      "cell_type": "code",
      "metadata": {
        "id": "46Shxv0ps-C_",
        "cellView": "form"
      },
      "source": [
        "#@title Preguntas Abierta\n",
        "#@markdown Describa la metodología de validación que se está aplicando.\n",
        "respuesta_3 = 'La metodolog\\xEDa de validaci\\xF3n que se utiliza el \\xE1rea bajo la curva como medida de desempe\\xF1o y ayuda a lidiar con el desbalance de clases. Se utiliza una validaci\\xF3n cruzada estratificada.' #@param {type:\"string\"}"
      ],
      "execution_count": null,
      "outputs": []
    },
    {
      "cell_type": "markdown",
      "metadata": {
        "id": "PgSxzwTns-C_"
      },
      "source": [
        "Ejecuta la celda de codigo para realizar los experimentos"
      ]
    },
    {
      "cell_type": "code",
      "metadata": {
        "id": "i415VMVks-C_",
        "colab": {
          "base_uri": "https://localhost:8080/"
        },
        "outputId": "7f14c044-3d5e-4009-f9a1-4bba78fbd2ab"
      },
      "source": [
        "dfr = experimentar(n_feats = [3, 5, 10,15,20], n_sets = [3, 6], X= x, Y=y)"
      ],
      "execution_count": null,
      "outputs": [
        {
          "output_type": "stream",
          "name": "stdout",
          "text": [
            "termina experimentos sin selección\n"
          ]
        }
      ]
    },
    {
      "cell_type": "markdown",
      "metadata": {
        "id": "Fz0DUJdWXQME"
      },
      "source": [
        "Utilizando el *DataFrame* definido en la función anterior, retorne la mejor configuración del \"Número de características\" que resultó ,as beneficiosa. Identifique en términos de \"Costo computacional\" y \"Eficiencia del Modelo\"."
      ]
    },
    {
      "cell_type": "code",
      "metadata": {
        "id": "TKK-mEqJs-C_",
        "colab": {
          "base_uri": "https://localhost:8080/",
          "height": 421
        },
        "outputId": "ce03cfde-8724-448f-808b-2be2d84ccb66"
      },
      "source": [
        "# podemos cambiar las forma de organizar el df para observar que diferencias hay\n",
        "# cuando cambia  la prioridad alguno de los dos parámetros\n",
        "dfr.sort_values(['T_EJECUCION', \"ERROR_VALIDACION\"], ascending=[False, True])"
      ],
      "execution_count": null,
      "outputs": [
        {
          "output_type": "execute_result",
          "data": {
            "text/html": [
              "<div>\n",
              "<style scoped>\n",
              "    .dataframe tbody tr th:only-of-type {\n",
              "        vertical-align: middle;\n",
              "    }\n",
              "\n",
              "    .dataframe tbody tr th {\n",
              "        vertical-align: top;\n",
              "    }\n",
              "\n",
              "    .dataframe thead th {\n",
              "        text-align: right;\n",
              "    }\n",
              "</style>\n",
              "<table border=\"1\" class=\"dataframe\">\n",
              "  <thead>\n",
              "    <tr style=\"text-align: right;\">\n",
              "      <th></th>\n",
              "      <th>CON_SEL</th>\n",
              "      <th>NUM_VAR</th>\n",
              "      <th>NUM_SPLITS</th>\n",
              "      <th>T_EJECUCION</th>\n",
              "      <th>ERROR_VALIDACION</th>\n",
              "      <th>IC_STD_VALIDACION</th>\n",
              "    </tr>\n",
              "  </thead>\n",
              "  <tbody>\n",
              "    <tr>\n",
              "      <th>9</th>\n",
              "      <td>SI</td>\n",
              "      <td>15.0</td>\n",
              "      <td>6.0</td>\n",
              "      <td>0.954878</td>\n",
              "      <td>0.954878</td>\n",
              "      <td>0.031404</td>\n",
              "    </tr>\n",
              "    <tr>\n",
              "      <th>11</th>\n",
              "      <td>SI</td>\n",
              "      <td>20.0</td>\n",
              "      <td>6.0</td>\n",
              "      <td>0.953329</td>\n",
              "      <td>0.953329</td>\n",
              "      <td>0.032467</td>\n",
              "    </tr>\n",
              "    <tr>\n",
              "      <th>8</th>\n",
              "      <td>SI</td>\n",
              "      <td>15.0</td>\n",
              "      <td>3.0</td>\n",
              "      <td>0.952058</td>\n",
              "      <td>0.952058</td>\n",
              "      <td>0.030071</td>\n",
              "    </tr>\n",
              "    <tr>\n",
              "      <th>10</th>\n",
              "      <td>SI</td>\n",
              "      <td>20.0</td>\n",
              "      <td>3.0</td>\n",
              "      <td>0.951240</td>\n",
              "      <td>0.951240</td>\n",
              "      <td>0.028298</td>\n",
              "    </tr>\n",
              "    <tr>\n",
              "      <th>6</th>\n",
              "      <td>SI</td>\n",
              "      <td>10.0</td>\n",
              "      <td>3.0</td>\n",
              "      <td>0.938896</td>\n",
              "      <td>0.938896</td>\n",
              "      <td>0.037052</td>\n",
              "    </tr>\n",
              "    <tr>\n",
              "      <th>7</th>\n",
              "      <td>SI</td>\n",
              "      <td>10.0</td>\n",
              "      <td>6.0</td>\n",
              "      <td>0.938146</td>\n",
              "      <td>0.938146</td>\n",
              "      <td>0.031042</td>\n",
              "    </tr>\n",
              "    <tr>\n",
              "      <th>5</th>\n",
              "      <td>SI</td>\n",
              "      <td>5.0</td>\n",
              "      <td>6.0</td>\n",
              "      <td>0.932506</td>\n",
              "      <td>0.932506</td>\n",
              "      <td>0.042592</td>\n",
              "    </tr>\n",
              "    <tr>\n",
              "      <th>4</th>\n",
              "      <td>SI</td>\n",
              "      <td>5.0</td>\n",
              "      <td>3.0</td>\n",
              "      <td>0.926323</td>\n",
              "      <td>0.926323</td>\n",
              "      <td>0.054468</td>\n",
              "    </tr>\n",
              "    <tr>\n",
              "      <th>2</th>\n",
              "      <td>SI</td>\n",
              "      <td>3.0</td>\n",
              "      <td>3.0</td>\n",
              "      <td>0.918087</td>\n",
              "      <td>0.918087</td>\n",
              "      <td>0.045298</td>\n",
              "    </tr>\n",
              "    <tr>\n",
              "      <th>3</th>\n",
              "      <td>SI</td>\n",
              "      <td>3.0</td>\n",
              "      <td>6.0</td>\n",
              "      <td>0.895617</td>\n",
              "      <td>0.895617</td>\n",
              "      <td>0.078379</td>\n",
              "    </tr>\n",
              "    <tr>\n",
              "      <th>1</th>\n",
              "      <td>NO</td>\n",
              "      <td>22.0</td>\n",
              "      <td>6.0</td>\n",
              "      <td>0.036192</td>\n",
              "      <td>0.953320</td>\n",
              "      <td>0.032249</td>\n",
              "    </tr>\n",
              "    <tr>\n",
              "      <th>0</th>\n",
              "      <td>NO</td>\n",
              "      <td>22.0</td>\n",
              "      <td>3.0</td>\n",
              "      <td>0.030015</td>\n",
              "      <td>0.951377</td>\n",
              "      <td>0.027807</td>\n",
              "    </tr>\n",
              "  </tbody>\n",
              "</table>\n",
              "</div>"
            ],
            "text/plain": [
              "   CON_SEL  NUM_VAR  ...  ERROR_VALIDACION  IC_STD_VALIDACION\n",
              "9       SI     15.0  ...          0.954878           0.031404\n",
              "11      SI     20.0  ...          0.953329           0.032467\n",
              "8       SI     15.0  ...          0.952058           0.030071\n",
              "10      SI     20.0  ...          0.951240           0.028298\n",
              "6       SI     10.0  ...          0.938896           0.037052\n",
              "7       SI     10.0  ...          0.938146           0.031042\n",
              "5       SI      5.0  ...          0.932506           0.042592\n",
              "4       SI      5.0  ...          0.926323           0.054468\n",
              "2       SI      3.0  ...          0.918087           0.045298\n",
              "3       SI      3.0  ...          0.895617           0.078379\n",
              "1       NO     22.0  ...          0.953320           0.032249\n",
              "0       NO     22.0  ...          0.951377           0.027807\n",
              "\n",
              "[12 rows x 6 columns]"
            ]
          },
          "metadata": {},
          "execution_count": 14
        }
      ]
    },
    {
      "cell_type": "markdown",
      "metadata": {
        "id": "rPm2t0Ses-C_"
      },
      "source": [
        "Veamos como se relaciona el tiempo de ejecución con los splits y la selección de caracteristicas"
      ]
    },
    {
      "cell_type": "code",
      "metadata": {
        "id": "zyr3XQNWs-C_",
        "colab": {
          "base_uri": "https://localhost:8080/",
          "height": 387
        },
        "outputId": "cd4369b4-b337-4e0f-ac49-250ac378e57a"
      },
      "source": [
        "import seaborn as sns\n",
        "d_toplot = pd.melt(dfr,id_vars=['CON_SEL', 'NUM_VAR', 'NUM_SPLITS'], value_vars=['ERROR_VALIDACION', 'T_EJECUCION'])\n",
        "sns.relplot(data = d_toplot, x = 'NUM_VAR', y = 'value', hue = 'CON_SEL', style = 'NUM_SPLITS', col = 'variable', kind='scatter', facet_kws = {'sharey' : False}, aspect=1.2,s=150)"
      ],
      "execution_count": null,
      "outputs": [
        {
          "output_type": "execute_result",
          "data": {
            "text/plain": [
              "<seaborn.axisgrid.FacetGrid at 0x7fcea75d13d0>"
            ]
          },
          "metadata": {},
          "execution_count": 15
        },
        {
          "output_type": "display_data",
          "data": {
            "image/png": "[encoded data removed]",
            "text/plain": [
              "<Figure size 941.375x360 with 2 Axes>"
            ]
          },
          "metadata": {
            "needs_background": "light"
          }
        }
      ]
    },
    {
      "cell_type": "code",
      "metadata": {
        "id": "mbkg7FC0s-C_",
        "cellView": "form"
      },
      "source": [
        "#@title Pregunta Abierta\n",
        "#@markdown ¿Que relación observa entre tiempo de ejecución, el desempeño del modelo y el número de caracteristicas? Explicar con base a los resultados\n",
        "respuesta_4 = 'A medida que hay m\\xE1s selecci\\xF3n de caracter\\xEDsticas se requiere un tiempo de ejecuci\\xF3n m\\xE1s grande, es decir el desempe\\xF1o del modelo se ve afectado por el proceso interno que este conlleva. ' #@param {type:\"string\"}"
      ],
      "execution_count": null,
      "outputs": []
    },
    {
      "cell_type": "markdown",
      "metadata": {
        "id": "2abEvkL9s-C_"
      },
      "source": [
        "Ahora use el mejor modelo para entrenar nuevamente el y saber que caracteristicas tienen el mejor poder predictivo. Use el # de caracteristicas que resulto mejor cuando se realizo alguna selección de caracteristicas."
      ]
    },
    {
      "cell_type": "code",
      "metadata": {
        "id": "AQkHKdj25F_n",
        "colab": {
          "base_uri": "https://localhost:8080/",
          "height": 80
        },
        "outputId": "02d28136-348b-4235-dcbf-6d95414a3e41"
      },
      "source": [
        "# observemos el mejor modelo cuando se realizo selección de caracteristicas\n",
        "dfr[dfr['CON_SEL'] == 'SI'].sort_values([\"ERROR_VALIDACION\"], ascending=[False]).head(1)"
      ],
      "execution_count": null,
      "outputs": [
        {
          "output_type": "execute_result",
          "data": {
            "text/html": [
              "<div>\n",
              "<style scoped>\n",
              "    .dataframe tbody tr th:only-of-type {\n",
              "        vertical-align: middle;\n",
              "    }\n",
              "\n",
              "    .dataframe tbody tr th {\n",
              "        vertical-align: top;\n",
              "    }\n",
              "\n",
              "    .dataframe thead th {\n",
              "        text-align: right;\n",
              "    }\n",
              "</style>\n",
              "<table border=\"1\" class=\"dataframe\">\n",
              "  <thead>\n",
              "    <tr style=\"text-align: right;\">\n",
              "      <th></th>\n",
              "      <th>CON_SEL</th>\n",
              "      <th>NUM_VAR</th>\n",
              "      <th>NUM_SPLITS</th>\n",
              "      <th>T_EJECUCION</th>\n",
              "      <th>ERROR_VALIDACION</th>\n",
              "      <th>IC_STD_VALIDACION</th>\n",
              "    </tr>\n",
              "  </thead>\n",
              "  <tbody>\n",
              "    <tr>\n",
              "      <th>9</th>\n",
              "      <td>SI</td>\n",
              "      <td>15.0</td>\n",
              "      <td>6.0</td>\n",
              "      <td>0.954878</td>\n",
              "      <td>0.954878</td>\n",
              "      <td>0.031404</td>\n",
              "    </tr>\n",
              "  </tbody>\n",
              "</table>\n",
              "</div>"
            ],
            "text/plain": [
              "  CON_SEL  NUM_VAR  ...  ERROR_VALIDACION  IC_STD_VALIDACION\n",
              "9      SI     15.0  ...          0.954878           0.031404\n",
              "\n",
              "[1 rows x 6 columns]"
            ]
          },
          "metadata": {},
          "execution_count": 17
        }
      ]
    },
    {
      "cell_type": "code",
      "metadata": {
        "id": "O14RNe2Zs-C_",
        "colab": {
          "base_uri": "https://localhost:8080/"
        },
        "outputId": "f6dbaee7-28fa-479d-bb0f-b3d60b6f8ef1"
      },
      "source": [
        "lr =  LogisticRegression(solver=\"liblinear\", random_state=0)\n",
        "rfe, feature_mask, _, _, _ = recursive_feature_elimination_wrapper(lr, 15, x,y)\n",
        "print(\"esta es la mascara (deberia ser solo valores True y False) \\n\", feature_mask)"
      ],
      "execution_count": null,
      "outputs": [
        {
          "output_type": "stream",
          "name": "stdout",
          "text": [
            "esta es la mascara (deberia ser solo valores True y False) \n",
            " [ True  True False  True  True  True  True  True  True False False False\n",
            " False False  True  True  True  True  True False  True  True]\n"
          ]
        }
      ]
    },
    {
      "cell_type": "code",
      "metadata": {
        "id": "HAI-9lx-X8EG",
        "cellView": "form"
      },
      "source": [
        "#@title Pregunta Abierta\n",
        "#@markdown Utilizando los resultados obtenidos, sí en algún momento se debe prescindir de algunas de las variables para realizar el diagnóstico, ¿cuáles se podrían sugerir como candidatas menos importantes al personal médico ?\n",
        "respuesta_5 = ' Las variables no utilizadas: ALTV, MLTV, Width, Min, Max, FM, Variance.' #@param {type:\"string\"}"
      ],
      "execution_count": null,
      "outputs": []
    },
    {
      "cell_type": "code",
      "metadata": {
        "id": "MjCSjpNM2yiA",
        "colab": {
          "base_uri": "https://localhost:8080/"
        },
        "outputId": "422f605d-f9c8-4215-9fe7-f485b5742051"
      },
      "source": [
        "GRADER.check_tests()"
      ],
      "execution_count": null,
      "outputs": [
        {
          "output_type": "stream",
          "name": "stdout",
          "text": [
            "Todo se ve ok. Asegurate de responder las preguntas abiertas y envia le archivo al formulario ¡buen trabajo!\n"
          ]
        }
      ]
    },
    {
      "cell_type": "code",
      "metadata": {
        "id": "vqcKYd1js-C_",
        "cellView": "form"
      },
      "source": [
        "#@title Integrantes\n",
        "codigo_integrante_1 ='1035439685' #@param {type:\"string\"}\n",
        "codigo_integrante_2 = '1020485954'  #@param {type:\"string\"}"
      ],
      "execution_count": null,
      "outputs": []
    },
    {
      "cell_type": "markdown",
      "metadata": {
        "id": "uwJAiR-ds-C_"
      },
      "source": [
        "----\n",
        "esta linea de codigo va fallar, es de uso exclusivo de los profesores\n"
      ]
    },
    {
      "cell_type": "code",
      "metadata": {
        "id": "vlODTVQ-s-C_"
      },
      "source": [
        "GRADER.grade()"
      ],
      "execution_count": null,
      "outputs": []
    }
  ]
}