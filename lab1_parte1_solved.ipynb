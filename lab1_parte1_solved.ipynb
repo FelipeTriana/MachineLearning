{
  "nbformat": 4,
  "nbformat_minor": 0,
  "metadata": {
    "colab": {
      "name": "lab1_parte1_solved.ipynb",
      "provenance": [],
      "collapsed_sections": [],
      "include_colab_link": true
    },
    "kernelspec": {
      "display_name": "Python 3",
      "language": "python",
      "name": "python3"
    },
    "language_info": {
      "codemirror_mode": {
        "name": "ipython",
        "version": 3
      },
      "file_extension": ".py",
      "mimetype": "text/x-python",
      "name": "python",
      "nbconvert_exporter": "python",
      "pygments_lexer": "ipython3",
      "version": "3.6.9"
    }
  },
  "cells": [
    {
      "cell_type": "markdown",
      "metadata": {
        "id": "view-in-github",
        "colab_type": "text"
      },
      "source": [
        "<a href=\"https://colab.research.google.com/github/FelipeTriana/MachineLearning/blob/master/lab1_parte1_regresion.ipynb\" target=\"_parent\"><img src=\"https://colab.research.google.com/assets/colab-badge.svg\" alt=\"Open In Colab\"/></a>"
      ]
    },
    {
      "cell_type": "markdown",
      "metadata": {
        "id": "zE8l20T-t-DR"
      },
      "source": [
        "**Recuerda que una vez abierto, Da clic en \"Copiar en Drive\", de lo contrario no podras alamancenar tu progreso**\n",
        "\n",
        "Nota: no olvide ir ejecutando las celdas de código de arriba hacia abajo para que no tenga errores de importación de librerías o por falta de definición de variables.\n"
      ]
    },
    {
      "cell_type": "code",
      "metadata": {
        "id": "19BFks1nt-DR",
        "tags": [],
        "colab": {
          "base_uri": "https://localhost:8080/"
        },
        "outputId": "b9c60d2f-e4cd-4e0a-a14d-a9a4359dc351"
      },
      "source": [
        "#configuración del laboratorio\n",
        "# Ejecuta esta celda!\n",
        "%load_ext autoreload\n",
        "%autoreload 2\n",
        "#for local\n",
        "#import sys ; sys.path.append('../commons/utils/'); sys.path.append('../commons/utils/data')\n",
        "!wget https://raw.githubusercontent.com/jdariasl/ML_2020/master/Labs/commons/utils/general.py -O general.py\n",
        "from general import configure_lab1_p1\n",
        "configure_lab1_p1()\n",
        "from lab1 import *\n",
        "GRADER_LAB_1_P1, db, x, y = part_1()\n",
        "y = y.reshape(np.size(y), 1)"
      ],
      "execution_count": null,
      "outputs": [
        {
          "output_type": "stream",
          "text": [
            "--2021-03-25 18:51:25--  https://raw.githubusercontent.com/jdariasl/ML_2020/master/Labs/commons/utils/general.py\n",
            "Resolving raw.githubusercontent.com (raw.githubusercontent.com)... 185.199.108.133, 185.199.109.133, 185.199.110.133, ...\n",
            "Connecting to raw.githubusercontent.com (raw.githubusercontent.com)|185.199.108.133|:443... connected.\n",
            "HTTP request sent, awaiting response... 200 OK\n",
            "Length: 14632 (14K) [text/plain]\n",
            "Saving to: ‘general.py’\n",
            "\n",
            "general.py          100%[===================>]  14.29K  --.-KB/s    in 0s      \n",
            "\n",
            "2021-03-25 18:51:26 (66.4 MB/s) - ‘general.py’ saved [14632/14632]\n",
            "\n",
            "lab configuration started\n",
            "installing libraries\n",
            "downloading files\n",
            "lab configured\n",
            "cargando librerias y variables al ambiente\n"
          ],
          "name": "stdout"
        }
      ]
    },
    {
      "cell_type": "markdown",
      "metadata": {
        "id": "1DGtR6cMt-DU"
      },
      "source": [
        "# Laboratorio 1 - Parte 1 Regresión polinomial múltiple\n"
      ]
    },
    {
      "cell_type": "markdown",
      "metadata": {
        "id": "0MJDEwjht-DV"
      },
      "source": [
        "### Ejercicio 1: Contextualización del problema\n",
        "\n",
        "El problema de regresión que abordaremos consiste en predecir el valor de la humedad absoluta en el aire, a partir de varias variables sensadas en el aire (Para más información sobre la base de datos y la contextualización del problema, consulte: http://archive.ics.uci.edu/ml/datasets/air+quality)."
      ]
    },
    {
      "cell_type": "code",
      "metadata": {
        "id": "HeVKE-aot-DV",
        "tags": [],
        "colab": {
          "base_uri": "https://localhost:8080/"
        },
        "outputId": "13015434-05d3-4169-cbc7-99a7348999da"
      },
      "source": [
        "# tienes ya cargadas las siguientes variables:\n",
        "print(\"conjunto de datos\", x)\n",
        "print(\"variable a predecir\", y)"
      ],
      "execution_count": null,
      "outputs": [
        {
          "output_type": "stream",
          "text": [
            "conjunto de datos [[   2.6 1360.   150.  ... 1268.    13.6   48.9]\n",
            " [   2.  1292.   112.  ...  972.    13.3   47.7]\n",
            " [   2.2 1402.    88.  ... 1074.    11.9   54. ]\n",
            " ...\n",
            " [   2.4 1142.  -200.  ... 1092.    26.9   18.3]\n",
            " [   2.1 1003.  -200.  ...  770.    28.3   13.5]\n",
            " [   2.2 1071.  -200.  ...  816.    28.5   13.1]]\n",
            "variable a predecir [[0.7578]\n",
            " [0.7255]\n",
            " [0.7502]\n",
            " ...\n",
            " [0.6406]\n",
            " [0.5139]\n",
            " [0.5028]]\n"
          ],
          "name": "stdout"
        }
      ]
    },
    {
      "cell_type": "code",
      "metadata": {
        "id": "-sSUDTQOt-DZ",
        "tags": []
      },
      "source": [
        "#Ejercicio de Codigo\n",
        "def num_muestras_carac(X):\n",
        "    \"\"\"Esta funcion es encargada retornar el numero de muestras\n",
        "        y caracteristicas del conjunto de datos X\n",
        "\n",
        "        X: matriz numpy\n",
        "        retorna:\n",
        "            numero de muestras (int/float)\n",
        "            numero de caracteristicas (int/float)\n",
        "    \"\"\"\n",
        "    return (X.shape)"
      ],
      "execution_count": null,
      "outputs": []
    },
    {
      "cell_type": "code",
      "metadata": {
        "colab": {
          "base_uri": "https://localhost:8080/"
        },
        "id": "DxtNDoQygMb7",
        "outputId": "e35c7571-c98f-4e2f-a3e8-7ad72c9848ac"
      },
      "source": [
        "x.shape"
      ],
      "execution_count": null,
      "outputs": [
        {
          "output_type": "execute_result",
          "data": {
            "text/plain": [
              "(9357, 12)"
            ]
          },
          "metadata": {
            "tags": []
          },
          "execution_count": 4
        }
      ]
    },
    {
      "cell_type": "code",
      "metadata": {
        "id": "E3p3FE_Jt-Da",
        "tags": [],
        "colab": {
          "base_uri": "https://localhost:8080/"
        },
        "outputId": "c0543138-f1ee-4f6b-e7bd-bab839834efd"
      },
      "source": [
        "## la funcion que prueba tu implementacion\n",
        "GRADER_LAB_1_P1.run_test(\"ejercicio1\", num_muestras_carac)"
      ],
      "execution_count": null,
      "outputs": [
        {
          "output_type": "stream",
          "text": [
            "TEST EXITOSO!\n"
          ],
          "name": "stdout"
        }
      ]
    },
    {
      "cell_type": "code",
      "metadata": {
        "cellView": "form",
        "id": "WjDP5hKtt-Dc"
      },
      "source": [
        "#@title Pregunta Abierta\n",
        "#@markdown  ¿que tipo de problema vamos a resolver? justifique su respuesta \n",
        "respuesta_1 = \"Se nos suministra las respuestas de un dispositivo multisensor. Con base en la estructura de los datos podemos inferir que se trata de un problema de regresion porque los valores de la variable \\\"y\\\" son continuos. Ademas al tratarse de una regresion el problema encaja en la categoria de aprendizaje supervisado \" #@param {type:\"string\"}"
      ],
      "execution_count": null,
      "outputs": []
    },
    {
      "cell_type": "markdown",
      "metadata": {
        "id": "IsCCj-RFt-De"
      },
      "source": [
        "### Ejercicio 2\n",
        "\n",
        "Analice los siguientes métodos de la teoría  de modelos de  *regresión polinomial múltiple*:\n",
        "\n",
        "1. error cuadrático medio (**ECM**)\n",
        "2. modelo de regresión múltiple (**regression**)\n",
        "3. calculo del costo de la regresión (**cost**)\n",
        "4. extension de matriz (**extension_matriz**)\n",
        "\n",
        "La siguiente celda contiene la implementación de estas 4 funciones. Analizar y entender su funcionamiento"
      ]
    },
    {
      "cell_type": "code",
      "metadata": {
        "id": "uautFfy5t-De"
      },
      "source": [
        "def ECM(Y_est,Y):\n",
        "    \"\"\"funcion para calcular el error cuadratico medio\n",
        "    Y_est: debe contener los valores predichos por el modelo evaluar\n",
        "    Y: debe contener los valores reales\n",
        "    retorna: error cuadratico medio\n",
        "    \"\"\"\n",
        "    N = np.size(Y)\n",
        "    ecm = np.sum((Y_est.reshape(N,1) - Y.reshape(N,1))**2)/(N)\n",
        "    return ecm \n",
        "\n",
        "def regression(X, W):\n",
        "    \"\"\"calcula la regresión multiple\n",
        "    X: los valores que corresponden a las caractersiticas\n",
        "    W: son los pesos usadados para realizar la regresión\n",
        "    retorna: valor estimado\n",
        "    \"\"\"    \n",
        "    Yest = np.dot(X,W)    #con np.dot se realiza el producto matricial. Aquí X es dim [Nxd] y W es dim [dx1]\n",
        "    return Yest           #Esta variable contiene la salida de f(X,W)\n",
        "\n",
        "\n",
        "def cost(W,X,Y):\n",
        "    \"\"\"calcula el costo de la regresion\n",
        "    W: son los pesos usadados para realizar la regresión\n",
        "    X: los valores que corresponden a las caractersiticas\n",
        "    Y: el valor de salida esperadas\n",
        "\n",
        "    retorna: valor de costo\n",
        "    \"\"\"    \n",
        "    \n",
        "    m = len(Y)\n",
        "    y_est = regression(X,W)\n",
        "    cost = (1/2*m) * np.sum(np.square(y_est-Y))\n",
        "    return cost\n",
        "\n",
        "def extension_matriz(X):\n",
        "    \"\"\"funcion que realiza la extension de la matriz X\n",
        "    X: los valores que corresponden a las caractersiticas sin extender\n",
        "    Y: el valor de salida esperadas\n",
        "    \n",
        "    retorna: X_ext: matriz con unos extendidos, Y: maitrz con dimensiones ajustadas\n",
        "    \"\"\"\n",
        "    #Obtenemos las dimensiones antes de exteneder la matriz\n",
        "    muestras,caracterisitcas = num_muestras_carac(X)\n",
        "    #Extendemos la matriz X\n",
        "    unos = np.array([np.ones(muestras)])\n",
        "    X_ext = np.concatenate((unos.T, X), axis=1)\n",
        "    X_ext = X_ext.reshape(muestras, caracterisitcas+1)\n",
        "    return (X_ext)\n"
      ],
      "execution_count": null,
      "outputs": []
    },
    {
      "cell_type": "code",
      "metadata": {
        "cellView": "form",
        "id": "L8_MgMs8sBn3"
      },
      "source": [
        "#@title Pregunta Abierta\n",
        "#@markdown  ¿analizando la función extension_matriz, y recordando como actua una regresión, por que va ser necesario realizar esta operacion?\n",
        "respuesta_2 = \"A partir de la matriz de datos es crucial crear la matriz extendida que contendra  una columna adicional de unos. Esto se hace para que al realizar el producto matricial con los pesos podamos multiplicar por dicha columna de unos lo que corresponde al termino independiente del polinomio. El termino independiente es muy importante pues nos permite mover la grafica en el intercepto y ajustar mejor el modelo a los datos.\" #@param {type:\"string\"}"
      ],
      "execution_count": null,
      "outputs": []
    },
    {
      "cell_type": "markdown",
      "metadata": {
        "id": "792kf6-pt-Dk"
      },
      "source": [
        "Ahora vamos a completar el código de la regla de actualización de los parámetros del algoritmo de <font color='blue'>gradiente_descedente</font>: \n",
        "\n",
        "$$w_j(iter) = w_j(iter-1) - \\eta \\frac{\\partial E(w)}{\\partial w_j}$$ \n",
        "\n",
        "recordar que \n",
        "\n",
        "$$ \\frac{\\partial E(w)}{\\partial w_j} = \\frac{\\partial E({\\bf{w}})}{\\partial w_j} = \\frac{1}{N}\\sum_{i=1}^{N}\\left( f({\\bf{x}}_i,{\\bf{w}}) - y_i\\right) \\frac{\\partial }{\\partial w_j} f({\\bf{x}}_i, {\\bf{w}})$$\n",
        "\n",
        "recuerda que debe usar las funciones ya implementadas y no usar **ninguna otra libreria**, adicional a las librerias ya pre-cargadas como numpy (la puedes llamar con np.)"
      ]
    },
    {
      "cell_type": "code",
      "metadata": {
        "id": "LTh-Fn3Ft-Dl"
      },
      "source": [
        "## Ejercicio de codigo\n",
        "def gradiente_descendente(X, Y, eta, iteraciones):\n",
        "    \"\"\"Gradiente descendente para regresión lineal múltiple\n",
        "    X: Matriz de datos\n",
        "    Y: vector con los valores a predecir\n",
        "    W: Vector de parámetros del modelo\n",
        "    eta: Taza de aprendizaje\n",
        "\n",
        "    retorna: W el valor de de los parametros de regresión polinomica\n",
        "             costos: array con el costo por iteracion\n",
        "    \"\"\"\n",
        "    # nuevamente usamos la función\n",
        "    # para saber el numero de muestras y caractersiticas\n",
        "    X_ext = extension_matriz(X)\n",
        "    N, caracterisitcas = num_muestras_carac(X_ext)\n",
        "    #Inicializamos el vector de parámetros con ceros y\n",
        "    W = np.zeros((1,caracterisitcas))\n",
        "    W = W.reshape(np.size(W), 1)    \n",
        "    # incializamos vector para almacenar costos\n",
        "    costos = np.zeros(iteraciones)\n",
        "\n",
        "    for i in range(iteraciones):\n",
        "        ## Aca debes completar la funcion! recuerda que solo debes usar numpy (np.funcion_a_usar)\n",
        "        # o las funciones definidas anteriormente\n",
        "        # usa la funcion que hace la regresion y que definimos antes\n",
        "        y_est = regression(X_ext,W)\n",
        "        f_xw_min_yi = y_est - Y.reshape(N,1)\n",
        "        temp = f_xw_min_yi*X_ext\n",
        "        temp = np.sum(temp,axis=0,keepdims=True)\n",
        "        \n",
        "        # acutaliza\n",
        "        W = W-(eta*temp.T)/N\n",
        "        costos[i] = cost(W,X_ext,Y)\n",
        "        \n",
        "    return W, costos"
      ],
      "execution_count": null,
      "outputs": []
    },
    {
      "cell_type": "code",
      "metadata": {
        "colab": {
          "base_uri": "https://localhost:8080/"
        },
        "id": "qyDVgisyZyRv",
        "outputId": "716fda7a-6c69-43e1-c630-285f3609ffb3"
      },
      "source": [
        "m = gradiente_descendente(x,y,0.0001,10)\n",
        "print (m)"
      ],
      "execution_count": null,
      "outputs": [
        {
          "output_type": "stream",
          "text": [
            "(array([[-2.17554835e+21],\n",
            "       [ 7.39896313e+22],\n",
            "       [-2.49565572e+24],\n",
            "       [ 3.32903767e+23],\n",
            "       [-2.80085616e+22],\n",
            "       [-2.16650634e+24],\n",
            "       [-4.05615138e+23],\n",
            "       [-1.75627517e+24],\n",
            "       [-1.36007239e+23],\n",
            "       [-3.32012088e+24],\n",
            "       [-2.39259081e+24],\n",
            "       [-4.40779036e+22],\n",
            "       [-1.11030952e+23]]), array([8.43041076e+13, 3.01054762e+19, 1.07827818e+25, 3.86204117e+30,\n",
            "       1.38325733e+36, 4.95437715e+41, 1.77449650e+47, 6.35566837e+52,\n",
            "       2.27639336e+58, 8.15329944e+63]))\n"
          ],
          "name": "stdout"
        }
      ]
    },
    {
      "cell_type": "code",
      "metadata": {
        "id": "JhwNveWct-Dm",
        "tags": [],
        "colab": {
          "base_uri": "https://localhost:8080/"
        },
        "outputId": "08b66971-6e14-4a92-bd0b-47b17c72d894"
      },
      "source": [
        "## la funcion que prueba tu implementacion\n",
        "GRADER_LAB_1_P1.run_test(\"ejercicio2\", gradiente_descendente)"
      ],
      "execution_count": null,
      "outputs": [
        {
          "output_type": "stream",
          "text": [
            "TEST EXITOSO!\n"
          ],
          "name": "stdout"
        }
      ]
    },
    {
      "cell_type": "markdown",
      "metadata": {
        "id": "SKjx_cyit-Do"
      },
      "source": [
        "### Ejercicio 3: Entrenamiento\n",
        "\n",
        "Con la función implementada vamos a entrenar un modelo y calcular su error de entrenamiento. Antes de realizar esto, debemos separar nuestro conjunto de datos."
      ]
    },
    {
      "cell_type": "code",
      "metadata": {
        "id": "jlbnCB7qsBn4"
      },
      "source": [
        "# esto para lograr reproductibilidad\n",
        "# de nuestro modelo\n",
        "random.seed(1)\n",
        "# usamos nuestra funcion para obtener el numero de muestras\n",
        "N, _ = num_muestras_carac(x)\n",
        "ind=np.random.permutation(N)\n",
        "Xtrain = x[ind[0:int(math.ceil(0.7*N))],:]\n",
        "Xtest = x[ind[int(math.ceil(0.7*N)):N],:]\n",
        "Ytrain = y[ind[0:int(math.ceil(0.7*N))]]\n",
        "Ytest = y[ind[int(math.ceil(0.7*N)):N]]"
      ],
      "execution_count": null,
      "outputs": []
    },
    {
      "cell_type": "code",
      "metadata": {
        "cellView": "form",
        "id": "FN-97HegsBn4"
      },
      "source": [
        "#@title Pregunta Abierta\n",
        "#@markdown  ¿por qué fue necesario dividir nuestro conjunto de datos? justifique su respuesta \n",
        "respuesta_3 = \"Es fundamental separar el conjunto de datos para realizar pruebas y validaciones al modelo, dichas validaciones se realizan con muestras diferentes que no hayan sido incluidas en el proceso de entrenamiento del modelo. El motivo: No tiene sentido encontrar los pesos que corresponden a un conjunto de datos y validarlo con estos mismos pues no tendriamos claridad acerca del desempeno del modelo con datos nuevos o diferententes a los que usamos para entrenarlo. Incluso, con los datos de entrenamiento ya le estamos diciendo al modelo las respuestas esperadas.\\\"\" #@param {type:\"string\"}"
      ],
      "execution_count": null,
      "outputs": []
    },
    {
      "cell_type": "markdown",
      "metadata": {
        "id": "WirOVVB3t-Dq"
      },
      "source": [
        "Ahora entrena ejecutando la siguiente linea de codigo y verifiquemos el comportamiento del costo"
      ]
    },
    {
      "cell_type": "code",
      "metadata": {
        "id": "0yZA7wcCt-Dr",
        "tags": [],
        "colab": {
          "base_uri": "https://localhost:8080/",
          "height": 293
        },
        "outputId": "780096b4-1218-4e5d-bc3d-6bd370be52c3"
      },
      "source": [
        "W, costo = gradiente_descendente(Xtrain, Ytrain, eta = 0.0001, iteraciones=5)\n",
        "# graficar iteraciones y el costo\n",
        "plt.plot(range(5), costo)"
      ],
      "execution_count": null,
      "outputs": [
        {
          "output_type": "execute_result",
          "data": {
            "text/plain": [
              "[<matplotlib.lines.Line2D at 0x7f855d8e5510>]"
            ]
          },
          "metadata": {
            "tags": []
          },
          "execution_count": 14
        },
        {
          "output_type": "display_data",
          "data": {
            "image/png": "[encoded data removed]",
            "text/plain": [
              "<Figure size 432x288 with 1 Axes>"
            ]
          },
          "metadata": {
            "tags": [],
            "needs_background": "light"
          }
        }
      ]
    },
    {
      "cell_type": "markdown",
      "metadata": {
        "id": "FaJMlrKvsBn5"
      },
      "source": [
        "El costo es la medida interna de nuestro algoritmo de optimización sin embargo, para este tipo de problemas al final debemos evaluar que tan bien estamos modelando nuestra salida. Vamos a evaluar nuestro modelo calculando el error cuadrático medio. Para ello vamos crear a una función. Recuerda usar las funciones definidas anteriormente."
      ]
    },
    {
      "cell_type": "code",
      "metadata": {
        "id": "oi2YMyITt-Du"
      },
      "source": [
        "## Ejercicio de Código\n",
        "def evaluar_modelo (W, X_to_test, Y_True):\n",
        "    \"\"\" funcion que evalua un modelo de regresión usando el error cuadratico medio\n",
        "\n",
        "    W: es un matriz con los parametros del modelo entrenados\n",
        "    X_to_test: conjunto de datos para usar en el evaluamiento del modelo\n",
        "    Y_True: valores reales para usar en el evaluamiento del modelo\n",
        "\n",
        "    retorna: el error cuadratico medio\n",
        "    \"\"\"\n",
        "    ## Comienza a completar tu codigo. recuerda usar la funciones ya definidas\n",
        "    X_to_test_ext = extension_matriz(X_to_test)\n",
        "    y_est = regression(X_to_test_ext, W)\n",
        "    error = ECM(Y_True, y_est)\n",
        "\n",
        "    return(error)"
      ],
      "execution_count": null,
      "outputs": []
    },
    {
      "cell_type": "code",
      "metadata": {
        "id": "5J2Y2CR0t-Dw",
        "tags": [],
        "colab": {
          "base_uri": "https://localhost:8080/"
        },
        "outputId": "1da544c6-485b-4226-b6d6-3cc957ffab61"
      },
      "source": [
        "## la funcion que prueba tu implementacion\n",
        "GRADER_LAB_1_P1.run_test(\"ejercicio3\", evaluar_modelo)"
      ],
      "execution_count": null,
      "outputs": [
        {
          "output_type": "stream",
          "text": [
            "TEST EXITOSO!\n"
          ],
          "name": "stdout"
        }
      ]
    },
    {
      "cell_type": "code",
      "metadata": {
        "id": "SkVgkc_5t-Dy",
        "tags": [],
        "colab": {
          "base_uri": "https://localhost:8080/"
        },
        "outputId": "72cb31a3-e34f-4b7f-ac5d-c1d613ec8c9d"
      },
      "source": [
        "# y ahora usala para calcular el error, para evaluar el modelo\n",
        "error_train = evaluar_modelo(W, X_to_test = Xtrain,  Y_True = Ytrain)\n",
        "print(\"error en entrenamiento del modelo\", error_train)\n",
        "error_test = evaluar_modelo(W, X_to_test = Xtest,  Y_True = Ytest)\n",
        "print(\"error en la evaluación del modelo\", error_test)"
      ],
      "execution_count": null,
      "outputs": [
        {
          "output_type": "stream",
          "text": [
            "error en entrenamiento del modelo 3.1108973518075853e+28\n",
            "error en la evaluación del modelo 3.0774238899710196e+28\n"
          ],
          "name": "stdout"
        }
      ]
    },
    {
      "cell_type": "code",
      "metadata": {
        "cellView": "form",
        "id": "Dy9Ft9cJt-D0"
      },
      "source": [
        "#@title Pregunta Abierta\n",
        "#@markdown ¿que conjunto de datos se uso para evaluar el modelo (cual fue el conjunto de datos asignado a X_to_test para el error test)? justifica tu respuesta\n",
        "respuesta_4 = \"El conjunto de datos que se aislo de los datos de entrenamiento. Dicho conjunto fue separado anteriormente del conjunto total de datos.  El conjunto de datos asignado a X_to_test fue Xtest. La justificacion se da en la pregunta anterior, recalcamos el hecho de que la evaluacion del modelo se realiza con muestras diferentes que no hayan sido incluidas en el entrenamiento \\\"\" #@param {type:\"string\"}"
      ],
      "execution_count": null,
      "outputs": []
    },
    {
      "cell_type": "code",
      "metadata": {
        "cellView": "form",
        "id": "50C2ZAubt-D2"
      },
      "source": [
        "#@title Pregunta Abierta\n",
        "#@markdown  escribe aqui tu error al evaluar el modelo con tres cifras decimales. ¿Que tan bueno es tu modelo? Justifica tu respuesta.\n",
        "respuesta_5 = \"3.051e+28, segun esto el modelo no es bueno pues el error es exageradamente grande. Cabe aclarar que dicho error representa la diferencia que hay entre el dato obtenido y el dato real o teorico, por lo que el ECM se encuentra muy alejado del valor ideal que es el cero.\" #@param {type:\"string\"}"
      ],
      "execution_count": null,
      "outputs": []
    },
    {
      "cell_type": "markdown",
      "metadata": {
        "id": "pq729RWGt-D3"
      },
      "source": [
        "Hasta ahora lo que hemos realizado es un regresión lineal no polinómica. Nuestro siguiente objetivo es tomar esta regresión y transformarla en polinómica. Comprenda el funcionamiento de la función propuesta"
      ]
    },
    {
      "cell_type": "code",
      "metadata": {
        "id": "3OU0ZVLut-D3"
      },
      "source": [
        "#Potencia de polinomio\n",
        "def potenciaPolinomio(X,grado):\n",
        "    \"\"\"calcula la potencia del polinomio\n",
        "    X: los valores que corresponden a las caractersiticas\n",
        "    grado: esl grado para realizar la potencia al polinomio\n",
        "    retorna: el valor de X despues elevarlo al grado del polinimoo indicado\n",
        "    \"\"\"\n",
        "    X2 = X.copy()\n",
        "    \n",
        "    if grado != 1:\n",
        "        for i in range(2,grado+1):\n",
        "            Xadd = X**i\n",
        "            X2 = np.concatenate((X2, Xadd), axis=1)\n",
        "    \n",
        "    return X2"
      ],
      "execution_count": null,
      "outputs": []
    },
    {
      "cell_type": "code",
      "metadata": {
        "colab": {
          "base_uri": "https://localhost:8080/"
        },
        "id": "EjJ-NjkLCY5U",
        "outputId": "4fba6f95-af41-426c-d9b8-dad3a6d09845"
      },
      "source": [
        "r = potenciaPolinomio(np.array([[2,2,2],[3,3,3],[4,4,4]]), 3)\n",
        "print (r)"
      ],
      "execution_count": null,
      "outputs": [
        {
          "output_type": "stream",
          "text": [
            "[[ 2  2  2  4  4  4  8  8  8]\n",
            " [ 3  3  3  9  9  9 27 27 27]\n",
            " [ 4  4  4 16 16 16 64 64 64]]\n"
          ],
          "name": "stdout"
        }
      ]
    },
    {
      "cell_type": "markdown",
      "metadata": {
        "id": "N37UeA5mt-D5"
      },
      "source": [
        "ahora debemos usar esta función para completar la siguiente.\n",
        "**PISTAS**\n",
        "- Usa las funciones previamente construidas\n",
        "- Para completar `gradiente_descendente_poly` Tener presente que buscamos realizar este proceso: aplicar la `potenciaPolinomio` ->  aplicar gradiente descendente\n",
        "- Para completar `evaluar_modelo_poly` Tener presente que buscamos realizar este proceso: aplicar la `potenciaPolinomio`  -> evaluar el modelo"
      ]
    },
    {
      "cell_type": "code",
      "metadata": {
        "id": "lJd2w7ezt-D5"
      },
      "source": [
        "## Ejercicio de codigo\n",
        "def gradiente_descendente_poly (X, Y, eta, iteraciones, grado):\n",
        "    \"\"\"Gradiente descendente para regresión lineal múltiple\n",
        "    X: Matriz de datos extendida\n",
        "    Y: vector con los valores a predecir\n",
        "    W: Vector de parámetros del modelo\n",
        "    eta: Taza de aprendizaje\n",
        "    iteraciones: numero de iteraciones maximo para el gradiente\n",
        "    grado: el valor del polinomio a usar\n",
        "    \n",
        "    retorna: W el valor de de los parametros de regresión polinomica\n",
        "             costo: array con el valor del costo por cada iteracion\n",
        "            \n",
        "    \"\"\"\n",
        "    ## completa el codigo\n",
        "    X2 = potenciaPolinomio(X, grado)\n",
        "    W, costo = gradiente_descendente(X2, Y, eta, iteraciones)\n",
        "    return (W, costo)\n",
        "\n",
        "def evaluar_modelo_poly (W, X_to_test, Y_True, grado):\n",
        "    \"\"\" funcion que evalua un modelo de regresión usando el error cuadratico medio\n",
        "\n",
        "    W: es un matriz con los parametros del modelo entrenados\n",
        "    X_to_test: conjunto de datos para usar en el evaluamiento del modelo\n",
        "    Y_True: valores reales para usar en el evaluamiento del modelo\n",
        "    grado: grado del polinimio a usar\n",
        "\n",
        "    retorna: el error cuadratico medio\n",
        "    \"\"\"\n",
        "    ## Comienza a completar tu codigo. recuerda usar la funciones ya definidas\n",
        "    X2 = potenciaPolinomio(X_to_test, grado)\n",
        "    error = evaluar_modelo (W, X2, Y_True)\n",
        "    \n",
        "    return(error)"
      ],
      "execution_count": null,
      "outputs": []
    },
    {
      "cell_type": "code",
      "metadata": {
        "id": "ji7q97o1t-D7",
        "tags": [],
        "colab": {
          "base_uri": "https://localhost:8080/"
        },
        "outputId": "7d0c45f5-e316-439c-a24c-90c0bcdf8643"
      },
      "source": [
        "## la funcion que prueba tu implementacion\n",
        "GRADER_LAB_1_P1.run_test(\"ejercicio4\", gradiente_descendente_poly)"
      ],
      "execution_count": null,
      "outputs": [
        {
          "output_type": "stream",
          "text": [
            "TEST EXITOSO!\n"
          ],
          "name": "stdout"
        }
      ]
    },
    {
      "cell_type": "code",
      "metadata": {
        "id": "RNsDxiFZsBn8",
        "colab": {
          "base_uri": "https://localhost:8080/"
        },
        "outputId": "429b9db9-c93f-4d67-e808-b3d33c6ebac6"
      },
      "source": [
        "## la funcion que prueba tu implementacion\n",
        "GRADER_LAB_1_P1.run_test(\"ejercicio5\", evaluar_modelo_poly)"
      ],
      "execution_count": null,
      "outputs": [
        {
          "output_type": "stream",
          "text": [
            "TEST EXITOSO!\n"
          ],
          "name": "stdout"
        }
      ]
    },
    {
      "cell_type": "markdown",
      "metadata": {
        "id": "0yGe9d6ysBn8"
      },
      "source": [
        "Entrenemos y evaluemos el comportamiento del costo con la regresion polinomica ¿El cambio fue bueno?"
      ]
    },
    {
      "cell_type": "code",
      "metadata": {
        "id": "FYhz7MRIt-D8",
        "tags": [],
        "colab": {
          "base_uri": "https://localhost:8080/",
          "height": 293
        },
        "outputId": "1996bedd-8a9e-493b-8c46-304e6eec319a"
      },
      "source": [
        "# entrenamos\n",
        "W, costo_poly = gradiente_descendente_poly(Xtrain, Ytrain, eta = 0.0001, iteraciones=5, grado = 2)\n",
        "plt.plot(range(5), costo_poly)"
      ],
      "execution_count": null,
      "outputs": [
        {
          "output_type": "execute_result",
          "data": {
            "text/plain": [
              "[<matplotlib.lines.Line2D at 0x7f854b9e8d50>]"
            ]
          },
          "metadata": {
            "tags": []
          },
          "execution_count": 25
        },
        {
          "output_type": "display_data",
          "data": {
            "image/png": "[encoded data removed]",
            "text/plain": [
              "<Figure size 432x288 with 1 Axes>"
            ]
          },
          "metadata": {
            "tags": [],
            "needs_background": "light"
          }
        }
      ]
    },
    {
      "cell_type": "code",
      "metadata": {
        "id": "CYMnh6n7t-EA",
        "tags": [],
        "colab": {
          "base_uri": "https://localhost:8080/"
        },
        "outputId": "f7505cf6-0c69-45f1-cfe2-605acd16813f"
      },
      "source": [
        "# completa los parametros para evaluar el modelo\n",
        "error_test = evaluar_modelo_poly(W, X_to_test = Xtest,  Y_True = Ytest, grado = 2)\n",
        "print(\"error en la evaluación del modelo\", error_test)"
      ],
      "execution_count": null,
      "outputs": [
        {
          "output_type": "stream",
          "text": [
            "error en la evaluación del modelo 1.4037770060782617e+90\n"
          ],
          "name": "stdout"
        }
      ]
    },
    {
      "cell_type": "markdown",
      "metadata": {
        "id": "5pBn_Tt6t-EC"
      },
      "source": [
        "### Ejercicio 4: Experimentar\n",
        "\n",
        "En nuestro primer experimento vamos a evaluar el rendimiento del modelo usando varias tasas de aprendizaje y grados de polinimios. Vamos a dejar por ahora un numero de iteraciones fijas = 5. Para ello completa la siguiente función.\n",
        "\n"
      ]
    },
    {
      "cell_type": "code",
      "metadata": {
        "id": "ALxnYTFTt-EC"
      },
      "source": [
        "## ejercicio de codigo\n",
        "def experimentar (Xtrain, Xtest, Ytrain, Ytest, tasas, grados):\n",
        "    \"\"\" funcion para realizar experimentos.\n",
        "    Xtrain: conjunto de datos\n",
        "    Xtest:\n",
        "    Ytrain:\n",
        "    Ytest:\n",
        "    tasas: Es una lista con los valores númericos de tasas de aprendizaje \n",
        "        para realizar los experimentos\n",
        "    grados: Es una lista con los valores númericos de grados \n",
        "        para realizar los experimentos\n",
        "    retorna: un dataframe con el resultados de los experimentos\n",
        "    \"\"\"\n",
        "    numero_iter = 5\n",
        "\n",
        "    resultados = pd.DataFrame()\n",
        "    idx = 0 # indice\n",
        "    for eta in tasas:\n",
        "        for grado in grados:\n",
        "            \n",
        "            # ignorar el costo\n",
        "            W, _ = gradiente_descendente_poly(Xtrain, Ytrain, eta, numero_iter, grado)\n",
        "            error = evaluar_modelo_poly (W, Xtest, Ytest, grado)\n",
        "        \n",
        "            resultados.loc[idx,'grado'] = grado\n",
        "            resultados.loc[idx,'tasa de aprendizaje'] = eta\n",
        "            resultados.loc[idx,'ecm'] = error\n",
        "            idx = idx+1\n",
        "\n",
        "    return (resultados)"
      ],
      "execution_count": null,
      "outputs": []
    },
    {
      "cell_type": "code",
      "metadata": {
        "id": "dKC_CnY1t-EE",
        "tags": [],
        "colab": {
          "base_uri": "https://localhost:8080/"
        },
        "outputId": "67194473-de87-42a6-9e0a-b3e61d57b202"
      },
      "source": [
        "## la funcion que prueba tu implementacion\n",
        "GRADER_LAB_1_P1.run_test(\"ejercicio6\", experimentar)"
      ],
      "execution_count": null,
      "outputs": [
        {
          "output_type": "stream",
          "text": [
            "TEST EXITOSO!\n"
          ],
          "name": "stdout"
        }
      ]
    },
    {
      "cell_type": "code",
      "metadata": {
        "id": "8oxa-XkKt-EF",
        "tags": []
      },
      "source": [
        "## Ahora usa para verlos los resultados\n",
        "tasas_aprendizaje = [1e-6, 1e-5, 1e-3, 1e-2]\n",
        "grados_polinomio = [1,2,3]\n",
        "resultados_ex1 = experimentar(Xtrain, Xtest, Ytrain, Ytest, tasas_aprendizaje, grados_polinomio)"
      ],
      "execution_count": null,
      "outputs": []
    },
    {
      "cell_type": "code",
      "metadata": {
        "id": "zAOcZfoRt-EG",
        "tags": [],
        "colab": {
          "base_uri": "https://localhost:8080/",
          "height": 421
        },
        "outputId": "8bcdc985-da75-47aa-e6be-08ed57cff4af"
      },
      "source": [
        "#para ver los resultados\n",
        "resultados_ex1"
      ],
      "execution_count": null,
      "outputs": [
        {
          "output_type": "execute_result",
          "data": {
            "text/html": [
              "<div>\n",
              "<style scoped>\n",
              "    .dataframe tbody tr th:only-of-type {\n",
              "        vertical-align: middle;\n",
              "    }\n",
              "\n",
              "    .dataframe tbody tr th {\n",
              "        vertical-align: top;\n",
              "    }\n",
              "\n",
              "    .dataframe thead th {\n",
              "        text-align: right;\n",
              "    }\n",
              "</style>\n",
              "<table border=\"1\" class=\"dataframe\">\n",
              "  <thead>\n",
              "    <tr style=\"text-align: right;\">\n",
              "      <th></th>\n",
              "      <th>grado</th>\n",
              "      <th>tasa de aprendizaje</th>\n",
              "      <th>ecm</th>\n",
              "    </tr>\n",
              "  </thead>\n",
              "  <tbody>\n",
              "    <tr>\n",
              "      <th>0</th>\n",
              "      <td>1.0</td>\n",
              "      <td>0.000001</td>\n",
              "      <td>5.077222e+07</td>\n",
              "    </tr>\n",
              "    <tr>\n",
              "      <th>1</th>\n",
              "      <td>2.0</td>\n",
              "      <td>0.000001</td>\n",
              "      <td>1.403776e+70</td>\n",
              "    </tr>\n",
              "    <tr>\n",
              "      <th>2</th>\n",
              "      <td>3.0</td>\n",
              "      <td>0.000001</td>\n",
              "      <td>2.287104e+134</td>\n",
              "    </tr>\n",
              "    <tr>\n",
              "      <th>3</th>\n",
              "      <td>1.0</td>\n",
              "      <td>0.000010</td>\n",
              "      <td>2.646031e+18</td>\n",
              "    </tr>\n",
              "    <tr>\n",
              "      <th>4</th>\n",
              "      <td>2.0</td>\n",
              "      <td>0.000010</td>\n",
              "      <td>1.403777e+80</td>\n",
              "    </tr>\n",
              "    <tr>\n",
              "      <th>5</th>\n",
              "      <td>3.0</td>\n",
              "      <td>0.000010</td>\n",
              "      <td>2.287104e+144</td>\n",
              "    </tr>\n",
              "    <tr>\n",
              "      <th>6</th>\n",
              "      <td>1.0</td>\n",
              "      <td>0.001000</td>\n",
              "      <td>3.123866e+38</td>\n",
              "    </tr>\n",
              "    <tr>\n",
              "      <th>7</th>\n",
              "      <td>2.0</td>\n",
              "      <td>0.001000</td>\n",
              "      <td>1.403777e+100</td>\n",
              "    </tr>\n",
              "    <tr>\n",
              "      <th>8</th>\n",
              "      <td>3.0</td>\n",
              "      <td>0.001000</td>\n",
              "      <td>2.287104e+164</td>\n",
              "    </tr>\n",
              "    <tr>\n",
              "      <th>9</th>\n",
              "      <td>1.0</td>\n",
              "      <td>0.010000</td>\n",
              "      <td>3.128545e+48</td>\n",
              "    </tr>\n",
              "    <tr>\n",
              "      <th>10</th>\n",
              "      <td>2.0</td>\n",
              "      <td>0.010000</td>\n",
              "      <td>1.403777e+110</td>\n",
              "    </tr>\n",
              "    <tr>\n",
              "      <th>11</th>\n",
              "      <td>3.0</td>\n",
              "      <td>0.010000</td>\n",
              "      <td>2.287104e+174</td>\n",
              "    </tr>\n",
              "  </tbody>\n",
              "</table>\n",
              "</div>"
            ],
            "text/plain": [
              "    grado  tasa de aprendizaje            ecm\n",
              "0     1.0             0.000001   5.077222e+07\n",
              "1     2.0             0.000001   1.403776e+70\n",
              "2     3.0             0.000001  2.287104e+134\n",
              "3     1.0             0.000010   2.646031e+18\n",
              "4     2.0             0.000010   1.403777e+80\n",
              "5     3.0             0.000010  2.287104e+144\n",
              "6     1.0             0.001000   3.123866e+38\n",
              "7     2.0             0.001000  1.403777e+100\n",
              "8     3.0             0.001000  2.287104e+164\n",
              "9     1.0             0.010000   3.128545e+48\n",
              "10    2.0             0.010000  1.403777e+110\n",
              "11    3.0             0.010000  2.287104e+174"
            ]
          },
          "metadata": {
            "tags": []
          },
          "execution_count": 30
        }
      ]
    },
    {
      "cell_type": "markdown",
      "metadata": {
        "id": "yoDS2e-gt-EI"
      },
      "source": [
        "Si has implementado todo correctamente, parecieria que nuestros entrenamientos no esta logrando buenos resultados (hasta parece haber errores infinitos! o no determinados!). Ahora Entiende la siguiente función. \n"
      ]
    },
    {
      "cell_type": "code",
      "metadata": {
        "id": "IhHXjgOmt-EI"
      },
      "source": [
        "#Normalizamos los datos\n",
        "def normalizar(Xtrain, Xtest):\n",
        "    \"\"\" función que se usa para normalizar los datos con\n",
        "    un metodo especifico\n",
        "    Xtrain: matriz de datos entrenamiento a normalizar\n",
        "    Xtest: matriz de datos evaluación a normalizar\n",
        "    retorna: matrices normalizadas\n",
        "    \"\"\"\n",
        "    \n",
        "    media = np.mean(Xtrain, axis = 0)\n",
        "    desvia = np.std(Xtrain, axis = 0)\n",
        "    Xtrain_n = stats.stats.zscore(Xtrain)\n",
        "    Xtest_n = (Xtest - media )/desvia\n",
        "    # si hay una desviacion por cero, reemplazamos los nan\n",
        "    Xtrain_n = np.nan_to_num(Xtrain_n)\n",
        "    Xtest_n = np.nan_to_num(Xtest_n)\n",
        "    return (Xtrain_n, Xtest_n)"
      ],
      "execution_count": null,
      "outputs": []
    },
    {
      "cell_type": "markdown",
      "metadata": {
        "id": "PzsHpPk1t-EK"
      },
      "source": [
        "Ahora vuelve a realizar los mismos experimentos pero esta vez usa los valores de salida de la función anterior."
      ]
    },
    {
      "cell_type": "code",
      "metadata": {
        "id": "ZZedE9Qdt-EK",
        "tags": []
      },
      "source": [
        "Xtrain_n, Xtest_n = normalizar(Xtrain, Xtest)"
      ],
      "execution_count": null,
      "outputs": []
    },
    {
      "cell_type": "code",
      "metadata": {
        "id": "j2a8O7c7t-EM",
        "tags": [],
        "colab": {
          "base_uri": "https://localhost:8080/",
          "height": 421
        },
        "outputId": "4d6a5e03-25b2-4b8b-b0e3-1737240dc6c3"
      },
      "source": [
        "resultados_ex2 = experimentar(Xtrain_n, Xtest_n, Ytrain, Ytest, tasas_aprendizaje, grados_polinomio)\n",
        "#para ver los resultados\n",
        "resultados_ex2"
      ],
      "execution_count": null,
      "outputs": [
        {
          "output_type": "execute_result",
          "data": {
            "text/html": [
              "<div>\n",
              "<style scoped>\n",
              "    .dataframe tbody tr th:only-of-type {\n",
              "        vertical-align: middle;\n",
              "    }\n",
              "\n",
              "    .dataframe tbody tr th {\n",
              "        vertical-align: top;\n",
              "    }\n",
              "\n",
              "    .dataframe thead th {\n",
              "        text-align: right;\n",
              "    }\n",
              "</style>\n",
              "<table border=\"1\" class=\"dataframe\">\n",
              "  <thead>\n",
              "    <tr style=\"text-align: right;\">\n",
              "      <th></th>\n",
              "      <th>grado</th>\n",
              "      <th>tasa de aprendizaje</th>\n",
              "      <th>ecm</th>\n",
              "    </tr>\n",
              "  </thead>\n",
              "  <tbody>\n",
              "    <tr>\n",
              "      <th>0</th>\n",
              "      <td>1.0</td>\n",
              "      <td>0.000001</td>\n",
              "      <td>1.711091e+03</td>\n",
              "    </tr>\n",
              "    <tr>\n",
              "      <th>1</th>\n",
              "      <td>2.0</td>\n",
              "      <td>0.000001</td>\n",
              "      <td>1.709596e+03</td>\n",
              "    </tr>\n",
              "    <tr>\n",
              "      <th>2</th>\n",
              "      <td>3.0</td>\n",
              "      <td>0.000001</td>\n",
              "      <td>1.678453e+03</td>\n",
              "    </tr>\n",
              "    <tr>\n",
              "      <th>3</th>\n",
              "      <td>1.0</td>\n",
              "      <td>0.000010</td>\n",
              "      <td>1.710351e+03</td>\n",
              "    </tr>\n",
              "    <tr>\n",
              "      <th>4</th>\n",
              "      <td>2.0</td>\n",
              "      <td>0.000010</td>\n",
              "      <td>1.695457e+03</td>\n",
              "    </tr>\n",
              "    <tr>\n",
              "      <th>5</th>\n",
              "      <td>3.0</td>\n",
              "      <td>0.000010</td>\n",
              "      <td>1.408372e+03</td>\n",
              "    </tr>\n",
              "    <tr>\n",
              "      <th>6</th>\n",
              "      <td>1.0</td>\n",
              "      <td>0.001000</td>\n",
              "      <td>1.630937e+03</td>\n",
              "    </tr>\n",
              "    <tr>\n",
              "      <th>7</th>\n",
              "      <td>2.0</td>\n",
              "      <td>0.001000</td>\n",
              "      <td>6.565814e+02</td>\n",
              "    </tr>\n",
              "    <tr>\n",
              "      <th>8</th>\n",
              "      <td>3.0</td>\n",
              "      <td>0.001000</td>\n",
              "      <td>8.373505e+02</td>\n",
              "    </tr>\n",
              "    <tr>\n",
              "      <th>9</th>\n",
              "      <td>1.0</td>\n",
              "      <td>0.010000</td>\n",
              "      <td>1.060777e+03</td>\n",
              "    </tr>\n",
              "    <tr>\n",
              "      <th>10</th>\n",
              "      <td>2.0</td>\n",
              "      <td>0.010000</td>\n",
              "      <td>1.382211e+01</td>\n",
              "    </tr>\n",
              "    <tr>\n",
              "      <th>11</th>\n",
              "      <td>3.0</td>\n",
              "      <td>0.010000</td>\n",
              "      <td>7.239969e+15</td>\n",
              "    </tr>\n",
              "  </tbody>\n",
              "</table>\n",
              "</div>"
            ],
            "text/plain": [
              "    grado  tasa de aprendizaje           ecm\n",
              "0     1.0             0.000001  1.711091e+03\n",
              "1     2.0             0.000001  1.709596e+03\n",
              "2     3.0             0.000001  1.678453e+03\n",
              "3     1.0             0.000010  1.710351e+03\n",
              "4     2.0             0.000010  1.695457e+03\n",
              "5     3.0             0.000010  1.408372e+03\n",
              "6     1.0             0.001000  1.630937e+03\n",
              "7     2.0             0.001000  6.565814e+02\n",
              "8     3.0             0.001000  8.373505e+02\n",
              "9     1.0             0.010000  1.060777e+03\n",
              "10    2.0             0.010000  1.382211e+01\n",
              "11    3.0             0.010000  7.239969e+15"
            ]
          },
          "metadata": {
            "tags": []
          },
          "execution_count": 33
        }
      ]
    },
    {
      "cell_type": "code",
      "metadata": {
        "id": "CANS0MVut-EO",
        "colab": {
          "base_uri": "https://localhost:8080/",
          "height": 389
        },
        "outputId": "ff7e2dac-7034-4ecc-b95e-b49dabab85e1"
      },
      "source": [
        "# ejecuta esta linea de codigo para graficar tus resultados\n",
        "# aca usamos una libreria llamada seaborn\n",
        "import seaborn as sns\n",
        "s = sns.catplot(data = resultados_ex2, x = 'tasa de aprendizaje',\n",
        "            y = 'ecm',hue ='grado', kind = 'bar', )\n",
        "\n",
        "s.set(yscale='log')     #Esta linea la agregue para poder ver los datos en una escala logaritmica."
      ],
      "execution_count": null,
      "outputs": [
        {
          "output_type": "execute_result",
          "data": {
            "text/plain": [
              "<seaborn.axisgrid.FacetGrid at 0x7f8542b754d0>"
            ]
          },
          "metadata": {
            "tags": []
          },
          "execution_count": 34
        },
        {
          "output_type": "display_data",
          "data": {
            "image/png": "[encoded data removed]",
            "text/plain": [
              "<Figure size 411.875x360 with 1 Axes>"
            ]
          },
          "metadata": {
            "tags": [],
            "needs_background": "light"
          }
        }
      ]
    },
    {
      "cell_type": "markdown",
      "metadata": {
        "id": "LLvDR6k5t-EQ"
      },
      "source": [
        "Ten en cuenta el resutaldo de los  dos experimentos y  responde la  siguiente pregunta abierta"
      ]
    },
    {
      "cell_type": "code",
      "metadata": {
        "cellView": "form",
        "id": "aVFbsu0wt-EQ"
      },
      "source": [
        "#@title Pregunta Abierta\n",
        "#@markdown  ¿Qué proceso hace la normalización sobre los datos? Consulte por qué es necesaria la normalización en el modelo de regresión y cuáles son los tipos de normalización más comunes. ¿Cuál de ellos se aplicó en el laboratorio?\n",
        "respuesta_6 = \"En un modelo como el que estamos trabajando(Regresion) es importante normalizar los datos pues le ayuda al algoritmo a modelar los datos correctamente haciendolo mas optimo, la normalizacion se encarga de transformar los datos a una escala comun sin afectar los intervalos de valores ni la informacion. Los tipos de normalizacion mas comunes son:  Puntuacion estandar o tipificada, T de student, Residuo estudentizado, y Coeficiente de Variacion.   En vista de que en la funcion que se encarga de normalizar los datos se hace uso de: La muestra, la media y la desviacion; El tipo de normalizacion aplicado es la puntuacion estandar.  \" #@param {type:\"string\"}"
      ],
      "execution_count": null,
      "outputs": []
    },
    {
      "cell_type": "markdown",
      "metadata": {
        "id": "1Z3nka5at-ES"
      },
      "source": [
        "Finalmente, en nuestro tercer experimento, vamos ver el efecto de las iteraciones sobre el error. completa la siguiente función. Esta vez la tasa de aprendizaje es constante"
      ]
    },
    {
      "cell_type": "code",
      "metadata": {
        "id": "i2eHfZC9t-ES",
        "tags": []
      },
      "source": [
        "## ejercicio de codigo\n",
        "def experimentar_2 (Xtrain, Xtest, Ytrain, Ytest, iteraciones, grados):\n",
        "    \"\"\" funcion para realizar experimentos.\n",
        "    Xtrain: conjunto de datos\n",
        "    Xtest:\n",
        "    Ytrain:\n",
        "    Ytest:\n",
        "    tasas: Es una lista con los valores númericos de tasas de aprendizaje \n",
        "        para realizar los experimentos\n",
        "    rangos: Es una lista con los valores númericos de grados \n",
        "        para realizar los experimentos\n",
        "    retorna: un dataframe con el resultados de los experimentos\n",
        "    \"\"\"\n",
        "    eta = 1e-2\n",
        "    resultados = pd.DataFrame()\n",
        "    idx = 0 # indice\n",
        "    for iter in iteraciones:\n",
        "        for grado in grados:\n",
        "            # ignora el costo\n",
        "            W , _= gradiente_descendente_poly(Xtrain, Ytrain, eta, iter, grado)\n",
        "            error = evaluar_modelo_poly (W, Xtest, Ytest, grado)\n",
        "        \n",
        "            resultados.loc[idx,'iteraciones'] = iter\n",
        "            resultados.loc[idx,'grado'] = grado\n",
        "            resultados.loc[idx,'ecm'] = error\n",
        "            idx = idx+1\n",
        "    return (resultados)"
      ],
      "execution_count": null,
      "outputs": []
    },
    {
      "cell_type": "code",
      "metadata": {
        "id": "1Q3TALf8t-ET",
        "tags": [],
        "colab": {
          "base_uri": "https://localhost:8080/"
        },
        "outputId": "fda3113f-64eb-471f-98cd-cf1f62f269d6"
      },
      "source": [
        "## la funcion que prueba tu implementacion\n",
        "GRADER_LAB_1_P1.run_test(\"ejercicio7\", experimentar_2)"
      ],
      "execution_count": null,
      "outputs": [
        {
          "output_type": "stream",
          "text": [
            "TEST EXITOSO!\n"
          ],
          "name": "stdout"
        }
      ]
    },
    {
      "cell_type": "code",
      "metadata": {
        "id": "GZIKf7PIt-EV",
        "tags": []
      },
      "source": [
        "num_iters = [1,5,10,50, 100,200, 1000, 2000]\n",
        "grados_polinomio = [1,2]\n",
        "# usamos la funcion para evaliar los resultados\n",
        "resultados_ex3 = experimentar_2(Xtrain_n, Xtest_n, Ytrain, Ytest, num_iters, grados_polinomio )"
      ],
      "execution_count": null,
      "outputs": []
    },
    {
      "cell_type": "code",
      "metadata": {
        "id": "E5ekonH6t-EW",
        "colab": {
          "base_uri": "https://localhost:8080/",
          "height": 400
        },
        "outputId": "28083932-a6e3-4c24-bbcf-f3c516893f05"
      },
      "source": [
        "# ejecuta esta linea de codigo para ver raficamente tus resultados\n",
        "# aca usamos una libreria llamada seaborn\n",
        "import seaborn as sns\n",
        "sns.relplot(data = resultados_ex3, x = 'iteraciones',\n",
        "            y = 'ecm',col ='grado', kind = 'line')"
      ],
      "execution_count": null,
      "outputs": [
        {
          "output_type": "execute_result",
          "data": {
            "text/plain": [
              "<seaborn.axisgrid.FacetGrid at 0x7f855d359990>"
            ]
          },
          "metadata": {
            "tags": []
          },
          "execution_count": 39
        },
        {
          "output_type": "display_data",
          "data": {
            "image/png": "[encoded data removed]",
            "text/plain": [
              "<Figure size 720x360 with 2 Axes>"
            ]
          },
          "metadata": {
            "tags": [],
            "needs_background": "light"
          }
        }
      ]
    },
    {
      "cell_type": "code",
      "metadata": {
        "cellView": "form",
        "id": "Y0-BAqdgt-EY"
      },
      "source": [
        "#@title Pregunta Abierta\n",
        "#@markdown  ¿con base a los resultados anteriores, qué efecto tiene el numero de iteraciones en el error?\n",
        "respuesta_7 = \"Para polinomios grado uno podemos ver que el numero de iteraciones y el ECM son inversamente proporcionales: A mayor numero de iteraciones menor es el ECM; Sin embargo, en un punto el ECM se hace constante. Para polinomios grado dos en cambio, parece que el ECM se mantiene constante y no influye el numero de iteraciones\" #@param {type:\"string\"}"
      ],
      "execution_count": null,
      "outputs": []
    },
    {
      "cell_type": "code",
      "metadata": {
        "id": "gkLeD-pMuk_g",
        "colab": {
          "base_uri": "https://localhost:8080/"
        },
        "outputId": "8d0168a8-baf2-4283-d146-42851b568ff6"
      },
      "source": [
        "GRADER_LAB_1_P1.check_tests()"
      ],
      "execution_count": null,
      "outputs": [
        {
          "output_type": "stream",
          "text": [
            "Todo se ve ok. Asegurate de responder las preguntas abiertas y envia e archivo al formulario ¡buen trabajo!\n"
          ],
          "name": "stdout"
        }
      ]
    },
    {
      "cell_type": "code",
      "metadata": {
        "cellView": "form",
        "id": "Xz0gLt5At-Ec"
      },
      "source": [
        "#@title Integrantes\n",
        "codigo_integrante_1 ='1020485954' #@param {type:\"string\"}\n",
        "codigo_integrante_2 = '1035439685'  #@param {type:\"string\"}"
      ],
      "execution_count": null,
      "outputs": []
    },
    {
      "cell_type": "markdown",
      "metadata": {
        "id": "C_jp0Yjot-Ee"
      },
      "source": [
        "----\n",
        "esta linea de codigo va fallar, es de uso exclusivo del los profesores\n"
      ]
    },
    {
      "cell_type": "code",
      "metadata": {
        "id": "OxiTM5g7t-Ef",
        "colab": {
          "base_uri": "https://localhost:8080/"
        },
        "outputId": "c2f408e3-7439-4596-e19c-99d264ad8f4a"
      },
      "source": [
        "GRADER_LAB_1_P1.grade()"
      ],
      "execution_count": null,
      "outputs": [
        {
          "output_type": "stream",
          "text": [
            "uso del docente\n"
          ],
          "name": "stdout"
        }
      ]
    }
  ]
}