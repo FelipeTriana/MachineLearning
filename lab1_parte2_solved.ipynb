{
  "nbformat": 4,
  "nbformat_minor": 0,
  "metadata": {
    "colab": {
      "name": "lab1_parte2_solved.ipynb",
      "provenance": [],
      "collapsed_sections": [],
      "include_colab_link": true
    },
    "kernelspec": {
      "display_name": "Python 3.6.9 64-bit",
      "language": "python",
      "name": "python36964bite6e4b44aef15498b8e6b096ea0e41af2"
    },
    "language_info": {
      "codemirror_mode": {
        "name": "ipython",
        "version": 3
      },
      "file_extension": ".py",
      "mimetype": "text/x-python",
      "name": "python",
      "nbconvert_exporter": "python",
      "pygments_lexer": "ipython3",
      "version": "3.6.9"
    }
  },
  "cells": [
    {
      "cell_type": "markdown",
      "metadata": {
        "id": "view-in-github",
        "colab_type": "text"
      },
      "source": [
        "<a href=\"https://colab.research.google.com/github/FelipeTriana/MachineLearning/blob/master/lab1_parte2_solved.ipynb\" target=\"_parent\"><img src=\"https://colab.research.google.com/assets/colab-badge.svg\" alt=\"Open In Colab\"/></a>"
      ]
    },
    {
      "cell_type": "markdown",
      "metadata": {
        "id": "DyhyA0EkYySm"
      },
      "source": [
        "**Recuerda que una vez abierto, Da clic en \"Copiar en Drive\", de lo contrario no podras alamancenar tu progreso**\n",
        "\n",
        "Nota: no olvide ir ejecutando las celdas de código de arriba hacia abajo para que no tenga errores de importación de librerías o por falta de definición de variables.\n"
      ]
    },
    {
      "cell_type": "code",
      "metadata": {
        "id": "fYhyYxyrYySm",
        "tags": [],
        "colab": {
          "base_uri": "https://localhost:8080/"
        },
        "outputId": "0c18e69c-91ff-4939-d0cf-4fd316f3677b"
      },
      "source": [
        "#configuración del laboratorio\n",
        "# Ejecuta esta celda!\n",
        "%load_ext autoreload\n",
        "%autoreload 2\n",
        "#for local\n",
        "#import sys ; sys.path.append('../commons/utils/'); sys.path.append('../commons/utils/data')\n",
        "!wget https://raw.githubusercontent.com/jdariasl/ML_2020/master/Labs/commons/utils/general.py -O general.py\n",
        "from general import configure_lab1_p2\n",
        "configure_lab1_p2()\n",
        "from lab1 import *\n",
        "GRADER, x, y = part_2()\n",
        "y = y.reshape(np.size(y), 1)"
      ],
      "execution_count": null,
      "outputs": [
        {
          "output_type": "stream",
          "text": [
            "--2021-04-29 18:24:33--  https://raw.githubusercontent.com/jdariasl/ML_2020/master/Labs/commons/utils/general.py\n",
            "Resolving raw.githubusercontent.com (raw.githubusercontent.com)... 185.199.108.133, 185.199.109.133, 185.199.110.133, ...\n",
            "Connecting to raw.githubusercontent.com (raw.githubusercontent.com)|185.199.108.133|:443... connected.\n",
            "HTTP request sent, awaiting response... 200 OK\n",
            "Length: 14633 (14K) [text/plain]\n",
            "Saving to: ‘general.py’\n",
            "\n",
            "general.py          100%[===================>]  14.29K  --.-KB/s    in 0s      \n",
            "\n",
            "2021-04-29 18:24:33 (39.3 MB/s) - ‘general.py’ saved [14633/14633]\n",
            "\n",
            "lab configuration started\n",
            "installing libraries\n",
            "downloading files\n",
            "lab configured\n",
            "cargando librerias y variables al ambiente\n"
          ],
          "name": "stdout"
        }
      ]
    },
    {
      "cell_type": "markdown",
      "metadata": {
        "id": "X0kgAjuBYySp"
      },
      "source": [
        "# Laboratorio 1 - Parte 2. Regresión logística\n",
        "\n"
      ]
    },
    {
      "cell_type": "markdown",
      "metadata": {
        "id": "e0gwFeCnYySq"
      },
      "source": [
        "### Ejercicio 1: Contextualización del problema\n",
        "\n",
        "En esta sesión de laboratorio, vamos a resolver un problema de clasificación. Los variables que vamos a usar ya se encuentran cargadas:\n",
        "\n"
      ]
    },
    {
      "cell_type": "code",
      "metadata": {
        "id": "A-jBTrc4YySq",
        "tags": [],
        "colab": {
          "base_uri": "https://localhost:8080/"
        },
        "outputId": "14fff846-ddda-41ea-d306-81550bb77971"
      },
      "source": [
        "# tienes ya cargadas las siguientes variables:\n",
        "print(\"conjunto de datos, muestra \\n\",x[range(10), :] )\n",
        "print(\"\")\n",
        "print(\" muestra de etiquetas a predecir \\n\", y[range(10)])"
      ],
      "execution_count": null,
      "outputs": [
        {
          "output_type": "stream",
          "text": [
            "conjunto de datos, muestra \n",
            " [[ 3.92606402 -6.83699086]\n",
            " [ 7.43382787 -3.7485991 ]\n",
            " [ 6.20553473  4.77182668]\n",
            " [ 6.77983287 -3.07765299]\n",
            " [-5.92614125 -4.87588843]\n",
            " [ 7.49283136  3.9516693 ]\n",
            " [-1.65572633  6.86081477]\n",
            " [-8.14881988 -1.85421149]\n",
            " [ 8.12616581 -1.66701921]\n",
            " [ 9.73411311 -1.63724335]]\n",
            "\n",
            " muestra de etiquetas a predecir \n",
            " [[1]\n",
            " [1]\n",
            " [1]\n",
            " [1]\n",
            " [1]\n",
            " [1]\n",
            " [1]\n",
            " [1]\n",
            " [1]\n",
            " [1]]\n"
          ],
          "name": "stdout"
        }
      ]
    },
    {
      "cell_type": "code",
      "metadata": {
        "id": "5lvqd4i0YySs"
      },
      "source": [
        "#Ejercicio de Codigo\n",
        "def clases_muestras_carac(X, Y):\n",
        "    \"\"\"Esta funcion es encargada retornar el numero clases, muestras \n",
        "        y caracteristicas del conjunto de datos X y Y\n",
        "\n",
        "        X: matriz numpy con el conjunto de datos para entrenamiento\n",
        "        Y: matriz numpy con el conjunto de etiquetas\n",
        "        retorna:\n",
        "            numero de clases (int/float)\n",
        "            numero de muestras (int/float)\n",
        "            numero de caracteristicas (int/float)\n",
        "    \"\"\"\n",
        "    ##Pista: es de utilidad el metodo np.unique ?\n",
        "    N,nf = X.shape\n",
        "    clases = len(np.unique(Y))\n",
        "    \n",
        "    return (N,nf,clases)"
      ],
      "execution_count": null,
      "outputs": []
    },
    {
      "cell_type": "code",
      "metadata": {
        "colab": {
          "base_uri": "https://localhost:8080/"
        },
        "id": "7FFUGI3FbhKy",
        "outputId": "4506da0c-d985-43e7-881d-8645cab6b74c"
      },
      "source": [
        "clases_muestras_carac(x,y)"
      ],
      "execution_count": null,
      "outputs": [
        {
          "output_type": "execute_result",
          "data": {
            "text/plain": [
              "(500, 2, 2)"
            ]
          },
          "metadata": {
            "tags": []
          },
          "execution_count": 6
        }
      ]
    },
    {
      "cell_type": "code",
      "metadata": {
        "id": "jBS6kWmkYySu",
        "tags": [],
        "colab": {
          "base_uri": "https://localhost:8080/"
        },
        "outputId": "a33cc7d1-ea54-4d12-c0ff-006ae40d4fa0"
      },
      "source": [
        "## la funcion que prueba tu implementacion\n",
        "GRADER.run_test(\"ejercicio1\", clases_muestras_carac)"
      ],
      "execution_count": null,
      "outputs": [
        {
          "output_type": "stream",
          "text": [
            "TEST EXITOSO!\n"
          ],
          "name": "stdout"
        }
      ]
    },
    {
      "cell_type": "markdown",
      "metadata": {
        "id": "I8zabv6IYySw"
      },
      "source": [
        "En los problemas de clasificación, que lo permiten, es de utilidad visualizar los datos. De esta manera uno puede determinar que modelos o algortimos pueden tener mejor rendimiento. En la siguiente función, debera, graficar los datos usando la función [scatter](https://matplotlib.org/gallery/shapes_and_collections/scatter.html) de matplotlib."
      ]
    },
    {
      "cell_type": "code",
      "metadata": {
        "id": "xjiRibSVYySw"
      },
      "source": [
        "#Ejercicio de Codigo\n",
        "def scatter_plot(X, Y):\n",
        "    \"\"\"Esta funcion es encargada de graficar usando un scatter plot\n",
        "       un problema de clasificacion.\n",
        "\n",
        "        X: matriz numpy con el conjunto de datos para entrenamiento.\n",
        "           esta debera ser usada para los ejes del grafico. puede asumir\n",
        "           que solo va tener dos columnas\n",
        "        Y: matriz numpy con el conjunto de etiquetas. Debera se usada\n",
        "           para mostrar en diferentes colores, las etiquetas de cada una\n",
        "           de las muestras\n",
        "        retorna:\n",
        "            No retorna nada, el grafico debe aparecer\n",
        "    \"\"\"\n",
        "    ## puedes acceder con plt a la funcion adecuacada\n",
        "    ## Pista: recuerda como indexar matrices\n",
        "    plt.scatter(X[:,0], X[:,1], c=Y, cmap=\"Accent\")    # Al parametro \"c\" se le pasa el vector con las etiquetas asociadas al conjunto de muestras para colorear los datos\n",
        "    # para mostrar el grafico\n",
        "    figure = plt.gcf()\n",
        "    plt.show()\n",
        "   \n",
        "    return (None)"
      ],
      "execution_count": null,
      "outputs": []
    },
    {
      "cell_type": "code",
      "metadata": {
        "id": "5fdDHIH0YyS0",
        "tags": [],
        "colab": {
          "base_uri": "https://localhost:8080/"
        },
        "outputId": "45aa7aee-4126-45c3-d21a-0d4d8c3912d2"
      },
      "source": [
        "## la funcion que prueba tu implementacion\n",
        "# ignora los graficos que se muestran \n",
        "GRADER.run_test(\"ejercicio2\", scatter_plot)"
      ],
      "execution_count": null,
      "outputs": [
        {
          "output_type": "stream",
          "text": [
            "TEST EXITOSO!\n"
          ],
          "name": "stdout"
        }
      ]
    },
    {
      "cell_type": "code",
      "metadata": {
        "id": "1lV4cGVlkjCk",
        "colab": {
          "base_uri": "https://localhost:8080/",
          "height": 265
        },
        "outputId": "854712ad-a810-44ca-c738-e8118b6ac6ed"
      },
      "source": [
        "# usarla para ver el grafico\n",
        "scatter_plot(x,y)"
      ],
      "execution_count": null,
      "outputs": [
        {
          "output_type": "display_data",
          "data": {
            "image/png": "[encoded data removed]",
            "text/plain": [
              "<Figure size 432x288 with 1 Axes>"
            ]
          },
          "metadata": {
            "tags": [],
            "needs_background": "light"
          }
        }
      ]
    },
    {
      "cell_type": "code",
      "metadata": {
        "cellView": "form",
        "id": "sq2e7UwwYyS2"
      },
      "source": [
        "#@title Pregunta Abierta\n",
        "#@markdown  ¿El problema es linealmente separable? justifique su respuesta \n",
        "respuesta_1 = \"NO es linealmente separable, pues no es posible dividir los conjuntos de muestras de cada clase con una funciona frontera LINEAL.\" #@param {type:\"string\"}"
      ],
      "execution_count": null,
      "outputs": []
    },
    {
      "cell_type": "markdown",
      "metadata": {
        "id": "UYCpYnI0YyS4"
      },
      "source": [
        "### Ejercicio 2: entrenamiento\n",
        "\n",
        "En este laboratorio se va a realizar un procedimiento análogo al laboratorio anterior, pero con el modelo de *regresión logística* que sirve para resolver problemas de clasificación (en principio biclase).\n",
        "\n",
        "¿Cómo se relacionan los siguientes conceptos a la luz del modelo de regresión logística? \n",
        "\n",
        "1. Función de activación \n",
        "2. Extensión de matriz\n",
        "2. Modelo de regresión logística\n",
        "3. Potencia del polinomio \n",
        "4. El cálculo del error en clasificación \n",
        "5. El gradiente descendente\n",
        "\n",
        "Vamos a completar la función del sigmoide:"
      ]
    },
    {
      "cell_type": "code",
      "metadata": {
        "id": "WAQAglStYyS4"
      },
      "source": [
        "#Ejercicio de Código\n",
        "def sigmoidal(z):\n",
        "    \"\"\"Función de activación Sigmoidal\n",
        "\n",
        "    z: es la varible a la que se le va aplicar el sigmoide.\n",
        "       es un array numpy de uan sola dimension\n",
        "    retorna: el valor del sigmiode\n",
        "\n",
        "    \"\"\"\n",
        "    #Complete la siguiente línea con el código para calcular la salida de la función sigmoidal\n",
        "    # ¿Que metodo de np...{} es de utilidad?\n",
        "    s = np.exp(z)/(1 + np.exp(z))               #Preguntar por la variacion de esta funcion\n",
        "    \n",
        "    return s"
      ],
      "execution_count": null,
      "outputs": []
    },
    {
      "cell_type": "code",
      "metadata": {
        "id": "hiui_rfgYyS6",
        "tags": [],
        "colab": {
          "base_uri": "https://localhost:8080/"
        },
        "outputId": "ade19da2-ebc6-4413-d0c3-a4a1c17da53d"
      },
      "source": [
        "## la funcion que prueba tu implementacion\n",
        "GRADER.run_test(\"ejercicio3\", sigmoidal)"
      ],
      "execution_count": null,
      "outputs": [
        {
          "output_type": "stream",
          "text": [
            "TEST EXITOSO!\n"
          ],
          "name": "stdout"
        }
      ]
    },
    {
      "cell_type": "markdown",
      "metadata": {
        "id": "6t8dJoLfYyS7"
      },
      "source": [
        "El la siguiente celda se sugiere la implementación de 3 métodos que nos ayudaran a implementar los otros conceptos. \n",
        "\n",
        "1. Modelo de regresión logística(Esta función usa nuestra `sigmoidal`)\n",
        "2. Extensión de matriz\n",
        "2. Potencia del polinomio \n",
        "4. Cálculo del error en clasificación\n",
        "\n",
        "Debemos comprender que hacen estas funciones para determinar donde poder usarlas mas adelante. Luego de ellos, ejecuta la celda para cargarlas."
      ]
    },
    {
      "cell_type": "code",
      "metadata": {
        "id": "u-yCVeVQYyS8"
      },
      "source": [
        "def logistic_regression(X, W):\n",
        "    \"\"\"calcula la regresión logistica\n",
        "    X: los valores que corresponden a las caractersiticas\n",
        "    W: son los pesos usadados para realizar la regresión\n",
        "    retorna: valor estimado por la regresion\n",
        "    \"\"\"\n",
        "    #Con np.dot se realiza el producto matricial. Aquí X (extendida) tiene dim [Nxd] y W es dim [dx1]\n",
        "    Yest = np.dot(X,W)\n",
        "    Y_lest = sigmoidal(Yest)\n",
        "   \n",
        "    return Y_lest    #Y estimado: Esta variable contiene ya tiene la salida de sigm(f(X,W))\n",
        "\n",
        "def extension_matriz(X):\n",
        "    \"\"\"funcion que realiza la extension de la matriz X\n",
        "    X: los valores que corresponden a las caractersiticas sin extender\n",
        "    retorna: X_ext: matriz con unos extendidos\n",
        "    \"\"\"\n",
        "    #Obtenemos las dimensiones antes de exteneder la matriz\n",
        "    muestras,caracterisitcas =X.shape\n",
        "    #Extendemos la matriz X\n",
        "    unos = np.array([np.ones(muestras)])\n",
        "    X_ext = np.concatenate((unos.T, X), axis=1)\n",
        "    X_ext = X_ext.reshape(muestras, caracterisitcas+1)\n",
        "    return (X_ext)\n",
        "\n",
        "\n",
        "def potenciaPolinomio(X,grado):\n",
        "    \"\"\"calcula la potencia del polinomio\n",
        "    X: los valores que corresponden a las caractersiticas\n",
        "    grado: esl grado para realizar la potencia al polinomio\n",
        "    retorna: el valor de X despues elevarlo al grado del polinimoo indicado\n",
        "    \"\"\"\n",
        "    X2 = X.copy()\n",
        "    \n",
        "    if grado != 1:\n",
        "        for i in range(2,grado+1):\n",
        "            Xadd = X**i\n",
        "            X2 = np.concatenate((X2, Xadd), axis=1)\n",
        "    \n",
        "    return X2\n",
        "\n",
        "def cost_logistic(Y_lest, Y):\n",
        "    \"\"\"calculo del error logistico\n",
        "       Si es diferente el Y_estimado con el Y_real cuenta como un error\n",
        "       Y_lest: numpy array con los valores reales estimados\n",
        "       Y:  numpy array  valor con los valores reales de las etiquetas\n",
        "       retorna: costo logistico  -- numpy array\n",
        "    \"\"\"\n",
        "    f1 = Y*np.log(Y_lest)\n",
        "    f2 = (1-Y)*np.log(1-Y_lest)\n",
        "    error = -np.sum(f1+f2)/Y.shape[0]\n",
        "    return error"
      ],
      "execution_count": null,
      "outputs": []
    },
    {
      "cell_type": "markdown",
      "metadata": {
        "id": "P6rbFHQxYyS_"
      },
      "source": [
        "recordando lo aprendido anteriormente, dividimos nuestro cojunto de datos y normalizamos.\n",
        "**SOLO EJECUTAR UNA VEZ**"
      ]
    },
    {
      "cell_type": "code",
      "metadata": {
        "id": "8F2NBNVwYyTA"
      },
      "source": [
        "#Dejamos algunas muestras para el proceso de entrenamiento y otras para evaluar qué tan bueno fue el aprendizaje del modelo\n",
        "random.seed(1)\n",
        "N = x.shape[0]\n",
        "ind=np.random.permutation(N)\n",
        "Xtrain = x[ind[0:int(math.ceil(0.7*N))],:]\n",
        "Xtest = x[ind[int(math.ceil(0.7*N)):N],:]\n",
        "Ytrain = y[ind[0:int(math.ceil(0.7*N))]]\n",
        "Ytest = y[ind[int(math.ceil(0.7*N)):N]]\n",
        "# normalizamos\n",
        "Xtrain, Xtest = normalizar(Xtrain, Xtest)"
      ],
      "execution_count": null,
      "outputs": []
    },
    {
      "cell_type": "markdown",
      "metadata": {
        "id": "NX9X-ocwYyTC"
      },
      "source": [
        "Ahora vamos a completar el código de la regla de actualización de los parámetros del algoritmo de **gradiente_descedente** \n",
        "\n",
        "\n",
        "$$w_j(iter) = w_j(iter-1) - \\eta \\frac{\\partial E(w)}{\\partial w_j}$$ \n",
        "\n",
        "recordar que aca queremos reducir el costo logistico, pero la actualización de los pesos sigue siendo equivalente a la regresión vista anteriormente, solo que agregando la función $g$ que corresponde al sigmoide.\n",
        "\n",
        "$$ \\frac{\\partial E(w)}{\\partial w_j} = \\frac{\\partial J({\\bf{w}})}{\\partial w_j} = \\frac{1}{N} \\sum_{i=1}^{N}\\left( g(f({\\bf{x}}_i,{\\bf{w}})) - t_i\\right)x_{ij}$$\n",
        "\n",
        "Debemos tener presente:\n",
        "- Usar las funciones ya implementadas y no usar **ninguna otra libreria** adicional a las librerias ya pre-cargadas como numpy.\n",
        "- Dentro de nuestra función **vamos incluir una transformación polinómica**, por lo tanto el proceso a implementar puede ser descrito en los siguientes pasos:\n",
        "    - Aplicar la transformación polinómica\n",
        "    - Extender la matriz\n",
        "    - Inicializar $w$\n",
        "    - Y por cada iteración realizar el cálculo para actualizar $w$"
      ]
    },
    {
      "cell_type": "code",
      "metadata": {
        "id": "zLtR3kdKYyTC"
      },
      "source": [
        "#ejercicio de codigo\n",
        "def gradiente_descendente_logistic_poly(X,Y,grado,eta, iteraciones):\n",
        "    \"\"\"Gradiente descendente para regresión lineal múltiple\n",
        "    X: Matriz de datos extendida\n",
        "    Y: vector con los valores a predecir\n",
        "    W: Vector de parámetros del modelo\n",
        "    eta: Taza de aprendizaje\n",
        "    grado: grado para usar en la transformacion polinomica\n",
        "    iteraciones: numero de iteraciones maxima\n",
        "\n",
        "    retorna: W el valor de de los parametros de regresión polinomica\n",
        "    \"\"\"\n",
        "    # aplicamos la transformación\n",
        "    X2 = potenciaPolinomio(X,grado)\n",
        "    \n",
        "    # realizamos la extensión\n",
        "    X2_ext = extension_matriz(X2)\n",
        "    \n",
        "    #Tomamos el número de variables del problema leugo de la transformacion\n",
        "    d = X2_ext.shape[1]\n",
        "    #Tomamos el número de muestras de la base de datos\n",
        "    N = X2_ext.shape[0]\n",
        "    #Inicializamos w\n",
        "    W = np.zeros(d)\n",
        "    W = W.reshape(np.size(W),1)\n",
        "    costos = np.zeros(iteraciones)\n",
        "      \n",
        "    for iter in range(iteraciones):\n",
        "       \n",
        "        #Aquí debe completar el código con la regla de actualización de los parámetros W para regresión\n",
        "        #logística. Tenga en cuenta los nombres de las variables ya creadas: W, X, Y\n",
        "        Y_lest = logistic_regression(X2_ext,W)\n",
        "        \n",
        "        \n",
        "        f_xw_min_yi = Y_lest - Y.reshape(N,1)\n",
        "        temp = f_xw_min_yi*X2_ext\n",
        "        temp = np.sum(temp,axis=0,keepdims=True)\n",
        "        W =  W-(eta*temp.T)/N\n",
        "        \n",
        "        #adicionamos el costo por cada iteracion\n",
        "        Y_lest = logistic_regression(X2_ext,W)\n",
        "        costo = cost_logistic(Y_lest,Y)\n",
        "        costos[iter] = costo\n",
        "\n",
        "\n",
        "    print(\"costo despues de finalizar las iteraciones\", costo)\n",
        "    return W, costos"
      ],
      "execution_count": null,
      "outputs": []
    },
    {
      "cell_type": "code",
      "metadata": {
        "id": "lhrk1KyYYyTE",
        "tags": [],
        "colab": {
          "base_uri": "https://localhost:8080/"
        },
        "outputId": "7730f5cc-b490-4c38-c813-d3a51693d7e5"
      },
      "source": [
        "## la funcion que prueba tu implementacion\n",
        "# ignorar los print que se ejecutan\n",
        "GRADER.run_test(\"ejercicio4\", gradiente_descendente_logistic_poly)"
      ],
      "execution_count": null,
      "outputs": [
        {
          "output_type": "stream",
          "text": [
            "costo despues de finalizar las iteraciones 0.033581086778630004\n",
            "costo despues de finalizar las iteraciones 0.1048381898860158\n",
            "TEST EXITOSO!\n"
          ],
          "name": "stdout"
        }
      ]
    },
    {
      "cell_type": "markdown",
      "metadata": {
        "id": "MgFhLoPPkjCp"
      },
      "source": [
        "Veamos de manera preliminar, si nuestro gradiente se esta acercando al un costo óptimo. \n",
        "Vamos entrenar con 100 iteraciones y vemos el costo logistico como cambia de acuerdo a las iteraciones.\n",
        "¿Que pasa si cambias el grado?"
      ]
    },
    {
      "cell_type": "code",
      "metadata": {
        "id": "1c-0Dau4kjCp",
        "colab": {
          "base_uri": "https://localhost:8080/",
          "height": 317
        },
        "outputId": "9cefea5a-c7f2-49ab-e238-c62871084fe1"
      },
      "source": [
        "iteraciones = 100\n",
        "w, costos_logistico = gradiente_descendente_logistic_poly(Xtrain,Ytrain,grado = 1, eta = 10, iteraciones = iteraciones)\n",
        "print(\"este las dimensiones de w son:\", w.shape)\n",
        "plt.plot(range(iteraciones), costos_logistico)"
      ],
      "execution_count": null,
      "outputs": [
        {
          "output_type": "stream",
          "text": [
            "costo despues de finalizar las iteraciones 0.8303675913880513\n",
            "este las dimensiones de w son: (3, 1)\n"
          ],
          "name": "stdout"
        },
        {
          "output_type": "execute_result",
          "data": {
            "text/plain": [
              "[<matplotlib.lines.Line2D at 0x7fbc45a87510>]"
            ]
          },
          "metadata": {
            "tags": []
          },
          "execution_count": 47
        },
        {
          "output_type": "display_data",
          "data": {
            "image/png": "[encoded data removed]",
            "text/plain": [
              "<Figure size 432x288 with 1 Axes>"
            ]
          },
          "metadata": {
            "tags": [],
            "needs_background": "light"
          }
        }
      ]
    },
    {
      "cell_type": "markdown",
      "metadata": {
        "id": "pjpTN71aYyTF"
      },
      "source": [
        "Como habiamos visto antes, el costo es nuestra medida de optimización, pero al final debemos evaluar que tambien esta realizando la tarea de clasificar. Entiende la siguiente función. Prestemos especial atención al bloque `if-else`. "
      ]
    },
    {
      "cell_type": "code",
      "metadata": {
        "id": "DhbCT0H0YyTG"
      },
      "source": [
        "def evaluar_modelo (W, X_to_test, Y_True, grado):\n",
        "    \"\"\" funcion que evalua un modelo de clasificación\n",
        "\n",
        "W: es un matriz con los parametros del modelo entrenados\n",
        "    X_to_test: conjunto de datos para usar en el evaluamiento del modelo\n",
        "    Y_True: valores reales para usar en el evaluamiento del modelo\n",
        "    grado: valor del polinomio a usar\n",
        "\n",
        "    retorna: el error de clasificación.\n",
        "    \"\"\"\n",
        "    X2 = potenciaPolinomio(X_to_test,grado)\n",
        "    # realizamos la extensión\n",
        "    X2_ext = extension_matriz(X2)\n",
        "    Y_EST = logistic_regression(X2_ext,W)\n",
        "    #Se asignan los valores a 1 o 0 según el modelo de regresión logística definido\n",
        "    for pos, tag in enumerate (Y_EST):\n",
        "        \n",
        "        if tag >= 0.5:\n",
        "            Y_EST[pos] = 1\n",
        "        else:\n",
        "            Y_EST[pos] = 0\n",
        "            \n",
        "    error = 0\n",
        "    \n",
        "    for ye, y in zip(Y_EST, Y_True):\n",
        "        if ye != y:\n",
        "            error += 1\n",
        "    error_clasificacion =  error/np.size(Y_True)\n",
        "    return(error_clasificacion)\n"
      ],
      "execution_count": null,
      "outputs": []
    },
    {
      "cell_type": "markdown",
      "metadata": {
        "id": "IhmZJmD-kjCq"
      },
      "source": [
        "Probemos la función al evaluar el w obtenido. Tener presente que para la evaluación usamos el X y Y adecuado. Recuerda usar el grado de acuerdo a la ultima ejecución."
      ]
    },
    {
      "cell_type": "code",
      "metadata": {
        "id": "DzIDU8CYkjCq",
        "colab": {
          "base_uri": "https://localhost:8080/"
        },
        "outputId": "899eb459-bf1c-4236-eedf-51c5d89885a0"
      },
      "source": [
        "# recuerda que si entrenaste con grado = 2 debes asignar el mismo valor.\n",
        "error_test = evaluar_modelo(w, Xtest, Ytest, grado = 1)\n",
        "print(\"error en el conjunto de pruebas\", error_test)"
      ],
      "execution_count": null,
      "outputs": [
        {
          "output_type": "stream",
          "text": [
            "error en el conjunto de pruebas 0.48\n"
          ],
          "name": "stdout"
        }
      ]
    },
    {
      "cell_type": "markdown",
      "metadata": {
        "id": "EhaV3W7IYyTH"
      },
      "source": [
        "### Ejercicio 3: Experimentar"
      ]
    },
    {
      "cell_type": "markdown",
      "metadata": {
        "id": "bH00WKqYYyTJ"
      },
      "source": [
        "En nuestro primer experimento vamos a evaluar el rendimiento del modelo usando varias tasas de aprendizaje y grados de polinimios. Vamos a dejar por ahora un numero de iteraciones fijas = 500. Para ello completa la siguiente función. Recuerda usar las funciones anteriores."
      ]
    },
    {
      "cell_type": "code",
      "metadata": {
        "id": "2L4aHWL4YyTK"
      },
      "source": [
        "## ejercicio de codigo\n",
        "def experimentar (Xtrain, Xtest, Ytrain, Ytest, tasas, grados):\n",
        "    \"\"\" funcion para realizar experimentos.\n",
        "    Xtrain: conjunto de datos\n",
        "    Xtest:\n",
        "    Ytrain:\n",
        "    Ytest:\n",
        "    tasas: Es una lista con los valores númericos de tasas de aprendizaje \n",
        "        para realizar los experimentos\n",
        "    grados: Es una lista con los valores númericos de grados \n",
        "        para realizar los experimentos\n",
        "    retorna: un dataframe con el resultados de los experimentos\n",
        "    \"\"\"\n",
        "    numero_iter = 500\n",
        "\n",
        "    resultados = pd.DataFrame()\n",
        "    idx = 0 # indice\n",
        "    for eta in tasas:\n",
        "        for grado in grados:\n",
        "            # ignorar el costo\n",
        "            W, _ = gradiente_descendente_logistic_poly(Xtrain,Ytrain,grado,eta, numero_iter)\n",
        "            error_entrenamiento = evaluar_modelo(W, Xtrain, Ytrain, grado)\n",
        "            error_prueba = evaluar_modelo(W, Xtest, Ytest, grado)\n",
        "            resultados.loc[idx,'grado'] = grado\n",
        "            resultados.loc[idx,'tasa de aprendizaje'] = eta\n",
        "            resultados.loc[idx,'error_entreamiento'] = error_entrenamiento\n",
        "            resultados.loc[idx,'error_prueba'] = error_prueba\n",
        "            idx = idx+1\n",
        "\n",
        "    return (resultados)"
      ],
      "execution_count": null,
      "outputs": []
    },
    {
      "cell_type": "code",
      "metadata": {
        "id": "n4Y2qwvnYyTL",
        "tags": [],
        "colab": {
          "base_uri": "https://localhost:8080/"
        },
        "outputId": "c73992df-4807-48ae-8ed7-a60ac14da610"
      },
      "source": [
        "## la funcion que prueba tu implementacion\n",
        "# ignorar los prints de \"costo despues de finalizar\"!\n",
        "GRADER.run_test(\"ejercicio5\", experimentar)"
      ],
      "execution_count": null,
      "outputs": [
        {
          "output_type": "stream",
          "text": [
            "costo despues de finalizar las iteraciones 0.6712592433108224\n",
            "costo despues de finalizar las iteraciones nan\n",
            "costo despues de finalizar las iteraciones nan\n",
            "costo despues de finalizar las iteraciones 0.6712592436432074\n",
            "costo despues de finalizar las iteraciones 0.11030584175874755\n",
            "costo despues de finalizar las iteraciones 0.1075713363673088\n",
            "TEST EXITOSO!\n"
          ],
          "name": "stdout"
        },
        {
          "output_type": "stream",
          "text": [
            "/usr/local/lib/python3.7/dist-packages/ipykernel_launcher.py:50: RuntimeWarning: divide by zero encountered in log\n",
            "/usr/local/lib/python3.7/dist-packages/ipykernel_launcher.py:50: RuntimeWarning: invalid value encountered in multiply\n"
          ],
          "name": "stderr"
        }
      ]
    },
    {
      "cell_type": "code",
      "metadata": {
        "id": "PNZ702IVYyTN",
        "tags": [],
        "colab": {
          "base_uri": "https://localhost:8080/"
        },
        "outputId": "39c3e50b-ea3e-4d30-f89a-438e1e5edeca"
      },
      "source": [
        "tasas = [10.0, 1.0, 0.1, 0.001]\n",
        "grados = [1,2,3,4]\n",
        "resultados = experimentar (Xtrain, Xtest, Ytrain, Ytest, tasas, grados)"
      ],
      "execution_count": null,
      "outputs": [
        {
          "output_type": "stream",
          "text": [
            "costo despues de finalizar las iteraciones 0.83123079664984\n",
            "costo despues de finalizar las iteraciones 0.004451417221069902\n",
            "costo despues de finalizar las iteraciones 0.00435869469466139\n",
            "costo despues de finalizar las iteraciones nan\n",
            "costo despues de finalizar las iteraciones 0.6890101844563443\n",
            "costo despues de finalizar las iteraciones 0.020158541406301668\n"
          ],
          "name": "stdout"
        },
        {
          "output_type": "stream",
          "text": [
            "/usr/local/lib/python3.7/dist-packages/ipykernel_launcher.py:50: RuntimeWarning: divide by zero encountered in log\n",
            "/usr/local/lib/python3.7/dist-packages/ipykernel_launcher.py:50: RuntimeWarning: invalid value encountered in multiply\n"
          ],
          "name": "stderr"
        },
        {
          "output_type": "stream",
          "text": [
            "costo despues de finalizar las iteraciones 0.020079032835755743\n",
            "costo despues de finalizar las iteraciones nan\n",
            "costo despues de finalizar las iteraciones 0.6890101844564109\n",
            "costo despues de finalizar las iteraciones 0.09405198070912507\n",
            "costo despues de finalizar las iteraciones 0.09400676065659176\n",
            "costo despues de finalizar las iteraciones 0.05540008348879493\n",
            "costo despues de finalizar las iteraciones 0.692233873776989\n",
            "costo despues de finalizar las iteraciones 0.6001880241825086\n",
            "costo despues de finalizar las iteraciones 0.5998923946332088\n",
            "costo despues de finalizar las iteraciones 0.4348356386268809\n"
          ],
          "name": "stdout"
        }
      ]
    },
    {
      "cell_type": "code",
      "metadata": {
        "id": "i0S18dT2YyTO",
        "colab": {
          "base_uri": "https://localhost:8080/",
          "height": 545
        },
        "outputId": "52a075d9-1414-46db-d693-14b6e5d9e145"
      },
      "source": [
        "# para ver los resultados\n",
        "resultados"
      ],
      "execution_count": null,
      "outputs": [
        {
          "output_type": "execute_result",
          "data": {
            "text/html": [
              "<div>\n",
              "<style scoped>\n",
              "    .dataframe tbody tr th:only-of-type {\n",
              "        vertical-align: middle;\n",
              "    }\n",
              "\n",
              "    .dataframe tbody tr th {\n",
              "        vertical-align: top;\n",
              "    }\n",
              "\n",
              "    .dataframe thead th {\n",
              "        text-align: right;\n",
              "    }\n",
              "</style>\n",
              "<table border=\"1\" class=\"dataframe\">\n",
              "  <thead>\n",
              "    <tr style=\"text-align: right;\">\n",
              "      <th></th>\n",
              "      <th>grado</th>\n",
              "      <th>tasa de aprendizaje</th>\n",
              "      <th>error_entreamiento</th>\n",
              "      <th>error_prueba</th>\n",
              "    </tr>\n",
              "  </thead>\n",
              "  <tbody>\n",
              "    <tr>\n",
              "      <th>0</th>\n",
              "      <td>1.0</td>\n",
              "      <td>10.000</td>\n",
              "      <td>0.505714</td>\n",
              "      <td>0.480000</td>\n",
              "    </tr>\n",
              "    <tr>\n",
              "      <th>1</th>\n",
              "      <td>2.0</td>\n",
              "      <td>10.000</td>\n",
              "      <td>0.000000</td>\n",
              "      <td>0.000000</td>\n",
              "    </tr>\n",
              "    <tr>\n",
              "      <th>2</th>\n",
              "      <td>3.0</td>\n",
              "      <td>10.000</td>\n",
              "      <td>0.000000</td>\n",
              "      <td>0.000000</td>\n",
              "    </tr>\n",
              "    <tr>\n",
              "      <th>3</th>\n",
              "      <td>4.0</td>\n",
              "      <td>10.000</td>\n",
              "      <td>0.000000</td>\n",
              "      <td>0.000000</td>\n",
              "    </tr>\n",
              "    <tr>\n",
              "      <th>4</th>\n",
              "      <td>1.0</td>\n",
              "      <td>1.000</td>\n",
              "      <td>0.411429</td>\n",
              "      <td>0.493333</td>\n",
              "    </tr>\n",
              "    <tr>\n",
              "      <th>5</th>\n",
              "      <td>2.0</td>\n",
              "      <td>1.000</td>\n",
              "      <td>0.000000</td>\n",
              "      <td>0.000000</td>\n",
              "    </tr>\n",
              "    <tr>\n",
              "      <th>6</th>\n",
              "      <td>3.0</td>\n",
              "      <td>1.000</td>\n",
              "      <td>0.000000</td>\n",
              "      <td>0.000000</td>\n",
              "    </tr>\n",
              "    <tr>\n",
              "      <th>7</th>\n",
              "      <td>4.0</td>\n",
              "      <td>1.000</td>\n",
              "      <td>0.002857</td>\n",
              "      <td>0.000000</td>\n",
              "    </tr>\n",
              "    <tr>\n",
              "      <th>8</th>\n",
              "      <td>1.0</td>\n",
              "      <td>0.100</td>\n",
              "      <td>0.411429</td>\n",
              "      <td>0.493333</td>\n",
              "    </tr>\n",
              "    <tr>\n",
              "      <th>9</th>\n",
              "      <td>2.0</td>\n",
              "      <td>0.100</td>\n",
              "      <td>0.000000</td>\n",
              "      <td>0.000000</td>\n",
              "    </tr>\n",
              "    <tr>\n",
              "      <th>10</th>\n",
              "      <td>3.0</td>\n",
              "      <td>0.100</td>\n",
              "      <td>0.000000</td>\n",
              "      <td>0.000000</td>\n",
              "    </tr>\n",
              "    <tr>\n",
              "      <th>11</th>\n",
              "      <td>4.0</td>\n",
              "      <td>0.100</td>\n",
              "      <td>0.002857</td>\n",
              "      <td>0.000000</td>\n",
              "    </tr>\n",
              "    <tr>\n",
              "      <th>12</th>\n",
              "      <td>1.0</td>\n",
              "      <td>0.001</td>\n",
              "      <td>0.411429</td>\n",
              "      <td>0.486667</td>\n",
              "    </tr>\n",
              "    <tr>\n",
              "      <th>13</th>\n",
              "      <td>2.0</td>\n",
              "      <td>0.001</td>\n",
              "      <td>0.462857</td>\n",
              "      <td>0.440000</td>\n",
              "    </tr>\n",
              "    <tr>\n",
              "      <th>14</th>\n",
              "      <td>3.0</td>\n",
              "      <td>0.001</td>\n",
              "      <td>0.462857</td>\n",
              "      <td>0.440000</td>\n",
              "    </tr>\n",
              "    <tr>\n",
              "      <th>15</th>\n",
              "      <td>4.0</td>\n",
              "      <td>0.001</td>\n",
              "      <td>0.217143</td>\n",
              "      <td>0.226667</td>\n",
              "    </tr>\n",
              "  </tbody>\n",
              "</table>\n",
              "</div>"
            ],
            "text/plain": [
              "    grado  tasa de aprendizaje  error_entreamiento  error_prueba\n",
              "0     1.0               10.000            0.505714      0.480000\n",
              "1     2.0               10.000            0.000000      0.000000\n",
              "2     3.0               10.000            0.000000      0.000000\n",
              "3     4.0               10.000            0.000000      0.000000\n",
              "4     1.0                1.000            0.411429      0.493333\n",
              "5     2.0                1.000            0.000000      0.000000\n",
              "6     3.0                1.000            0.000000      0.000000\n",
              "7     4.0                1.000            0.002857      0.000000\n",
              "8     1.0                0.100            0.411429      0.493333\n",
              "9     2.0                0.100            0.000000      0.000000\n",
              "10    3.0                0.100            0.000000      0.000000\n",
              "11    4.0                0.100            0.002857      0.000000\n",
              "12    1.0                0.001            0.411429      0.486667\n",
              "13    2.0                0.001            0.462857      0.440000\n",
              "14    3.0                0.001            0.462857      0.440000\n",
              "15    4.0                0.001            0.217143      0.226667"
            ]
          },
          "metadata": {
            "tags": []
          },
          "execution_count": 53
        }
      ]
    },
    {
      "cell_type": "code",
      "metadata": {
        "cellView": "form",
        "id": "2o0zE_e7YyTS"
      },
      "source": [
        "#@title Pregunta Abierta\n",
        "#@markdown  ¿con base a los resultados anteriores, qué efecto tiene el grado en los errores de entrenamiento y de prueba? justifique\n",
        "respuesta_2 = \"En el caso de las tres primeras tasas de aprendizaje aumentar el grado del polinomio disminuye los errores de entrenamiento y prueba haciendolos en la mayoria de los casos cero para este conjunto de datos, sin embargo; para una tasa de aprendizaje de 0.001 podemos ver disminucion del error de prueba y entrenamiento pero no tan drastica como en las otras tasas, esto nos da a entender la importancia de escoger una buena tasa de aprendizaje ademas del grado del polinomio.\" #@param {type:\"string\"}"
      ],
      "execution_count": null,
      "outputs": []
    },
    {
      "cell_type": "code",
      "metadata": {
        "cellView": "form",
        "id": "Z8waNHm0YyTT"
      },
      "source": [
        "#@title Pregunta Abierta\n",
        "#@markdown  ¿es normal que los errores de entrenamiento y prueba sean diferentes? justifique\n",
        "respuesta_3 = \"Es normal, ya que en el calculo de los errores se encuentran involucrados conjuntos de datos distintos. Dichos conjuntos de datos fueron explicados y se justifico su inclusion en la primera parte de este laboratorio.\" #@param {type:\"string\"}"
      ],
      "execution_count": null,
      "outputs": []
    },
    {
      "cell_type": "markdown",
      "metadata": {
        "id": "T-bRi6p6YyTY"
      },
      "source": [
        "Vamos entrenar nuevamente pero solo con los mejores parámetros. Si hay parametros empatados, el modelo que tenga menos parámetros deberia ser el mejor (recuerda que cuando aumentamos el grado del polinomio aumentamos el número de parametros del modelo)."
      ]
    },
    {
      "cell_type": "code",
      "metadata": {
        "id": "v-LG4-DhYyTY",
        "colab": {
          "base_uri": "https://localhost:8080/",
          "height": 142
        },
        "outputId": "30ddd2ba-0647-4a24-bf46-5f0306daf05b"
      },
      "source": [
        "# puedes usar el siguiente código para ordenar los resultados y ver los 3 primeros\n",
        "# resultados, usa esta salida, para ver cuales fueron los mejores parámetros\n",
        "resultados.sort_values(by = ['error_prueba', 'grado'], ascending = True).head(3)"
      ],
      "execution_count": null,
      "outputs": [
        {
          "output_type": "execute_result",
          "data": {
            "text/html": [
              "<div>\n",
              "<style scoped>\n",
              "    .dataframe tbody tr th:only-of-type {\n",
              "        vertical-align: middle;\n",
              "    }\n",
              "\n",
              "    .dataframe tbody tr th {\n",
              "        vertical-align: top;\n",
              "    }\n",
              "\n",
              "    .dataframe thead th {\n",
              "        text-align: right;\n",
              "    }\n",
              "</style>\n",
              "<table border=\"1\" class=\"dataframe\">\n",
              "  <thead>\n",
              "    <tr style=\"text-align: right;\">\n",
              "      <th></th>\n",
              "      <th>grado</th>\n",
              "      <th>tasa de aprendizaje</th>\n",
              "      <th>error_entreamiento</th>\n",
              "      <th>error_prueba</th>\n",
              "    </tr>\n",
              "  </thead>\n",
              "  <tbody>\n",
              "    <tr>\n",
              "      <th>1</th>\n",
              "      <td>2.0</td>\n",
              "      <td>10.0</td>\n",
              "      <td>0.0</td>\n",
              "      <td>0.0</td>\n",
              "    </tr>\n",
              "    <tr>\n",
              "      <th>5</th>\n",
              "      <td>2.0</td>\n",
              "      <td>1.0</td>\n",
              "      <td>0.0</td>\n",
              "      <td>0.0</td>\n",
              "    </tr>\n",
              "    <tr>\n",
              "      <th>9</th>\n",
              "      <td>2.0</td>\n",
              "      <td>0.1</td>\n",
              "      <td>0.0</td>\n",
              "      <td>0.0</td>\n",
              "    </tr>\n",
              "  </tbody>\n",
              "</table>\n",
              "</div>"
            ],
            "text/plain": [
              "   grado  tasa de aprendizaje  error_entreamiento  error_prueba\n",
              "1    2.0                 10.0                 0.0           0.0\n",
              "5    2.0                  1.0                 0.0           0.0\n",
              "9    2.0                  0.1                 0.0           0.0"
            ]
          },
          "metadata": {
            "tags": []
          },
          "execution_count": 56
        }
      ]
    },
    {
      "cell_type": "code",
      "metadata": {
        "cellView": "form",
        "id": "ZnGyv4JtYyTd"
      },
      "source": [
        "#@title Pregunta Abierta\n",
        "#@markdown ¿por qué se uso el error de prueba para ordenar la tabla de resultados en lugar del error de entrenamiento?\n",
        "respuesta_4 = \"Porque el error de prueba se obtiene a partir del conjunto de datos de prueba y en vista de que el modelo desconoce las salidas reales de este conjunto podemos tener una nocion mas clara de la efectividad del modelo en el peor de los casos\" #@param {type:\"string\"}"
      ],
      "execution_count": null,
      "outputs": []
    },
    {
      "cell_type": "markdown",
      "metadata": {
        "id": "XGMsmcCtkjCs"
      },
      "source": [
        "Entrenemos con los mejores parámetros"
      ]
    },
    {
      "cell_type": "code",
      "metadata": {
        "id": "q81OIPYJYyTa",
        "tags": [],
        "colab": {
          "base_uri": "https://localhost:8080/"
        },
        "outputId": "f12156a4-1a61-4705-cfdd-ef7f70a7e1fa"
      },
      "source": [
        "# ignoramos el costo!\n",
        "W,_= gradiente_descendente_logistic_poly(Xtrain,Ytrain,grado = 2,eta = 10, iteraciones = 500)\n",
        "print(\"estos son los pesos para el modelo entrenando \\n\", W)"
      ],
      "execution_count": null,
      "outputs": [
        {
          "output_type": "stream",
          "text": [
            "costo despues de finalizar las iteraciones 0.004451417221069902\n",
            "estos son los pesos para el modelo entrenando \n",
            " [[-12.48421935]\n",
            " [ -0.69328901]\n",
            " [  1.07513235]\n",
            " [  7.34025015]\n",
            " [  8.05008145]]\n"
          ],
          "name": "stdout"
        }
      ]
    },
    {
      "cell_type": "markdown",
      "metadata": {
        "id": "SVRyPRaBkjCs"
      },
      "source": [
        "Debemos recordar que el modelo creado se puede resumir en una ecuación usando los pesos de $w$:\n",
        "\n",
        "![vectorization](https://raw.githubusercontent.com/jdariasl/ML_2020/master/Labs/commons/images/frontera_logistic.jpg)\n",
        "\n",
        "\n",
        "En el ejemplo la ecuación estaria dada como: 2.0*x1 + 3.0*x2 + 4.0, para el caso del polinomio grado 1.\n",
        "\n",
        "\n",
        "Usando los valores del ultimo $w$ entrenado podriamos construir la función que define nuestra frontera.\n"
      ]
    },
    {
      "cell_type": "code",
      "metadata": {
        "cellView": "form",
        "id": "2FZeWG54YyTg"
      },
      "source": [
        "#@title Pregunta Abierta\n",
        "#@markdown Escribe el modelo completo con sus variables y coeficientes de f(**x**,**w**) con la mejor frontera de decisión que encontró. Recuerda tener presente el grado del polinomio.\n",
        "respuesta_5 = \"(-0.69328901)x1 + (1.07513235)x2 + (7.34025015)x1**2 + (8.05008145)x2**2  - 12.48421935\" #@param {type:\"string\"}"
      ],
      "execution_count": null,
      "outputs": []
    },
    {
      "cell_type": "code",
      "metadata": {
        "id": "qdlLAktOYyTh",
        "tags": [],
        "colab": {
          "base_uri": "https://localhost:8080/"
        },
        "outputId": "5fcf747e-7056-4b15-dad2-3185bcbb273e"
      },
      "source": [
        "GRADER.check_tests()"
      ],
      "execution_count": null,
      "outputs": [
        {
          "output_type": "stream",
          "text": [
            "Todo se ve ok. Asegurate de responder las preguntas abiertas y envia e archivo al formulario ¡buen trabajo!\n"
          ],
          "name": "stdout"
        }
      ]
    },
    {
      "cell_type": "code",
      "metadata": {
        "cellView": "form",
        "id": "U0DWcBDcYyTj"
      },
      "source": [
        "#@title Integrantes\n",
        "codigo_integrante_1 ='1035439685' #@param {type:\"string\"}\n",
        "codigo_integrante_2 = '1020485954'  #@param {type:\"string\"}"
      ],
      "execution_count": null,
      "outputs": []
    },
    {
      "cell_type": "markdown",
      "metadata": {
        "id": "19FgbUXzYyTl"
      },
      "source": [
        "----\n",
        "esta linea de codigo va fallar, es de uso exclusivo del los profesores\n"
      ]
    },
    {
      "cell_type": "code",
      "metadata": {
        "id": "KepG_JTvYyTl",
        "colab": {
          "base_uri": "https://localhost:8080/"
        },
        "outputId": "91b8cca5-dab9-43a6-ad93-10dc8e794f2e"
      },
      "source": [
        "GRADER.grade()"
      ],
      "execution_count": null,
      "outputs": [
        {
          "output_type": "stream",
          "text": [
            "uso del docente\n"
          ],
          "name": "stdout"
        }
      ]
    }
  ]
}