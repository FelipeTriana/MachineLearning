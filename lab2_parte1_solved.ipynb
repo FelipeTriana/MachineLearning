{
  "nbformat": 4,
  "nbformat_minor": 0,
  "metadata": {
    "colab": {
      "name": "lab2_parte1_solved.ipynb",
      "provenance": [],
      "collapsed_sections": [],
      "include_colab_link": true
    },
    "kernelspec": {
      "display_name": "Python 3",
      "language": "python",
      "name": "python3"
    },
    "language_info": {
      "codemirror_mode": {
        "name": "ipython",
        "version": 3
      },
      "file_extension": ".py",
      "mimetype": "text/x-python",
      "name": "python",
      "nbconvert_exporter": "python",
      "pygments_lexer": "ipython3",
      "version": "3.6.9"
    }
  },
  "cells": [
    {
      "cell_type": "markdown",
      "metadata": {
        "id": "view-in-github",
        "colab_type": "text"
      },
      "source": [
        "<a href=\"https://colab.research.google.com/github/FelipeTriana/MachineLearning/blob/master/lab2_parte1_solved.ipynb\" target=\"_parent\"><img src=\"https://colab.research.google.com/assets/colab-badge.svg\" alt=\"Open In Colab\"/></a>"
      ]
    },
    {
      "cell_type": "markdown",
      "metadata": {
        "id": "E6d18EXXlmH4"
      },
      "source": [
        "**Recuerda que una vez abierto, Da clic en \"Copiar en Drive\", de lo contrario no podras alamancenar tu progreso**\n",
        "\n",
        "Nota: no olvide ir ejecutando las celdas de código de arriba hacia abajo para que no tenga errores de importación de librerías o por falta de definición de variables."
      ]
    },
    {
      "cell_type": "code",
      "metadata": {
        "id": "YpzuvE42lmH5",
        "tags": [],
        "colab": {
          "base_uri": "https://localhost:8080/"
        },
        "outputId": "348dfecd-7b4b-4bf7-e2ea-b6e285378690"
      },
      "source": [
        "#configuración del laboratorio\n",
        "# Ejecuta esta celda!\n",
        "%load_ext autoreload\n",
        "%autoreload 2\n",
        "# for local \n",
        "#import sys ; sys.path.append('../commons/utils/')\n",
        "!wget https://raw.githubusercontent.com/jdariasl/ML_2020/master/Labs/commons/utils/general.py -O general.py\n",
        "from general import configure_lab2\n",
        "configure_lab2()\n",
        "from lab2 import *\n",
        "GRADER, x, y = part_1()"
      ],
      "execution_count": null,
      "outputs": [
        {
          "output_type": "stream",
          "text": [
            "--2021-03-25 23:15:45--  https://raw.githubusercontent.com/jdariasl/ML_2020/master/Labs/commons/utils/general.py\n",
            "Resolving raw.githubusercontent.com (raw.githubusercontent.com)... 185.199.110.133, 185.199.108.133, 185.199.111.133, ...\n",
            "Connecting to raw.githubusercontent.com (raw.githubusercontent.com)|185.199.110.133|:443... connected.\n",
            "HTTP request sent, awaiting response... 200 OK\n",
            "Length: 14632 (14K) [text/plain]\n",
            "Saving to: ‘general.py’\n",
            "\n",
            "general.py          100%[===================>]  14.29K  --.-KB/s    in 0s      \n",
            "\n",
            "2021-03-25 23:15:46 (28.3 MB/s) - ‘general.py’ saved [14632/14632]\n",
            "\n",
            "lab configuration started\n",
            "installing libraries\n",
            "downloading files\n",
            "lab configured\n"
          ],
          "name": "stdout"
        }
      ]
    },
    {
      "cell_type": "markdown",
      "metadata": {
        "id": "_cePBYijlmH8"
      },
      "source": [
        "# Laboratorio 2 - Parte 1. KNN para un problema de clasificación"
      ]
    },
    {
      "cell_type": "markdown",
      "metadata": {
        "id": "jPlJQSbWlmH8"
      },
      "source": [
        "### Ejercicio 1: Contextualización del problema\n",
        "\n",
        "\n",
        "Usaremos el dataset iris para el problema de clasificación. En el UCI Machine Learning Repository se encuentra más información en el siguiente [link](https://archive.ics.uci.edu/ml/datasets/iris) ."
      ]
    },
    {
      "cell_type": "code",
      "metadata": {
        "id": "NLajNANXlmH9",
        "tags": [],
        "colab": {
          "base_uri": "https://localhost:8080/"
        },
        "outputId": "025c096c-f266-4760-9d05-ba422324b924"
      },
      "source": [
        "print(\"muestra de los 5 primeros renglones de x:\\n\", x[0:5, :])\n",
        "print(\"muestra de los 5 primeros renglones de y:\\n\", y[0:5])\n",
        "print (\"¿el resultado de esta instrucción que información nos brinda?\", x.shape[0])         #Numero de muestras(Filas de \"x\")\n",
        "print (\"¿el resultado de esta instrucción que información nos brinda?\", x.shape[1])         #Numero de caracteristicas(Columnas de \"x\")\n",
        "print (\"¿el resultado de esta instrucción que información nos brinda?\", len(np.unique(y)))  #Numero de clases(unique filtra elementos de \"y\" dejando solo los no repetidos)"
      ],
      "execution_count": null,
      "outputs": [
        {
          "output_type": "stream",
          "text": [
            "muestra de los 5 primeros renglones de x:\n",
            " [[5.1 3.5 1.4 0.2]\n",
            " [4.9 3.  1.4 0.2]\n",
            " [4.7 3.2 1.3 0.2]\n",
            " [4.6 3.1 1.5 0.2]\n",
            " [5.  3.6 1.4 0.2]]\n",
            "muestra de los 5 primeros renglones de y:\n",
            " [0 0 0 0 0]\n",
            "¿el resultado de esta instrucción que información nos brinda? 150\n",
            "¿el resultado de esta instrucción que información nos brinda? 4\n",
            "¿el resultado de esta instrucción que información nos brinda? 3\n"
          ],
          "name": "stdout"
        }
      ]
    },
    {
      "cell_type": "markdown",
      "metadata": {
        "id": "UjxCQdFSlmIA"
      },
      "source": [
        "En un problema de clasificación de más de una clase, tener un desbalance de muestras puede ser perjudicial para el proceso de entrenamiento. Vamos a crear una función para verificar el número de muestras por clases."
      ]
    },
    {
      "cell_type": "code",
      "metadata": {
        "id": "C_H1V6UilmIA"
      },
      "source": [
        "#Ejercicio de código\n",
        "def muestras_por_clases (Y):\n",
        "    \"\"\"Funcion que calcula el número de muestras por cada clase\n",
        "    Y: vector de numpy con las etiquetas de las muestras del conjunto X\n",
        "    retorna: diccionario [int/float:int/float] \n",
        "        con la estructura:{etiquetaclase1: número de muestras clase1, etiquetaclase2: número de muestras clase2}\n",
        "    \"\"\"\n",
        "    dicto = {}\n",
        "    ## Pista se puede asginar keys a diccionario: dict[etiqueta] = valor\n",
        "    clases = np.unique(Y)         #Elementos no repetidos de Y\n",
        "    for i in clases:              #Itera con i el vector de clases\n",
        "        dicto[i] = len(Y[Y==i])   #Crea la etiqueta de la clase en el diccionario y le lleva el tamano(len) de los elementos en Y que coinciden con la etiqueta i\n",
        "\n",
        "    return (dicto)\n",
        "\n"
      ],
      "execution_count": null,
      "outputs": []
    },
    {
      "cell_type": "code",
      "metadata": {
        "colab": {
          "base_uri": "https://localhost:8080/"
        },
        "id": "Zp4xX-ZJHkbN",
        "outputId": "d987fbc9-d2e9-4db4-fdea-6ab94199dee0"
      },
      "source": [
        "print(muestras_por_clases(y))"
      ],
      "execution_count": null,
      "outputs": [
        {
          "output_type": "stream",
          "text": [
            "{0: 50, 1: 50, 2: 50}\n"
          ],
          "name": "stdout"
        }
      ]
    },
    {
      "cell_type": "code",
      "metadata": {
        "id": "ResDJsKflmIC",
        "tags": [],
        "colab": {
          "base_uri": "https://localhost:8080/"
        },
        "outputId": "13e98fb2-ad04-4783-e839-ca12b052097b"
      },
      "source": [
        "## la funcion que prueba tu implementacion\n",
        "GRADER.run_test(\"ejercicio1\", muestras_por_clases)"
      ],
      "execution_count": null,
      "outputs": [
        {
          "output_type": "stream",
          "text": [
            "TEST EXITOSO!\n"
          ],
          "name": "stdout"
        }
      ]
    },
    {
      "cell_type": "code",
      "metadata": {
        "id": "BxYN119rlmIE",
        "colab": {
          "base_uri": "https://localhost:8080/",
          "height": 294
        },
        "outputId": "f34fc3be-acd8-4dbd-b15e-7af4a7fd14d0"
      },
      "source": [
        "# con esta linea de codigo puedes ver la dsitribucion de forma grafica\n",
        "fig, ax = plt.subplots()\n",
        "ax.bar(muestras_por_clases(y).keys(), muestras_por_clases(y).values())\n",
        "ax.set_title(\"número de muestras por clase\")\n",
        "ax.set_xlabel(\"etiqueta de clase\")\n",
        "ax.set_ylabel(\"# muestras por clase\")\n",
        "ax.set_xticks(list(muestras_por_clases(y).keys()))\n",
        "plt.show()\n"
      ],
      "execution_count": null,
      "outputs": [
        {
          "output_type": "display_data",
          "data": {
            "image/png": "[encoded data removed]",
            "text/plain": [
              "<Figure size 432x288 with 1 Axes>"
            ]
          },
          "metadata": {
            "tags": [],
            "needs_background": "light"
          }
        }
      ]
    },
    {
      "cell_type": "code",
      "metadata": {
        "cellView": "form",
        "id": "HdXA-uQTlmIH"
      },
      "source": [
        "#@title Pregunta Abierta\n",
        "#@markdown  ¿dependiendo de los resultados de la informacion anterior, cuantas caracteristicas tiene el problema, muestras y como calficaria la distribución de clases?\n",
        "respuesta_1 = \"Son en total 150 muestras con 4 caracteristicas. Hay tres clases donde cada clase tiene 50 instancias de muestras como podemos ver en el grafico anterior.\" #@param {type:\"string\"}"
      ],
      "execution_count": null,
      "outputs": []
    },
    {
      "cell_type": "markdown",
      "metadata": {
        "id": "Z-SvlavllmIJ"
      },
      "source": [
        "### Ejercicio 2: Completar código KNN\n",
        "\n",
        "Recordemos los conceptos vistos en teoria para los modelos basados en los K-vecimos más cercanos. En este ejercicio vamos a escribir la función que implementa este modelo. Pero primero vamos a definir la función que nos ayudara calcular el error de clasificación."
      ]
    },
    {
      "cell_type": "code",
      "metadata": {
        "id": "oPkzTnejlmIJ"
      },
      "source": [
        "def ErrorClas(Y_lest, Y):\n",
        "    \"\"\"funcion que calcula el error de clasificación\n",
        "    Y_lest: numpy array con la estimaciones de etiqueta\n",
        "    Y: etiquetas reales\n",
        "    retorna: error de clasificación (int)\n",
        "    \"\"\"\n",
        "    error = 1 - np.sum(Y_lest == Y)/len(Y)\n",
        "    \n",
        "    return error\n"
      ],
      "execution_count": null,
      "outputs": []
    },
    {
      "cell_type": "code",
      "metadata": {
        "colab": {
          "base_uri": "https://localhost:8080/"
        },
        "id": "gqFx1UFIIf_A",
        "outputId": "85938483-b3db-4be6-acd1-8784924eb4c1"
      },
      "source": [
        "#Datos de testeo para el lab\n",
        "a = np.random.randint(20, size=(5,2)) \n",
        "b = np.random.randint(20, size=(5,2)) \n",
        "print(a)\n",
        "print(b)"
      ],
      "execution_count": null,
      "outputs": [
        {
          "output_type": "stream",
          "text": [
            "[[ 3  0]\n",
            " [ 9  7]\n",
            " [10  3]\n",
            " [13  4]\n",
            " [10 16]]\n",
            "[[ 5  9]\n",
            " [18  1]\n",
            " [10 13]\n",
            " [13 13]\n",
            " [14  9]]\n"
          ],
          "name": "stdout"
        }
      ]
    },
    {
      "cell_type": "code",
      "metadata": {
        "colab": {
          "base_uri": "https://localhost:8080/"
        },
        "id": "vedOWvBjJX06",
        "outputId": "75b9c371-ca38-44c1-881e-bd8f8196e028"
      },
      "source": [
        "#Testeando funcion cdist\n",
        "d = cdist(a,b,'euclidean')\n",
        "print(d)\n",
        "indexes2=np.argsort(d)\n",
        "print(\"---------------------------------------\")\n",
        "\n",
        "print(indexes2)"
      ],
      "execution_count": null,
      "outputs": [
        {
          "output_type": "stream",
          "text": [
            "[[ 9.21954446 15.03329638 14.76482306 16.40121947 14.2126704 ]\n",
            " [ 4.47213595 10.81665383  6.08276253  7.21110255  5.38516481]\n",
            " [ 7.81024968  8.24621125 10.         10.44030651  7.21110255]\n",
            " [ 9.43398113  5.83095189  9.48683298  9.          5.09901951]\n",
            " [ 8.60232527 17.          3.          4.24264069  8.06225775]]\n",
            "---------------------------------------\n",
            "[[0 4 2 1 3]\n",
            " [0 4 2 3 1]\n",
            " [4 0 1 2 3]\n",
            " [4 1 3 0 2]\n",
            " [2 3 4 0 1]]\n"
          ],
          "name": "stdout"
        }
      ]
    },
    {
      "cell_type": "markdown",
      "metadata": {
        "id": "Ug9-Q6gYlmIM"
      },
      "source": [
        "Ahora si es hora del ejercicio. Ten en cuenta lo siguiente:\n",
        "\n",
        "<b>Pistas</b>\n",
        "\n",
        "1. Para el cáculo de la distancia entre vectores existen varias opciones:\n",
        "    1. usar la función la distancia entre matrices `scipy.spatial.distance.cdist`([Ejemplo](https://docs.scipy.org/doc/scipy/reference/generated/scipy.spatial.distance.cdist.html#scipy.spatial.distance.cdist))--esta puede ser usada directamente como `cdist(...)`. Entiende la salida de esta función. Al usarla, se logra un rendimiento superior.\n",
        "    2. usar la función la distancia euclidiana `scipy.spatial.distance.euclidean`([Ejemplo](https://docs.scipy.org/doc/scipy/reference/generated/scipy.spatial.distance.euclidean.html))--pueder acceder a ella directamente como `euclidean`. Aca debe pensar en un algoritmo elemento a elemento, por lo tanto menos eficiente.\n",
        "2. También serán de utilidad las funciones `np.sort` y `np.argsort`.\n",
        "3. ten presente que la moda es una operación que calcula el valor más común. En el [notebook ya se encuentra cargada esta operacion](https://docs.scipy.org/doc/scipy/reference/generated/scipy.stats.mode.html), es posible usarla de esta manera : `mode(y)`"
      ]
    },
    {
      "cell_type": "code",
      "metadata": {
        "id": "-5h9vhE2lmIO"
      },
      "source": [
        "#ejercicio de codigo\n",
        "def KNN_Clasificacion(X_train, Y_train, X_test, k):\n",
        "    \"\"\" Funcion que implementa el modelo de K-Vecino mas cercanos\n",
        "        para clasificación\n",
        "    X_train: es la matriz con las muestras de entrenamiento\n",
        "    Y_train: es un vector con los valores de salida para cada una de las muestras de entrenamiento\n",
        "    X_test: es la matriz con las muestras de validación\n",
        "    k (int): valor de vecinos a usar\n",
        "    retorna: las estimaciones del modelo KNN para el conjunto X_test \n",
        "             esta matriz debe tener un shape de [row/muestras de X_test] \n",
        "             y las distancias de X_test respecto a X_train, estan matrix\n",
        "             debe tener un shape de [rows de X_test, rows X_train]\n",
        "             lo que es lo mismo [muestras de X_test, muestras de X_train]\n",
        "    \"\"\"\n",
        "    if k > X_train.shape[0]:\n",
        "        print(\"k no puede ser menor que las muestras de entrenamiento\")\n",
        "        return(None)\n",
        "    distancias = cdist(X_test,X_train,'euclidean') # cdist retorna una matriz con las distacias de cada muestra test a cada una de las muestras de entrenamiento\n",
        "    Yest = np.zeros(X_test.shape[0])\n",
        "    \n",
        "    \n",
        "    indices = np.argsort(distancias)               # Ordena las distancias de menor a mayor y retorna los INDICES\n",
        "    indices = indices[:,:k]                        # Toma todas las filas y solo los k vecinos de la matriz de indices\n",
        "    #funcion para obtener el dato que corresponde a una distancia\n",
        "    Yind=np.take(Y_train,indices)                # take permite tomar los valores de Y con base en los indices pasados en el segundo parametro(Analizar como cdist organiza las distancias en la matriz retornada de modo que la distancia de la muestra analizada con la de entrenamiento se ubique en la columna que tendra el mismo indice que el que tiene la muestra de salida \"y\"(Que dice a que clase corresponde una muestra))\n",
        "                                        \n",
        "    for i,row in enumerate(Yind):                \n",
        "      Yest[i] = mode(row)[0] \n",
        "        \n",
        "    \n",
        "    return (Yest, distancias) \n",
        "  "
      ],
      "execution_count": null,
      "outputs": []
    },
    {
      "cell_type": "code",
      "metadata": {
        "id": "k_9TyR5RlmIR",
        "colab": {
          "base_uri": "https://localhost:8080/"
        },
        "outputId": "74141ea7-e59a-4ad5-daf6-48b2f60d75c9"
      },
      "source": [
        "## la funcion que prueba tu implementacion\n",
        "GRADER.run_test(\"ejercicio2\", KNN_Clasificacion)"
      ],
      "execution_count": null,
      "outputs": [
        {
          "output_type": "stream",
          "text": [
            "TEST EXITOSO!\n"
          ],
          "name": "stdout"
        }
      ]
    },
    {
      "cell_type": "markdown",
      "metadata": {
        "id": "uf14uGTjlmIT"
      },
      "source": [
        "### Ejercicio 3: Experimentos de KNN\n",
        "\n",
        "Ahora vamos a probar nuestro algoritmo. Pero antes de esto vamos a tener que dividir nuestro conjunto de datos, vamos a usar una función llamada train_test_split de la libreria sklearn. [Aca puedes ver la ayuda](https://scikit-learn.org/stable/modules/generated/sklearn.model_selection.train_test_split.html). Entiende su funcionamiento. Vamos a usarla para crear una función con una propoción fija  de 70%-30% entre nuestro conjunto de entrenamiento y de pruebas.\n"
      ]
    },
    {
      "cell_type": "code",
      "metadata": {
        "id": "aohW53I3lmIU"
      },
      "source": [
        "#ejercicio de codigo\n",
        "def train_test_split_fix(X,Y):\n",
        "    \"\"\"funcion que divide el conjunto de datos en\n",
        "        entrenamiento y pruebas\n",
        "        usando un proporcion fija de 30 %\n",
        "        para el conjunto de pruebas.\n",
        "\n",
        "    X: matriz de numpy con las muestras y caractersiticas\n",
        "    Y: matriz de numpy con las las etiquetas reales\n",
        "    retorna:\n",
        "        Xtrain: conjunto de datos para entrenamiento\n",
        "        Xtest: conjunto de datos para pruebas\n",
        "        Ytrain: conjunto  de etiquetas para entrenamiento\n",
        "        Ytest: conjunto de etiquetas para prueba \n",
        "    \"\"\"\n",
        "    Xtrain, Xtest, Ytrain, Ytest = train_test_split(X,Y,test_size=0.3, train_size=0.7)\n",
        "\n",
        "    return (Xtrain, Xtest, Ytrain, Ytest)\n"
      ],
      "execution_count": null,
      "outputs": []
    },
    {
      "cell_type": "code",
      "metadata": {
        "id": "V9ysrjCjlmIV",
        "colab": {
          "base_uri": "https://localhost:8080/"
        },
        "outputId": "edcf8ea0-5951-48d9-eec1-bb9a49447895"
      },
      "source": [
        "## la funcion que prueba tu implementacion\n",
        "GRADER.run_test(\"ejercicio3\", train_test_split_fix)"
      ],
      "execution_count": null,
      "outputs": [
        {
          "output_type": "stream",
          "text": [
            "TEST EXITOSO!\n"
          ],
          "name": "stdout"
        }
      ]
    },
    {
      "cell_type": "markdown",
      "metadata": {
        "id": "O0GoV9iZlmIX"
      },
      "source": [
        "Vamos a proceder a experimentar. Para ello vamos a crear una función que realiza los experimentos usando las funciones previamente construidas. En el código se hace uso de la función [StandardScaler](https://scikit-learn.org/stable/modules/generated/sklearn.preprocessing.StandardScaler.html), para normalizar los datos."
      ]
    },
    {
      "cell_type": "code",
      "metadata": {
        "id": "790OsCdmlmIX"
      },
      "source": [
        "#Ejercicio de código\n",
        "def experimentar (X, Y, ks):\n",
        "    \"\"\"Función que realiza los experimentos con knn usando\n",
        "       una estrategia de validacion entrenamiento y pruebas\n",
        "    X: matriz de numpy conjunto con muestras y caracteristicas\n",
        "    Y: vector de numpy con los valores de las etiquetas\n",
        "    ks: List[int/float] lista con los valores de k-vecinos a usar\n",
        "    retorna: dataframe con los resultados\n",
        "    \"\"\"\n",
        "\n",
        "    # dividimos usando la función\n",
        "    Xtrain, Xtest, Ytrain, Ytest = train_test_split_fix(X,Y)\n",
        "\n",
        "    scaler = StandardScaler()\n",
        "    scaler.fit(Xtrain)\n",
        "    Xtrain= scaler.transform(Xtrain)\n",
        "    Xtest = scaler.transform(Xtest)\n",
        "\n",
        "    resultados = pd.DataFrame()\n",
        "    idx = 0\n",
        "    for k in ks:\n",
        "        # iteramos sobre la lista de k's\n",
        "        resultados.loc[idx,'k-vecinos'] = k\n",
        "        Yest, dist = KNN_Clasificacion(Xtrain,Ytrain,Xtest,k)\n",
        "        errorTest = ErrorClas(Yest,Ytest)\n",
        "        resultados.loc[idx,'error de prueba'] = errorTest\n",
        "        idx+=1\n",
        "\n",
        "    return (resultados)"
      ],
      "execution_count": null,
      "outputs": []
    },
    {
      "cell_type": "code",
      "metadata": {
        "cellView": "form",
        "id": "vVfhToZYlmIZ"
      },
      "source": [
        "#@title Pregunta Abierta\n",
        "#@markdown como se observo en nuestros experimentos usamos una metodologia basica de dividir el conjunto de entrenamiento y pruebas. ¿Cual es la diferencia si quisieramos aplicar una metodologia de validación cruzada?\n",
        "respuesta_2 = \"Si se aplica la validacion cruzada el conjunto de datos de test y entrenamiento sera distinto. La diferencia radica en que la validacion cruzada se presenta como una mejora al metodo basico de division de conjuntos que hemos venido usando. La validacion cruzada se usa para evaluar los resultados de un an\\xE1lisis estad\\xEDstico y garantizar que son independientes de la partici\\xF3n entre datos de prueba y entrenamiento. Hay varios tipos de validacion cruzada pero en general consiste en repetir y calcular la media aritmetica obtenida de las medidas de evaluacion sobre diferentes particiones.\" #@param {type:\"string\"}"
      ],
      "execution_count": null,
      "outputs": []
    },
    {
      "cell_type": "code",
      "metadata": {
        "id": "uqlarUy7lmIb",
        "colab": {
          "base_uri": "https://localhost:8080/"
        },
        "outputId": "db6c0998-df34-4d78-a77d-b4518e42cd95"
      },
      "source": [
        "## la funcion que prueba tu implementacion\n",
        "GRADER.run_test(\"ejercicio4\", experimentar)"
      ],
      "execution_count": null,
      "outputs": [
        {
          "output_type": "stream",
          "text": [
            "TEST EXITOSO!\n"
          ],
          "name": "stdout"
        }
      ]
    },
    {
      "cell_type": "markdown",
      "metadata": {
        "id": "89jKEygplmId"
      },
      "source": [
        "Ahora ejecuta los experimentos con k = 2,3,4,5,6,7,10"
      ]
    },
    {
      "cell_type": "code",
      "metadata": {
        "id": "GUJwi9dilmId",
        "colab": {
          "base_uri": "https://localhost:8080/",
          "height": 257
        },
        "outputId": "03a86b63-9851-424e-fae7-fdb8c67a7411"
      },
      "source": [
        "resultados = experimentar (x, y,[2,3,4,5,6,7,10])\n",
        "resultados"
      ],
      "execution_count": null,
      "outputs": [
        {
          "output_type": "execute_result",
          "data": {
            "text/html": [
              "<div>\n",
              "<style scoped>\n",
              "    .dataframe tbody tr th:only-of-type {\n",
              "        vertical-align: middle;\n",
              "    }\n",
              "\n",
              "    .dataframe tbody tr th {\n",
              "        vertical-align: top;\n",
              "    }\n",
              "\n",
              "    .dataframe thead th {\n",
              "        text-align: right;\n",
              "    }\n",
              "</style>\n",
              "<table border=\"1\" class=\"dataframe\">\n",
              "  <thead>\n",
              "    <tr style=\"text-align: right;\">\n",
              "      <th></th>\n",
              "      <th>k-vecinos</th>\n",
              "      <th>error de prueba</th>\n",
              "    </tr>\n",
              "  </thead>\n",
              "  <tbody>\n",
              "    <tr>\n",
              "      <th>0</th>\n",
              "      <td>2.0</td>\n",
              "      <td>0.066667</td>\n",
              "    </tr>\n",
              "    <tr>\n",
              "      <th>1</th>\n",
              "      <td>3.0</td>\n",
              "      <td>0.044444</td>\n",
              "    </tr>\n",
              "    <tr>\n",
              "      <th>2</th>\n",
              "      <td>4.0</td>\n",
              "      <td>0.022222</td>\n",
              "    </tr>\n",
              "    <tr>\n",
              "      <th>3</th>\n",
              "      <td>5.0</td>\n",
              "      <td>0.022222</td>\n",
              "    </tr>\n",
              "    <tr>\n",
              "      <th>4</th>\n",
              "      <td>6.0</td>\n",
              "      <td>0.022222</td>\n",
              "    </tr>\n",
              "    <tr>\n",
              "      <th>5</th>\n",
              "      <td>7.0</td>\n",
              "      <td>0.022222</td>\n",
              "    </tr>\n",
              "    <tr>\n",
              "      <th>6</th>\n",
              "      <td>10.0</td>\n",
              "      <td>0.022222</td>\n",
              "    </tr>\n",
              "  </tbody>\n",
              "</table>\n",
              "</div>"
            ],
            "text/plain": [
              "   k-vecinos  error de prueba\n",
              "0        2.0         0.066667\n",
              "1        3.0         0.044444\n",
              "2        4.0         0.022222\n",
              "3        5.0         0.022222\n",
              "4        6.0         0.022222\n",
              "5        7.0         0.022222\n",
              "6       10.0         0.022222"
            ]
          },
          "metadata": {
            "tags": []
          },
          "execution_count": 16
        }
      ]
    },
    {
      "cell_type": "markdown",
      "metadata": {
        "id": "RjYA5v8UlmIf"
      },
      "source": [
        "### Ejercicio 4: ventana de Parzen\n",
        "\n",
        "Ahora vamos a utilizar el metodo de ventana de parzen. Recuerde de las clases teoricas, quedemos usar una función kernel. En la siguiente celda se proponen dos funciones para:\n",
        "1. calculo de un kernel gausiano\n",
        "2. calculo de la ventana de parzen, es decir el termino: $ \\sum_{i=1}^{N} K(u_i)$, siendo $\\;\\; u_i = \\frac{d({\\bf{x}}^*,{\\bf{x}}_i)}{h}$ y la función $K$ el kernel gausiano"
      ]
    },
    {
      "cell_type": "code",
      "metadata": {
        "id": "REi5LxoilmIg"
      },
      "source": [
        "def kernel_gaussiano(x):\n",
        "    \"\"\"Calcula el kernel gaussiano de x\n",
        "    x: matriz/vector de numpy\n",
        "    retorna: el valor de de kernel gaussiano\n",
        "    \"\"\"\n",
        "    return np.exp((-0.5)*x**2)\n",
        "\n",
        "def ParzenWindow(x,Data,h):\n",
        "    \"\"\"\"ventana de parzen\n",
        "    x: vector con representando una sola muestra\n",
        "    Data: vector de muestras de entrenamiento\n",
        "    h: ancho de la ventana de kernel\n",
        "    retorna: el valor de ventana de parzen para una muestra\n",
        "    \"\"\"\n",
        "    h = h\n",
        "    Ns = Data.shape[0]\n",
        "    suma = 0\n",
        "    for k in range(Ns):\n",
        "        u = euclidean(x,Data[k,:])\n",
        "        suma += kernel_gaussiano(u/h)\n",
        "    return suma\n"
      ],
      "execution_count": null,
      "outputs": []
    },
    {
      "cell_type": "markdown",
      "metadata": {
        "id": "MAlolkzzlmIh"
      },
      "source": [
        "Entiendalos la implementación de las anteriores funciones y uselas para resolver el ejercicio de código."
      ]
    },
    {
      "cell_type": "code",
      "metadata": {
        "id": "K-8GS3A8lmIh"
      },
      "source": [
        "#Ejercicio de código\n",
        "def parzenClass(X_train, Y_train, X_test, h):\n",
        "    \"\"\" Funcion que implementa metodo de ventana de parzen para\n",
        "        para clasificación\n",
        "    X_train: es la matriz con las muestras de entrenamiento\n",
        "    Y_train: es un vector con los valores de salida pra cada una de las muestras de entrenamiento\n",
        "    X_test: es la matriz con las muestras de validación\n",
        "    h (float): ancho de h de la ventana\n",
        "    retorna: - las estimaciones del modelo parzen para el conjunto X_test \n",
        "              esta matriz debe tener un shape de [row/muestras de X_test]\n",
        "             - las probabilidades de la vetana [row/muestras de X_test, número de clases]  \n",
        "    \"\"\"\n",
        "        \n",
        "    Yest = np.zeros(X_test.shape[0])\n",
        "    clases = np.unique(Y_train)\n",
        "    fds_matrix = np.zeros((X_test.shape[0], len(clases)))\n",
        "    \n",
        "    \n",
        "    ## pista: recuerde el termino que acompaña al sumatoria (N)\n",
        "    \n",
        "    for i, row in enumerate (X_test):\n",
        "      \n",
        "        for j,lb in enumerate(clases):\n",
        "          ind = np.ravel(np.where(Y_train == lb))\n",
        "          xDt = np.take(X_train,ind,axis=0)\n",
        "          fds_matrix[i,j] = ParzenWindow(row,xDt,h)/(len(Y_train[Y_train==lb]))\n",
        "        \n",
        "        Yest[i]=np.argmax(fds_matrix[i:,])\n",
        "           \n",
        "       \n",
        "    \n",
        "    \n",
        "\n",
        "    #Debe retornar un vector que contenga las predicciones para cada una de las muestras en X_val, en el mismo orden.  \n",
        "    return Yest, fds_matrix"
      ],
      "execution_count": null,
      "outputs": []
    },
    {
      "cell_type": "code",
      "metadata": {
        "id": "i0eLRBbqlmIj",
        "colab": {
          "base_uri": "https://localhost:8080/"
        },
        "outputId": "e93233b2-4ca5-43e3-b3c3-862548f159f1"
      },
      "source": [
        "## la funcion que prueba tu implementacion\n",
        "GRADER.run_test(\"ejercicio5\", parzenClass)"
      ],
      "execution_count": null,
      "outputs": [
        {
          "output_type": "stream",
          "text": [
            "TEST EXITOSO!\n"
          ],
          "name": "stdout"
        }
      ]
    },
    {
      "cell_type": "markdown",
      "metadata": {
        "id": "_Z2-claRlmIk"
      },
      "source": [
        "### Ejercicio 5 - Experimentos con Parzen\n",
        "\n",
        "Ahora vamos a realizar los experimentos, pero esta vez, debemos implementar otro tipo de validación. Dentro del código se encuentra ya esta implementación sugerida, usando [esta función](https://scikit-learn.org/stable/modules/generated/sklearn.model_selection.StratifiedKFold.html)."
      ]
    },
    {
      "cell_type": "code",
      "metadata": {
        "cellView": "form",
        "id": "Kh__flOllmIk"
      },
      "source": [
        "#@title Pregunta Abierta\n",
        "#@markdown ¿cual es la metodologia de validación usada en el experimento? ¿qué diferencia tiene respecto a una validación cruzada?\n",
        "respuesta_3 = \"Es usada la validacion cruzada estratificada, en lo que se diferencia con la cruzada, es que la estratificada  trata de mantener las clases en test y entrenamiento proporcionadas, en los folds se conserva el porcentaje de muestras para cada clase. \" #@param {type:\"string\"}"
      ],
      "execution_count": null,
      "outputs": []
    },
    {
      "cell_type": "code",
      "metadata": {
        "id": "rHF6dWYYlmIn"
      },
      "source": [
        "#ejercicio de codigo\n",
        "def experimentarParzen (X, Y, hs):\n",
        "    \"\"\"Función que realiza los experimentos con knn usando\n",
        "       una estrategia de validacion entrenamiento y pruebas\n",
        "    X: matriz de numpy conjunto con muestras y caracteristicas\n",
        "    Y: vector de numpy con los valores de las etiquetas\n",
        "    ks: List[int/float] lista con los valores de k-vecinos a usar\n",
        "    retorna: dataframe con los resultados, debe contener las siguientes columnas:\n",
        "        - el ancho de ventana, el error medio de prueba, la desviacion estandar del error\n",
        "    \"\"\"\n",
        "    \n",
        "    \n",
        "    # se usa la función para implementar la estrategia de validación.\n",
        "    skf = StratifiedKFold(n_splits=4)\n",
        "    resultados = pd.DataFrame()\n",
        "    idx = 0\n",
        "    # iteramos sobre los valores de hs\n",
        "    for h in hs:\n",
        "        # lista para almacenar los errores de cada iteración\n",
        "        # de la validación\n",
        "        error_temp = []\n",
        "        \n",
        "        for train, test in skf.split(X, Y):\n",
        "\n",
        "            Xtrain = X[train,:]\n",
        "            Ytrain = Y[train]\n",
        "            Xtest = X[test,:]\n",
        "            Ytest = Y[test]\n",
        "            #normalizamos los datos\n",
        "            scaler = StandardScaler()\n",
        "            scaler.fit(Xtrain)\n",
        "            Xtrain = scaler.transform(Xtrain)\n",
        "            Xtest = scaler.transform(Xtest)\n",
        "            \n",
        "            Yest, probabilidades = parzenClass(Xtrain,Ytrain,Xtest,h)\n",
        "            errorTest = ErrorClas(Yest,Ytest)\n",
        "            error_temp.append(errorTest)\n",
        "    \n",
        "        resultados.loc[idx,'ancho de ventana'] = h \n",
        "        resultados.loc[idx,'error de prueba(media)'] = np.mean(error_temp)\n",
        "        resultados.loc[idx,'error de prueba(desviación estandar)'] = np.std(error_temp)\n",
        "        idx+=1\n",
        "    return (resultados)"
      ],
      "execution_count": null,
      "outputs": []
    },
    {
      "cell_type": "code",
      "metadata": {
        "id": "i7cPkOUAlmIo",
        "colab": {
          "base_uri": "https://localhost:8080/"
        },
        "outputId": "1c600162-19c7-409f-f846-dae689c45968"
      },
      "source": [
        "## la funcion que prueba tu implementacion\n",
        "GRADER.run_test(\"ejercicio6\", experimentarParzen)"
      ],
      "execution_count": null,
      "outputs": [
        {
          "output_type": "stream",
          "text": [
            "TEST EXITOSO!\n"
          ],
          "name": "stdout"
        }
      ]
    },
    {
      "cell_type": "code",
      "metadata": {
        "id": "6qwO7XGllmIq",
        "colab": {
          "base_uri": "https://localhost:8080/",
          "height": 257
        },
        "outputId": "3d552e63-91db-4477-bb5e-55cab601800d"
      },
      "source": [
        "hs = [0.05, 0.1, 0.5, 1, 2, 5, 10]\n",
        "experimentos_parzen = experimentarParzen(x,y, hs)\n",
        "experimentos_parzen"
      ],
      "execution_count": null,
      "outputs": [
        {
          "output_type": "execute_result",
          "data": {
            "text/html": [
              "<div>\n",
              "<style scoped>\n",
              "    .dataframe tbody tr th:only-of-type {\n",
              "        vertical-align: middle;\n",
              "    }\n",
              "\n",
              "    .dataframe tbody tr th {\n",
              "        vertical-align: top;\n",
              "    }\n",
              "\n",
              "    .dataframe thead th {\n",
              "        text-align: right;\n",
              "    }\n",
              "</style>\n",
              "<table border=\"1\" class=\"dataframe\">\n",
              "  <thead>\n",
              "    <tr style=\"text-align: right;\">\n",
              "      <th></th>\n",
              "      <th>ancho de ventana</th>\n",
              "      <th>error de prueba(media)</th>\n",
              "      <th>error de prueba(desviación estandar)</th>\n",
              "    </tr>\n",
              "  </thead>\n",
              "  <tbody>\n",
              "    <tr>\n",
              "      <th>0</th>\n",
              "      <td>0.05</td>\n",
              "      <td>0.059922</td>\n",
              "      <td>0.039773</td>\n",
              "    </tr>\n",
              "    <tr>\n",
              "      <th>1</th>\n",
              "      <td>0.10</td>\n",
              "      <td>0.059922</td>\n",
              "      <td>0.039773</td>\n",
              "    </tr>\n",
              "    <tr>\n",
              "      <th>2</th>\n",
              "      <td>0.50</td>\n",
              "      <td>0.053343</td>\n",
              "      <td>0.026683</td>\n",
              "    </tr>\n",
              "    <tr>\n",
              "      <th>3</th>\n",
              "      <td>1.00</td>\n",
              "      <td>0.099929</td>\n",
              "      <td>0.010944</td>\n",
              "    </tr>\n",
              "    <tr>\n",
              "      <th>4</th>\n",
              "      <td>2.00</td>\n",
              "      <td>0.126600</td>\n",
              "      <td>0.010775</td>\n",
              "    </tr>\n",
              "    <tr>\n",
              "      <th>5</th>\n",
              "      <td>5.00</td>\n",
              "      <td>0.133179</td>\n",
              "      <td>0.017648</td>\n",
              "    </tr>\n",
              "    <tr>\n",
              "      <th>6</th>\n",
              "      <td>10.00</td>\n",
              "      <td>0.133179</td>\n",
              "      <td>0.017648</td>\n",
              "    </tr>\n",
              "  </tbody>\n",
              "</table>\n",
              "</div>"
            ],
            "text/plain": [
              "   ancho de ventana  ...  error de prueba(desviación estandar)\n",
              "0              0.05  ...                              0.039773\n",
              "1              0.10  ...                              0.039773\n",
              "2              0.50  ...                              0.026683\n",
              "3              1.00  ...                              0.010944\n",
              "4              2.00  ...                              0.010775\n",
              "5              5.00  ...                              0.017648\n",
              "6             10.00  ...                              0.017648\n",
              "\n",
              "[7 rows x 3 columns]"
            ]
          },
          "metadata": {
            "tags": []
          },
          "execution_count": 22
        }
      ]
    },
    {
      "cell_type": "code",
      "metadata": {
        "cellView": "form",
        "id": "vx9AQMO7lmIs"
      },
      "source": [
        "#@title Pregunta Abierta\n",
        "#@markdown ¿por qué usando una ventana de parzen, no hay necesidad de definir un número de vecinos cercanos? \n",
        "respuesta_4 = \"La ventana de parzen no define vecinos, por el contrario, toma en cuenta todos los datos de entrenamiento para hacer una predicci\\xF3n, la gran diferencia con los k-vecinos es que la ventana de parzen le da peso a todas muestras de entrenamiento segun la distancia a la muestra nueva.\" #@param {type:\"string\"}"
      ],
      "execution_count": null,
      "outputs": []
    },
    {
      "cell_type": "code",
      "metadata": {
        "cellView": "form",
        "id": "Yrq718yylmIu"
      },
      "source": [
        "#@title Pregunta Abierta\n",
        "#@markdown ¿De acuerdo al problema, cual de las dos metodologias de validación usadas en los experimentos es la más recomendada?\n",
        "respuesta_5 = \"Se recomienda utilizar la variaci\\xF3n de cross validation, de modo que nos aseguremos que los resultados  son independientes entre la particion de los datos de entrenamiento y  los datos de prueba. Tambi\\xE9n se tiene en cuenta la cantidad de datos y la rapidez de crear el modelo.\" #@param {type:\"string\"}"
      ],
      "execution_count": null,
      "outputs": []
    },
    {
      "cell_type": "code",
      "metadata": {
        "id": "xHa3qR1ulmIv",
        "colab": {
          "base_uri": "https://localhost:8080/"
        },
        "outputId": "54e16747-5702-4d87-8ad9-ff6aed8e6fcf"
      },
      "source": [
        "GRADER.check_tests()"
      ],
      "execution_count": null,
      "outputs": [
        {
          "output_type": "stream",
          "text": [
            "Todo se ve ok. Asegurate de responder las preguntas abiertas y envia e archivo al formulario ¡buen trabajo!\n"
          ],
          "name": "stdout"
        }
      ]
    },
    {
      "cell_type": "code",
      "metadata": {
        "cellView": "form",
        "id": "v--KrYKQlmIw"
      },
      "source": [
        "#@title Integrantes\n",
        "codigo_integrante_1 ='1035439685' #@param {type:\"string\"}\n",
        "codigo_integrante_2 = '1020485954'  #@param {type:\"string\"}"
      ],
      "execution_count": null,
      "outputs": []
    },
    {
      "cell_type": "markdown",
      "metadata": {
        "id": "XB1mvFqflmIz"
      },
      "source": [
        "----\n",
        "esta linea de codigo va fallar, es de uso exclusivo del los profesores\n"
      ]
    },
    {
      "cell_type": "code",
      "metadata": {
        "id": "YoZbRijflmIz"
      },
      "source": [
        "GRADER.grade()"
      ],
      "execution_count": null,
      "outputs": []
    }
  ]
}